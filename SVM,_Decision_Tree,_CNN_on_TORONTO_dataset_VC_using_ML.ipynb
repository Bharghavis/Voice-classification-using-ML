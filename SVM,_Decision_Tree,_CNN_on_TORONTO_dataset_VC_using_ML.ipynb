{
  "nbformat": 4,
  "nbformat_minor": 0,
  "metadata": {
    "colab": {
      "provenance": [],
      "mount_file_id": "1aKyeQSc66yyVme5QtkKCMrEcIx5aVw0n",
      "authorship_tag": "ABX9TyNxiKo23Kv/rrh1ByTqpZjZ",
      "include_colab_link": true
    },
    "kernelspec": {
      "name": "python3",
      "display_name": "Python 3"
    },
    "language_info": {
      "name": "python"
    }
  },
  "cells": [
    {
      "cell_type": "markdown",
      "metadata": {
        "id": "view-in-github",
        "colab_type": "text"
      },
      "source": [
        "<a href=\"https://colab.research.google.com/github/Bharghavis/Voice-classification-using-ML/blob/main/SVM%2C_Decision_Tree%2C_CNN_on_TORONTO_dataset_VC_using_ML.ipynb\" target=\"_parent\"><img src=\"https://colab.research.google.com/assets/colab-badge.svg\" alt=\"Open In Colab\"/></a>"
      ]
    },
    {
      "cell_type": "markdown",
      "source": [
        "# **Mount to google drive and Download the opensource dataset from kaggle**"
      ],
      "metadata": {
        "id": "1mri4V5vVGeJ"
      }
    },
    {
      "cell_type": "code",
      "execution_count": null,
      "metadata": {
        "colab": {
          "base_uri": "https://localhost:8080/"
        },
        "id": "Cen4bNL_TxAI",
        "outputId": "742e3553-9453-4ecc-db1d-b889763c4932"
      },
      "outputs": [
        {
          "output_type": "stream",
          "name": "stdout",
          "text": [
            "Looking in indexes: https://pypi.org/simple, https://us-python.pkg.dev/colab-wheels/public/simple/\n",
            "Requirement already satisfied: tensorflow==1.14.0 in /usr/local/lib/python3.7/dist-packages (1.14.0)\n",
            "Requirement already satisfied: termcolor>=1.1.0 in /usr/local/lib/python3.7/dist-packages (from tensorflow==1.14.0) (1.1.0)\n",
            "Requirement already satisfied: gast>=0.2.0 in /usr/local/lib/python3.7/dist-packages (from tensorflow==1.14.0) (0.5.3)\n",
            "Requirement already satisfied: protobuf>=3.6.1 in /usr/local/lib/python3.7/dist-packages (from tensorflow==1.14.0) (3.17.3)\n",
            "Requirement already satisfied: wrapt>=1.11.1 in /usr/local/lib/python3.7/dist-packages (from tensorflow==1.14.0) (1.14.1)\n",
            "Requirement already satisfied: grpcio>=1.8.6 in /usr/local/lib/python3.7/dist-packages (from tensorflow==1.14.0) (1.48.1)\n",
            "Requirement already satisfied: keras-preprocessing>=1.0.5 in /usr/local/lib/python3.7/dist-packages (from tensorflow==1.14.0) (1.1.2)\n",
            "Requirement already satisfied: google-pasta>=0.1.6 in /usr/local/lib/python3.7/dist-packages (from tensorflow==1.14.0) (0.2.0)\n",
            "Requirement already satisfied: absl-py>=0.7.0 in /usr/local/lib/python3.7/dist-packages (from tensorflow==1.14.0) (1.2.0)\n",
            "Requirement already satisfied: tensorflow-estimator<1.15.0rc0,>=1.14.0rc0 in /usr/local/lib/python3.7/dist-packages (from tensorflow==1.14.0) (1.14.0)\n",
            "Requirement already satisfied: tensorboard<1.15.0,>=1.14.0 in /usr/local/lib/python3.7/dist-packages (from tensorflow==1.14.0) (1.14.0)\n",
            "Requirement already satisfied: numpy<2.0,>=1.14.5 in /usr/local/lib/python3.7/dist-packages (from tensorflow==1.14.0) (1.21.6)\n",
            "Requirement already satisfied: keras-applications>=1.0.6 in /usr/local/lib/python3.7/dist-packages (from tensorflow==1.14.0) (1.0.8)\n",
            "Requirement already satisfied: wheel>=0.26 in /usr/local/lib/python3.7/dist-packages (from tensorflow==1.14.0) (0.37.1)\n",
            "Requirement already satisfied: astor>=0.6.0 in /usr/local/lib/python3.7/dist-packages (from tensorflow==1.14.0) (0.8.1)\n",
            "Requirement already satisfied: six>=1.10.0 in /usr/local/lib/python3.7/dist-packages (from tensorflow==1.14.0) (1.16.0)\n",
            "Requirement already satisfied: h5py in /usr/local/lib/python3.7/dist-packages (from keras-applications>=1.0.6->tensorflow==1.14.0) (2.10.0)\n",
            "Requirement already satisfied: markdown>=2.6.8 in /usr/local/lib/python3.7/dist-packages (from tensorboard<1.15.0,>=1.14.0->tensorflow==1.14.0) (3.4.1)\n",
            "Requirement already satisfied: setuptools>=41.0.0 in /usr/local/lib/python3.7/dist-packages (from tensorboard<1.15.0,>=1.14.0->tensorflow==1.14.0) (57.4.0)\n",
            "Requirement already satisfied: werkzeug>=0.11.15 in /usr/local/lib/python3.7/dist-packages (from tensorboard<1.15.0,>=1.14.0->tensorflow==1.14.0) (1.0.1)\n",
            "Requirement already satisfied: importlib-metadata>=4.4 in /usr/local/lib/python3.7/dist-packages (from markdown>=2.6.8->tensorboard<1.15.0,>=1.14.0->tensorflow==1.14.0) (4.12.0)\n",
            "Requirement already satisfied: zipp>=0.5 in /usr/local/lib/python3.7/dist-packages (from importlib-metadata>=4.4->markdown>=2.6.8->tensorboard<1.15.0,>=1.14.0->tensorflow==1.14.0) (3.8.1)\n",
            "Requirement already satisfied: typing-extensions>=3.6.4 in /usr/local/lib/python3.7/dist-packages (from importlib-metadata>=4.4->markdown>=2.6.8->tensorboard<1.15.0,>=1.14.0->tensorflow==1.14.0) (4.1.1)\n"
          ]
        }
      ],
      "source": [
        "!pip install tensorflow==1.14.0"
      ]
    },
    {
      "cell_type": "code",
      "source": [
        "from google.colab import drive\n",
        "drive.mount('/content/drive')"
      ],
      "metadata": {
        "colab": {
          "base_uri": "https://localhost:8080/"
        },
        "id": "39vlZJVxT5XY",
        "outputId": "9b542c6f-7c42-48a8-84ab-70f59857db3f"
      },
      "execution_count": null,
      "outputs": [
        {
          "output_type": "stream",
          "name": "stdout",
          "text": [
            "Drive already mounted at /content/drive; to attempt to forcibly remount, call drive.mount(\"/content/drive\", force_remount=True).\n"
          ]
        }
      ]
    },
    {
      "cell_type": "markdown",
      "source": [
        "# **Upload the kaggle.json file Downloaded from the kaggle account**"
      ],
      "metadata": {
        "id": "7XdVI6eRVpu_"
      }
    },
    {
      "cell_type": "code",
      "source": [
        "from google.colab import files\n",
        "!pip install -q kaggle\n",
        "from google.colab import files\n",
        "files.upload()"
      ],
      "metadata": {
        "colab": {
          "base_uri": "https://localhost:8080/",
          "height": 90
        },
        "id": "NZiy_O_fT7n6",
        "outputId": "f2db7bd5-0401-47b5-f877-68eb4c2a5875"
      },
      "execution_count": null,
      "outputs": [
        {
          "output_type": "display_data",
          "data": {
            "text/plain": [
              "<IPython.core.display.HTML object>"
            ],
            "text/html": [
              "\n",
              "     <input type=\"file\" id=\"files-485e0bfd-3d32-49b2-93e6-663ca85e09fd\" name=\"files[]\" multiple disabled\n",
              "        style=\"border:none\" />\n",
              "     <output id=\"result-485e0bfd-3d32-49b2-93e6-663ca85e09fd\">\n",
              "      Upload widget is only available when the cell has been executed in the\n",
              "      current browser session. Please rerun this cell to enable.\n",
              "      </output>\n",
              "      <script>// Copyright 2017 Google LLC\n",
              "//\n",
              "// Licensed under the Apache License, Version 2.0 (the \"License\");\n",
              "// you may not use this file except in compliance with the License.\n",
              "// You may obtain a copy of the License at\n",
              "//\n",
              "//      http://www.apache.org/licenses/LICENSE-2.0\n",
              "//\n",
              "// Unless required by applicable law or agreed to in writing, software\n",
              "// distributed under the License is distributed on an \"AS IS\" BASIS,\n",
              "// WITHOUT WARRANTIES OR CONDITIONS OF ANY KIND, either express or implied.\n",
              "// See the License for the specific language governing permissions and\n",
              "// limitations under the License.\n",
              "\n",
              "/**\n",
              " * @fileoverview Helpers for google.colab Python module.\n",
              " */\n",
              "(function(scope) {\n",
              "function span(text, styleAttributes = {}) {\n",
              "  const element = document.createElement('span');\n",
              "  element.textContent = text;\n",
              "  for (const key of Object.keys(styleAttributes)) {\n",
              "    element.style[key] = styleAttributes[key];\n",
              "  }\n",
              "  return element;\n",
              "}\n",
              "\n",
              "// Max number of bytes which will be uploaded at a time.\n",
              "const MAX_PAYLOAD_SIZE = 100 * 1024;\n",
              "\n",
              "function _uploadFiles(inputId, outputId) {\n",
              "  const steps = uploadFilesStep(inputId, outputId);\n",
              "  const outputElement = document.getElementById(outputId);\n",
              "  // Cache steps on the outputElement to make it available for the next call\n",
              "  // to uploadFilesContinue from Python.\n",
              "  outputElement.steps = steps;\n",
              "\n",
              "  return _uploadFilesContinue(outputId);\n",
              "}\n",
              "\n",
              "// This is roughly an async generator (not supported in the browser yet),\n",
              "// where there are multiple asynchronous steps and the Python side is going\n",
              "// to poll for completion of each step.\n",
              "// This uses a Promise to block the python side on completion of each step,\n",
              "// then passes the result of the previous step as the input to the next step.\n",
              "function _uploadFilesContinue(outputId) {\n",
              "  const outputElement = document.getElementById(outputId);\n",
              "  const steps = outputElement.steps;\n",
              "\n",
              "  const next = steps.next(outputElement.lastPromiseValue);\n",
              "  return Promise.resolve(next.value.promise).then((value) => {\n",
              "    // Cache the last promise value to make it available to the next\n",
              "    // step of the generator.\n",
              "    outputElement.lastPromiseValue = value;\n",
              "    return next.value.response;\n",
              "  });\n",
              "}\n",
              "\n",
              "/**\n",
              " * Generator function which is called between each async step of the upload\n",
              " * process.\n",
              " * @param {string} inputId Element ID of the input file picker element.\n",
              " * @param {string} outputId Element ID of the output display.\n",
              " * @return {!Iterable<!Object>} Iterable of next steps.\n",
              " */\n",
              "function* uploadFilesStep(inputId, outputId) {\n",
              "  const inputElement = document.getElementById(inputId);\n",
              "  inputElement.disabled = false;\n",
              "\n",
              "  const outputElement = document.getElementById(outputId);\n",
              "  outputElement.innerHTML = '';\n",
              "\n",
              "  const pickedPromise = new Promise((resolve) => {\n",
              "    inputElement.addEventListener('change', (e) => {\n",
              "      resolve(e.target.files);\n",
              "    });\n",
              "  });\n",
              "\n",
              "  const cancel = document.createElement('button');\n",
              "  inputElement.parentElement.appendChild(cancel);\n",
              "  cancel.textContent = 'Cancel upload';\n",
              "  const cancelPromise = new Promise((resolve) => {\n",
              "    cancel.onclick = () => {\n",
              "      resolve(null);\n",
              "    };\n",
              "  });\n",
              "\n",
              "  // Wait for the user to pick the files.\n",
              "  const files = yield {\n",
              "    promise: Promise.race([pickedPromise, cancelPromise]),\n",
              "    response: {\n",
              "      action: 'starting',\n",
              "    }\n",
              "  };\n",
              "\n",
              "  cancel.remove();\n",
              "\n",
              "  // Disable the input element since further picks are not allowed.\n",
              "  inputElement.disabled = true;\n",
              "\n",
              "  if (!files) {\n",
              "    return {\n",
              "      response: {\n",
              "        action: 'complete',\n",
              "      }\n",
              "    };\n",
              "  }\n",
              "\n",
              "  for (const file of files) {\n",
              "    const li = document.createElement('li');\n",
              "    li.append(span(file.name, {fontWeight: 'bold'}));\n",
              "    li.append(span(\n",
              "        `(${file.type || 'n/a'}) - ${file.size} bytes, ` +\n",
              "        `last modified: ${\n",
              "            file.lastModifiedDate ? file.lastModifiedDate.toLocaleDateString() :\n",
              "                                    'n/a'} - `));\n",
              "    const percent = span('0% done');\n",
              "    li.appendChild(percent);\n",
              "\n",
              "    outputElement.appendChild(li);\n",
              "\n",
              "    const fileDataPromise = new Promise((resolve) => {\n",
              "      const reader = new FileReader();\n",
              "      reader.onload = (e) => {\n",
              "        resolve(e.target.result);\n",
              "      };\n",
              "      reader.readAsArrayBuffer(file);\n",
              "    });\n",
              "    // Wait for the data to be ready.\n",
              "    let fileData = yield {\n",
              "      promise: fileDataPromise,\n",
              "      response: {\n",
              "        action: 'continue',\n",
              "      }\n",
              "    };\n",
              "\n",
              "    // Use a chunked sending to avoid message size limits. See b/62115660.\n",
              "    let position = 0;\n",
              "    do {\n",
              "      const length = Math.min(fileData.byteLength - position, MAX_PAYLOAD_SIZE);\n",
              "      const chunk = new Uint8Array(fileData, position, length);\n",
              "      position += length;\n",
              "\n",
              "      const base64 = btoa(String.fromCharCode.apply(null, chunk));\n",
              "      yield {\n",
              "        response: {\n",
              "          action: 'append',\n",
              "          file: file.name,\n",
              "          data: base64,\n",
              "        },\n",
              "      };\n",
              "\n",
              "      let percentDone = fileData.byteLength === 0 ?\n",
              "          100 :\n",
              "          Math.round((position / fileData.byteLength) * 100);\n",
              "      percent.textContent = `${percentDone}% done`;\n",
              "\n",
              "    } while (position < fileData.byteLength);\n",
              "  }\n",
              "\n",
              "  // All done.\n",
              "  yield {\n",
              "    response: {\n",
              "      action: 'complete',\n",
              "    }\n",
              "  };\n",
              "}\n",
              "\n",
              "scope.google = scope.google || {};\n",
              "scope.google.colab = scope.google.colab || {};\n",
              "scope.google.colab._files = {\n",
              "  _uploadFiles,\n",
              "  _uploadFilesContinue,\n",
              "};\n",
              "})(self);\n",
              "</script> "
            ]
          },
          "metadata": {}
        },
        {
          "output_type": "stream",
          "name": "stdout",
          "text": [
            "Saving kaggle.json to kaggle.json\n"
          ]
        },
        {
          "output_type": "execute_result",
          "data": {
            "text/plain": [
              "{'kaggle.json': b'{\"username\":\"bharghavis123\",\"key\":\"72728b87f39fe6224167b5c2770d0952\"}'}"
            ]
          },
          "metadata": {},
          "execution_count": 4
        }
      ]
    },
    {
      "cell_type": "code",
      "source": [
        "!mkdir -p ~/.kaggle\n",
        "!cp kaggle.json ~/.kaggle/\n",
        "!chmod 600 ~/.kaggle/kaggle.json"
      ],
      "metadata": {
        "id": "DxIXssScT-YW"
      },
      "execution_count": null,
      "outputs": []
    },
    {
      "cell_type": "code",
      "source": [
        "!kaggle datasets download -d ejlok1/toronto-emotional-speech-set-tess"
      ],
      "metadata": {
        "colab": {
          "base_uri": "https://localhost:8080/"
        },
        "id": "hYSemPtSUNE_",
        "outputId": "ded86d00-4b66-448d-d00c-3a3c0c121bee"
      },
      "execution_count": null,
      "outputs": [
        {
          "output_type": "stream",
          "name": "stdout",
          "text": [
            "Downloading toronto-emotional-speech-set-tess.zip to /content\n",
            " 98% 419M/428M [00:04<00:00, 122MB/s]\n",
            "100% 428M/428M [00:04<00:00, 91.5MB/s]\n"
          ]
        }
      ]
    },
    {
      "cell_type": "code",
      "source": [
        "!ls"
      ],
      "metadata": {
        "colab": {
          "base_uri": "https://localhost:8080/"
        },
        "id": "JNsPw22DUQVR",
        "outputId": "5ff62bb6-9764-46c4-c0e9-22f0808ec9d5"
      },
      "execution_count": null,
      "outputs": [
        {
          "output_type": "stream",
          "name": "stdout",
          "text": [
            "drive  kaggle.json  sample_data  toronto  toronto-emotional-speech-set-tess.zip\n"
          ]
        }
      ]
    },
    {
      "cell_type": "code",
      "source": [
        "!mkdir toronto\n",
        "!unzip toronto-emotional-speech-set-tess.zip -d toronto"
      ],
      "metadata": {
        "colab": {
          "base_uri": "https://localhost:8080/"
        },
        "id": "IitIZOklVIGl",
        "outputId": "44aa59a4-d33a-4095-dbe6-12c256d04ade"
      },
      "execution_count": null,
      "outputs": [
        {
          "output_type": "stream",
          "name": "stdout",
          "text": [
            "mkdir: cannot create directory ‘toronto’: File exists\n",
            "Archive:  toronto-emotional-speech-set-tess.zip\n",
            "replace toronto/TESS Toronto emotional speech set data/OAF_Fear/OAF_back_fear.wav? [y]es, [n]o, [A]ll, [N]one, [r]ename: "
          ]
        }
      ]
    },
    {
      "cell_type": "markdown",
      "source": [
        "# **Import the required libraries and packages**"
      ],
      "metadata": {
        "id": "JXFweMp5WVHT"
      }
    },
    {
      "cell_type": "code",
      "source": [
        "!pip install librosa\n",
        "import librosa\n",
        "from librosa import display\n",
        "import os\n",
        "import pandas as pd\n",
        "import glob "
      ],
      "metadata": {
        "colab": {
          "base_uri": "https://localhost:8080/"
        },
        "id": "S5vn8BkmVKbr",
        "outputId": "23c9c695-ebf9-433e-9f78-9d215e69cc91"
      },
      "execution_count": null,
      "outputs": [
        {
          "output_type": "stream",
          "name": "stdout",
          "text": [
            "Looking in indexes: https://pypi.org/simple, https://us-python.pkg.dev/colab-wheels/public/simple/\n",
            "Requirement already satisfied: librosa in /usr/local/lib/python3.7/dist-packages (0.8.1)\n",
            "Requirement already satisfied: pooch>=1.0 in /usr/local/lib/python3.7/dist-packages (from librosa) (1.6.0)\n",
            "Requirement already satisfied: packaging>=20.0 in /usr/local/lib/python3.7/dist-packages (from librosa) (21.3)\n",
            "Requirement already satisfied: soundfile>=0.10.2 in /usr/local/lib/python3.7/dist-packages (from librosa) (0.10.3.post1)\n",
            "Requirement already satisfied: decorator>=3.0.0 in /usr/local/lib/python3.7/dist-packages (from librosa) (4.4.2)\n",
            "Requirement already satisfied: audioread>=2.0.0 in /usr/local/lib/python3.7/dist-packages (from librosa) (3.0.0)\n",
            "Requirement already satisfied: resampy>=0.2.2 in /usr/local/lib/python3.7/dist-packages (from librosa) (0.4.0)\n",
            "Requirement already satisfied: joblib>=0.14 in /usr/local/lib/python3.7/dist-packages (from librosa) (1.1.0)\n",
            "Requirement already satisfied: numba>=0.43.0 in /usr/local/lib/python3.7/dist-packages (from librosa) (0.56.2)\n",
            "Requirement already satisfied: scikit-learn!=0.19.0,>=0.14.0 in /usr/local/lib/python3.7/dist-packages (from librosa) (1.0.2)\n",
            "Requirement already satisfied: numpy>=1.15.0 in /usr/local/lib/python3.7/dist-packages (from librosa) (1.21.6)\n",
            "Requirement already satisfied: scipy>=1.0.0 in /usr/local/lib/python3.7/dist-packages (from librosa) (1.7.3)\n",
            "Requirement already satisfied: importlib-metadata in /usr/local/lib/python3.7/dist-packages (from numba>=0.43.0->librosa) (4.12.0)\n",
            "Requirement already satisfied: setuptools<60 in /usr/local/lib/python3.7/dist-packages (from numba>=0.43.0->librosa) (57.4.0)\n",
            "Requirement already satisfied: llvmlite<0.40,>=0.39.0dev0 in /usr/local/lib/python3.7/dist-packages (from numba>=0.43.0->librosa) (0.39.1)\n",
            "Requirement already satisfied: pyparsing!=3.0.5,>=2.0.2 in /usr/local/lib/python3.7/dist-packages (from packaging>=20.0->librosa) (3.0.9)\n",
            "Requirement already satisfied: requests>=2.19.0 in /usr/local/lib/python3.7/dist-packages (from pooch>=1.0->librosa) (2.23.0)\n",
            "Requirement already satisfied: appdirs>=1.3.0 in /usr/local/lib/python3.7/dist-packages (from pooch>=1.0->librosa) (1.4.4)\n",
            "Requirement already satisfied: chardet<4,>=3.0.2 in /usr/local/lib/python3.7/dist-packages (from requests>=2.19.0->pooch>=1.0->librosa) (3.0.4)\n",
            "Requirement already satisfied: certifi>=2017.4.17 in /usr/local/lib/python3.7/dist-packages (from requests>=2.19.0->pooch>=1.0->librosa) (2022.6.15)\n",
            "Requirement already satisfied: idna<3,>=2.5 in /usr/local/lib/python3.7/dist-packages (from requests>=2.19.0->pooch>=1.0->librosa) (2.10)\n",
            "Requirement already satisfied: urllib3!=1.25.0,!=1.25.1,<1.26,>=1.21.1 in /usr/local/lib/python3.7/dist-packages (from requests>=2.19.0->pooch>=1.0->librosa) (1.24.3)\n",
            "Requirement already satisfied: threadpoolctl>=2.0.0 in /usr/local/lib/python3.7/dist-packages (from scikit-learn!=0.19.0,>=0.14.0->librosa) (3.1.0)\n",
            "Requirement already satisfied: cffi>=1.0 in /usr/local/lib/python3.7/dist-packages (from soundfile>=0.10.2->librosa) (1.15.1)\n",
            "Requirement already satisfied: pycparser in /usr/local/lib/python3.7/dist-packages (from cffi>=1.0->soundfile>=0.10.2->librosa) (2.21)\n",
            "Requirement already satisfied: typing-extensions>=3.6.4 in /usr/local/lib/python3.7/dist-packages (from importlib-metadata->numba>=0.43.0->librosa) (4.1.1)\n",
            "Requirement already satisfied: zipp>=0.5 in /usr/local/lib/python3.7/dist-packages (from importlib-metadata->numba>=0.43.0->librosa) (3.8.1)\n"
          ]
        }
      ]
    },
    {
      "cell_type": "code",
      "source": [
        "dir_list = os.listdir('/content/toronto/TESS Toronto emotional speech set data')\n",
        "dir_list.sort()\n",
        "dir_list"
      ],
      "metadata": {
        "colab": {
          "base_uri": "https://localhost:8080/"
        },
        "id": "cYD89sUWVZnf",
        "outputId": "2575b38e-9857-46fb-c53b-bb5ed33a2389"
      },
      "execution_count": null,
      "outputs": [
        {
          "output_type": "execute_result",
          "data": {
            "text/plain": [
              "['OAF_Fear',\n",
              " 'OAF_Pleasant_surprise',\n",
              " 'OAF_Sad',\n",
              " 'OAF_angry',\n",
              " 'OAF_disgust',\n",
              " 'OAF_happy',\n",
              " 'OAF_neutral',\n",
              " 'YAF_angry',\n",
              " 'YAF_disgust',\n",
              " 'YAF_fear',\n",
              " 'YAF_happy',\n",
              " 'YAF_neutral',\n",
              " 'YAF_pleasant_surprised',\n",
              " 'YAF_sad']"
            ]
          },
          "metadata": {},
          "execution_count": 11
        }
      ]
    },
    {
      "cell_type": "markdown",
      "source": [
        "**Upload the TESS dataset through the toronto directory created**"
      ],
      "metadata": {
        "id": "8Jel8LSeWpBO"
      }
    },
    {
      "cell_type": "code",
      "source": [
        "import time\n",
        "import numpy as np\n",
        "\n",
        "path = '/content/toronto/TESS Toronto emotional speech set data/'\n",
        "lst = []\n",
        "\n",
        "start_time = time.time()  \n",
        "\n",
        "for subdir, dirs, files in os.walk(path):\n",
        "  for file in files:\n",
        "      try:\n",
        "        #Load librosa array, obtain mfcss, store the file and the mcss information in a new array\n",
        "        X, sample_rate = librosa.load(os.path.join(subdir,file), res_type='kaiser_fast')\n",
        "        mfccs = np.mean(librosa.feature.mfcc(y=X, sr=sample_rate, n_mfcc=200).T,axis=0) \n",
        "        # The instruction below converts the labels (from 1 to 8) to a series from 0 to 7\n",
        "        # This is because our predictor needs to start from 0 otherwise it will try to predict also 0.\n",
        "        #file = int(file[7:8]) \n",
        "        arr = mfccs\n",
        "        lst.append(arr)\n",
        "      # If the file is not valid, skip it\n",
        "      except ValueError:\n",
        "        continue\n",
        "\n",
        "print(\"--- Data loaded. Loading time: %s seconds ---\" % (time.time() - start_time))"
      ],
      "metadata": {
        "colab": {
          "base_uri": "https://localhost:8080/"
        },
        "id": "8J7_ii-IVaeY",
        "outputId": "a962797b-5ece-41c4-c84f-f0c01e2c2f4f"
      },
      "execution_count": null,
      "outputs": [
        {
          "output_type": "stream",
          "name": "stdout",
          "text": [
            "--- Data loaded. Loading time: 126.72135782241821 seconds ---\n"
          ]
        }
      ]
    },
    {
      "cell_type": "code",
      "source": [
        "print(lst)"
      ],
      "metadata": {
        "colab": {
          "base_uri": "https://localhost:8080/"
        },
        "id": "1-lS-HzaVdmB",
        "outputId": "a28047d7-1cfb-4250-e14d-b6005bb55dc5"
      },
      "execution_count": null,
      "outputs": [
        {
          "output_type": "stream",
          "name": "stderr",
          "text": [
            "IOPub data rate exceeded.\n",
            "The notebook server will temporarily stop sending output\n",
            "to the client in order to avoid crashing it.\n",
            "To change this limit, set the config variable\n",
            "`--NotebookApp.iopub_data_rate_limit`.\n",
            "\n",
            "Current values:\n",
            "NotebookApp.iopub_data_rate_limit=1000000.0 (bytes/sec)\n",
            "NotebookApp.rate_limit_window=3.0 (secs)\n",
            "\n"
          ]
        }
      ]
    },
    {
      "cell_type": "markdown",
      "source": [
        "**Labelling the wav files and storing the numbers in list y : 0 = angry, 1 = disgust, 2 = fear, 3 = happy, 4 = neutral, 5 = surprise, 6 = sad**"
      ],
      "metadata": {
        "id": "mFNLkd-kW8q_"
      }
    },
    {
      "cell_type": "code",
      "source": [
        "TESS= '/content/toronto/TESS Toronto emotional speech set data/'\n",
        "path = []\n",
        "emotion = []\n",
        "y=[]\n",
        "\n",
        "for i in dir_list:\n",
        "    fname = os.listdir('/content/toronto/TESS Toronto emotional speech set data/' + i)\n",
        "    for f in fname:\n",
        "        if i == 'OAF_angry' or i == 'YAF_angry':\n",
        "            emotion.append('female_angry')\n",
        "            y.append(0)\n",
        "        elif i == 'OAF_disgust' or i == 'YAF_disgust':\n",
        "            emotion.append('female_disgust')\n",
        "            y.append(1)\n",
        "        elif i == 'OAF_Fear' or i == 'YAF_fear':\n",
        "            emotion.append('female_fear')\n",
        "            y.append(2)\n",
        "        elif i == 'OAF_happy' or i == 'YAF_happy':\n",
        "            emotion.append('female_happy')\n",
        "            y.append(3)\n",
        "        elif i == 'OAF_neutral' or i == 'YAF_neutral':\n",
        "            emotion.append('female_neutral')\n",
        "            y.append(4)                                \n",
        "        elif i == 'OAF_Pleasant_surprise' or i == 'YAF_pleasant_surprised':\n",
        "            emotion.append('female_surprise') \n",
        "            y.append(5)              \n",
        "        elif i == 'OAF_Sad' or i == 'YAF_sad':\n",
        "            emotion.append('female_sad')\n",
        "            y.append(6)\n",
        "        else:\n",
        "            emotion.append('Unknown')\n",
        "        path.append(TESS + i + \"/\" + f)\n",
        "\n",
        "TESS_df = pd.DataFrame(emotion, columns = ['labels'])\n",
        "TESS_df['source'] = 'TESS'\n",
        "TESS_df = pd.concat([TESS_df,pd.DataFrame(path, columns = ['path'])],axis=1)\n",
        "TESS_df.labels.value_counts()"
      ],
      "metadata": {
        "colab": {
          "base_uri": "https://localhost:8080/"
        },
        "id": "9ftCG0yXVdeH",
        "outputId": "3806b632-0eef-4337-be80-bc49d5706dfc"
      },
      "execution_count": null,
      "outputs": [
        {
          "output_type": "execute_result",
          "data": {
            "text/plain": [
              "female_fear        400\n",
              "female_surprise    400\n",
              "female_sad         400\n",
              "female_angry       400\n",
              "female_disgust     400\n",
              "female_happy       400\n",
              "female_neutral     400\n",
              "Name: labels, dtype: int64"
            ]
          },
          "metadata": {},
          "execution_count": 14
        }
      ]
    },
    {
      "cell_type": "code",
      "source": [
        "print(y)"
      ],
      "metadata": {
        "colab": {
          "base_uri": "https://localhost:8080/"
        },
        "id": "auWsB8KgViQR",
        "outputId": "8ef3c7a1-eccb-4d23-e1e9-a53056fbdb4a"
      },
      "execution_count": null,
      "outputs": [
        {
          "output_type": "stream",
          "name": "stdout",
          "text": [
            "[2, 2, 2, 2, 2, 2, 2, 2, 2, 2, 2, 2, 2, 2, 2, 2, 2, 2, 2, 2, 2, 2, 2, 2, 2, 2, 2, 2, 2, 2, 2, 2, 2, 2, 2, 2, 2, 2, 2, 2, 2, 2, 2, 2, 2, 2, 2, 2, 2, 2, 2, 2, 2, 2, 2, 2, 2, 2, 2, 2, 2, 2, 2, 2, 2, 2, 2, 2, 2, 2, 2, 2, 2, 2, 2, 2, 2, 2, 2, 2, 2, 2, 2, 2, 2, 2, 2, 2, 2, 2, 2, 2, 2, 2, 2, 2, 2, 2, 2, 2, 2, 2, 2, 2, 2, 2, 2, 2, 2, 2, 2, 2, 2, 2, 2, 2, 2, 2, 2, 2, 2, 2, 2, 2, 2, 2, 2, 2, 2, 2, 2, 2, 2, 2, 2, 2, 2, 2, 2, 2, 2, 2, 2, 2, 2, 2, 2, 2, 2, 2, 2, 2, 2, 2, 2, 2, 2, 2, 2, 2, 2, 2, 2, 2, 2, 2, 2, 2, 2, 2, 2, 2, 2, 2, 2, 2, 2, 2, 2, 2, 2, 2, 2, 2, 2, 2, 2, 2, 2, 2, 2, 2, 2, 2, 2, 2, 2, 2, 2, 2, 5, 5, 5, 5, 5, 5, 5, 5, 5, 5, 5, 5, 5, 5, 5, 5, 5, 5, 5, 5, 5, 5, 5, 5, 5, 5, 5, 5, 5, 5, 5, 5, 5, 5, 5, 5, 5, 5, 5, 5, 5, 5, 5, 5, 5, 5, 5, 5, 5, 5, 5, 5, 5, 5, 5, 5, 5, 5, 5, 5, 5, 5, 5, 5, 5, 5, 5, 5, 5, 5, 5, 5, 5, 5, 5, 5, 5, 5, 5, 5, 5, 5, 5, 5, 5, 5, 5, 5, 5, 5, 5, 5, 5, 5, 5, 5, 5, 5, 5, 5, 5, 5, 5, 5, 5, 5, 5, 5, 5, 5, 5, 5, 5, 5, 5, 5, 5, 5, 5, 5, 5, 5, 5, 5, 5, 5, 5, 5, 5, 5, 5, 5, 5, 5, 5, 5, 5, 5, 5, 5, 5, 5, 5, 5, 5, 5, 5, 5, 5, 5, 5, 5, 5, 5, 5, 5, 5, 5, 5, 5, 5, 5, 5, 5, 5, 5, 5, 5, 5, 5, 5, 5, 5, 5, 5, 5, 5, 5, 5, 5, 5, 5, 5, 5, 5, 5, 5, 5, 5, 5, 5, 5, 5, 5, 5, 5, 5, 5, 5, 5, 6, 6, 6, 6, 6, 6, 6, 6, 6, 6, 6, 6, 6, 6, 6, 6, 6, 6, 6, 6, 6, 6, 6, 6, 6, 6, 6, 6, 6, 6, 6, 6, 6, 6, 6, 6, 6, 6, 6, 6, 6, 6, 6, 6, 6, 6, 6, 6, 6, 6, 6, 6, 6, 6, 6, 6, 6, 6, 6, 6, 6, 6, 6, 6, 6, 6, 6, 6, 6, 6, 6, 6, 6, 6, 6, 6, 6, 6, 6, 6, 6, 6, 6, 6, 6, 6, 6, 6, 6, 6, 6, 6, 6, 6, 6, 6, 6, 6, 6, 6, 6, 6, 6, 6, 6, 6, 6, 6, 6, 6, 6, 6, 6, 6, 6, 6, 6, 6, 6, 6, 6, 6, 6, 6, 6, 6, 6, 6, 6, 6, 6, 6, 6, 6, 6, 6, 6, 6, 6, 6, 6, 6, 6, 6, 6, 6, 6, 6, 6, 6, 6, 6, 6, 6, 6, 6, 6, 6, 6, 6, 6, 6, 6, 6, 6, 6, 6, 6, 6, 6, 6, 6, 6, 6, 6, 6, 6, 6, 6, 6, 6, 6, 6, 6, 6, 6, 6, 6, 6, 6, 6, 6, 6, 6, 6, 6, 6, 6, 6, 6, 0, 0, 0, 0, 0, 0, 0, 0, 0, 0, 0, 0, 0, 0, 0, 0, 0, 0, 0, 0, 0, 0, 0, 0, 0, 0, 0, 0, 0, 0, 0, 0, 0, 0, 0, 0, 0, 0, 0, 0, 0, 0, 0, 0, 0, 0, 0, 0, 0, 0, 0, 0, 0, 0, 0, 0, 0, 0, 0, 0, 0, 0, 0, 0, 0, 0, 0, 0, 0, 0, 0, 0, 0, 0, 0, 0, 0, 0, 0, 0, 0, 0, 0, 0, 0, 0, 0, 0, 0, 0, 0, 0, 0, 0, 0, 0, 0, 0, 0, 0, 0, 0, 0, 0, 0, 0, 0, 0, 0, 0, 0, 0, 0, 0, 0, 0, 0, 0, 0, 0, 0, 0, 0, 0, 0, 0, 0, 0, 0, 0, 0, 0, 0, 0, 0, 0, 0, 0, 0, 0, 0, 0, 0, 0, 0, 0, 0, 0, 0, 0, 0, 0, 0, 0, 0, 0, 0, 0, 0, 0, 0, 0, 0, 0, 0, 0, 0, 0, 0, 0, 0, 0, 0, 0, 0, 0, 0, 0, 0, 0, 0, 0, 0, 0, 0, 0, 0, 0, 0, 0, 0, 0, 0, 0, 0, 0, 0, 0, 0, 0, 1, 1, 1, 1, 1, 1, 1, 1, 1, 1, 1, 1, 1, 1, 1, 1, 1, 1, 1, 1, 1, 1, 1, 1, 1, 1, 1, 1, 1, 1, 1, 1, 1, 1, 1, 1, 1, 1, 1, 1, 1, 1, 1, 1, 1, 1, 1, 1, 1, 1, 1, 1, 1, 1, 1, 1, 1, 1, 1, 1, 1, 1, 1, 1, 1, 1, 1, 1, 1, 1, 1, 1, 1, 1, 1, 1, 1, 1, 1, 1, 1, 1, 1, 1, 1, 1, 1, 1, 1, 1, 1, 1, 1, 1, 1, 1, 1, 1, 1, 1, 1, 1, 1, 1, 1, 1, 1, 1, 1, 1, 1, 1, 1, 1, 1, 1, 1, 1, 1, 1, 1, 1, 1, 1, 1, 1, 1, 1, 1, 1, 1, 1, 1, 1, 1, 1, 1, 1, 1, 1, 1, 1, 1, 1, 1, 1, 1, 1, 1, 1, 1, 1, 1, 1, 1, 1, 1, 1, 1, 1, 1, 1, 1, 1, 1, 1, 1, 1, 1, 1, 1, 1, 1, 1, 1, 1, 1, 1, 1, 1, 1, 1, 1, 1, 1, 1, 1, 1, 1, 1, 1, 1, 1, 1, 1, 1, 1, 1, 1, 1, 3, 3, 3, 3, 3, 3, 3, 3, 3, 3, 3, 3, 3, 3, 3, 3, 3, 3, 3, 3, 3, 3, 3, 3, 3, 3, 3, 3, 3, 3, 3, 3, 3, 3, 3, 3, 3, 3, 3, 3, 3, 3, 3, 3, 3, 3, 3, 3, 3, 3, 3, 3, 3, 3, 3, 3, 3, 3, 3, 3, 3, 3, 3, 3, 3, 3, 3, 3, 3, 3, 3, 3, 3, 3, 3, 3, 3, 3, 3, 3, 3, 3, 3, 3, 3, 3, 3, 3, 3, 3, 3, 3, 3, 3, 3, 3, 3, 3, 3, 3, 3, 3, 3, 3, 3, 3, 3, 3, 3, 3, 3, 3, 3, 3, 3, 3, 3, 3, 3, 3, 3, 3, 3, 3, 3, 3, 3, 3, 3, 3, 3, 3, 3, 3, 3, 3, 3, 3, 3, 3, 3, 3, 3, 3, 3, 3, 3, 3, 3, 3, 3, 3, 3, 3, 3, 3, 3, 3, 3, 3, 3, 3, 3, 3, 3, 3, 3, 3, 3, 3, 3, 3, 3, 3, 3, 3, 3, 3, 3, 3, 3, 3, 3, 3, 3, 3, 3, 3, 3, 3, 3, 3, 3, 3, 3, 3, 3, 3, 3, 3, 4, 4, 4, 4, 4, 4, 4, 4, 4, 4, 4, 4, 4, 4, 4, 4, 4, 4, 4, 4, 4, 4, 4, 4, 4, 4, 4, 4, 4, 4, 4, 4, 4, 4, 4, 4, 4, 4, 4, 4, 4, 4, 4, 4, 4, 4, 4, 4, 4, 4, 4, 4, 4, 4, 4, 4, 4, 4, 4, 4, 4, 4, 4, 4, 4, 4, 4, 4, 4, 4, 4, 4, 4, 4, 4, 4, 4, 4, 4, 4, 4, 4, 4, 4, 4, 4, 4, 4, 4, 4, 4, 4, 4, 4, 4, 4, 4, 4, 4, 4, 4, 4, 4, 4, 4, 4, 4, 4, 4, 4, 4, 4, 4, 4, 4, 4, 4, 4, 4, 4, 4, 4, 4, 4, 4, 4, 4, 4, 4, 4, 4, 4, 4, 4, 4, 4, 4, 4, 4, 4, 4, 4, 4, 4, 4, 4, 4, 4, 4, 4, 4, 4, 4, 4, 4, 4, 4, 4, 4, 4, 4, 4, 4, 4, 4, 4, 4, 4, 4, 4, 4, 4, 4, 4, 4, 4, 4, 4, 4, 4, 4, 4, 4, 4, 4, 4, 4, 4, 4, 4, 4, 4, 4, 4, 4, 4, 4, 4, 4, 4, 0, 0, 0, 0, 0, 0, 0, 0, 0, 0, 0, 0, 0, 0, 0, 0, 0, 0, 0, 0, 0, 0, 0, 0, 0, 0, 0, 0, 0, 0, 0, 0, 0, 0, 0, 0, 0, 0, 0, 0, 0, 0, 0, 0, 0, 0, 0, 0, 0, 0, 0, 0, 0, 0, 0, 0, 0, 0, 0, 0, 0, 0, 0, 0, 0, 0, 0, 0, 0, 0, 0, 0, 0, 0, 0, 0, 0, 0, 0, 0, 0, 0, 0, 0, 0, 0, 0, 0, 0, 0, 0, 0, 0, 0, 0, 0, 0, 0, 0, 0, 0, 0, 0, 0, 0, 0, 0, 0, 0, 0, 0, 0, 0, 0, 0, 0, 0, 0, 0, 0, 0, 0, 0, 0, 0, 0, 0, 0, 0, 0, 0, 0, 0, 0, 0, 0, 0, 0, 0, 0, 0, 0, 0, 0, 0, 0, 0, 0, 0, 0, 0, 0, 0, 0, 0, 0, 0, 0, 0, 0, 0, 0, 0, 0, 0, 0, 0, 0, 0, 0, 0, 0, 0, 0, 0, 0, 0, 0, 0, 0, 0, 0, 0, 0, 0, 0, 0, 0, 0, 0, 0, 0, 0, 0, 0, 0, 0, 0, 0, 0, 1, 1, 1, 1, 1, 1, 1, 1, 1, 1, 1, 1, 1, 1, 1, 1, 1, 1, 1, 1, 1, 1, 1, 1, 1, 1, 1, 1, 1, 1, 1, 1, 1, 1, 1, 1, 1, 1, 1, 1, 1, 1, 1, 1, 1, 1, 1, 1, 1, 1, 1, 1, 1, 1, 1, 1, 1, 1, 1, 1, 1, 1, 1, 1, 1, 1, 1, 1, 1, 1, 1, 1, 1, 1, 1, 1, 1, 1, 1, 1, 1, 1, 1, 1, 1, 1, 1, 1, 1, 1, 1, 1, 1, 1, 1, 1, 1, 1, 1, 1, 1, 1, 1, 1, 1, 1, 1, 1, 1, 1, 1, 1, 1, 1, 1, 1, 1, 1, 1, 1, 1, 1, 1, 1, 1, 1, 1, 1, 1, 1, 1, 1, 1, 1, 1, 1, 1, 1, 1, 1, 1, 1, 1, 1, 1, 1, 1, 1, 1, 1, 1, 1, 1, 1, 1, 1, 1, 1, 1, 1, 1, 1, 1, 1, 1, 1, 1, 1, 1, 1, 1, 1, 1, 1, 1, 1, 1, 1, 1, 1, 1, 1, 1, 1, 1, 1, 1, 1, 1, 1, 1, 1, 1, 1, 1, 1, 1, 1, 1, 1, 2, 2, 2, 2, 2, 2, 2, 2, 2, 2, 2, 2, 2, 2, 2, 2, 2, 2, 2, 2, 2, 2, 2, 2, 2, 2, 2, 2, 2, 2, 2, 2, 2, 2, 2, 2, 2, 2, 2, 2, 2, 2, 2, 2, 2, 2, 2, 2, 2, 2, 2, 2, 2, 2, 2, 2, 2, 2, 2, 2, 2, 2, 2, 2, 2, 2, 2, 2, 2, 2, 2, 2, 2, 2, 2, 2, 2, 2, 2, 2, 2, 2, 2, 2, 2, 2, 2, 2, 2, 2, 2, 2, 2, 2, 2, 2, 2, 2, 2, 2, 2, 2, 2, 2, 2, 2, 2, 2, 2, 2, 2, 2, 2, 2, 2, 2, 2, 2, 2, 2, 2, 2, 2, 2, 2, 2, 2, 2, 2, 2, 2, 2, 2, 2, 2, 2, 2, 2, 2, 2, 2, 2, 2, 2, 2, 2, 2, 2, 2, 2, 2, 2, 2, 2, 2, 2, 2, 2, 2, 2, 2, 2, 2, 2, 2, 2, 2, 2, 2, 2, 2, 2, 2, 2, 2, 2, 2, 2, 2, 2, 2, 2, 2, 2, 2, 2, 2, 2, 2, 2, 2, 2, 2, 2, 2, 2, 2, 2, 2, 2, 3, 3, 3, 3, 3, 3, 3, 3, 3, 3, 3, 3, 3, 3, 3, 3, 3, 3, 3, 3, 3, 3, 3, 3, 3, 3, 3, 3, 3, 3, 3, 3, 3, 3, 3, 3, 3, 3, 3, 3, 3, 3, 3, 3, 3, 3, 3, 3, 3, 3, 3, 3, 3, 3, 3, 3, 3, 3, 3, 3, 3, 3, 3, 3, 3, 3, 3, 3, 3, 3, 3, 3, 3, 3, 3, 3, 3, 3, 3, 3, 3, 3, 3, 3, 3, 3, 3, 3, 3, 3, 3, 3, 3, 3, 3, 3, 3, 3, 3, 3, 3, 3, 3, 3, 3, 3, 3, 3, 3, 3, 3, 3, 3, 3, 3, 3, 3, 3, 3, 3, 3, 3, 3, 3, 3, 3, 3, 3, 3, 3, 3, 3, 3, 3, 3, 3, 3, 3, 3, 3, 3, 3, 3, 3, 3, 3, 3, 3, 3, 3, 3, 3, 3, 3, 3, 3, 3, 3, 3, 3, 3, 3, 3, 3, 3, 3, 3, 3, 3, 3, 3, 3, 3, 3, 3, 3, 3, 3, 3, 3, 3, 3, 3, 3, 3, 3, 3, 3, 3, 3, 3, 3, 3, 3, 3, 3, 3, 3, 3, 3, 4, 4, 4, 4, 4, 4, 4, 4, 4, 4, 4, 4, 4, 4, 4, 4, 4, 4, 4, 4, 4, 4, 4, 4, 4, 4, 4, 4, 4, 4, 4, 4, 4, 4, 4, 4, 4, 4, 4, 4, 4, 4, 4, 4, 4, 4, 4, 4, 4, 4, 4, 4, 4, 4, 4, 4, 4, 4, 4, 4, 4, 4, 4, 4, 4, 4, 4, 4, 4, 4, 4, 4, 4, 4, 4, 4, 4, 4, 4, 4, 4, 4, 4, 4, 4, 4, 4, 4, 4, 4, 4, 4, 4, 4, 4, 4, 4, 4, 4, 4, 4, 4, 4, 4, 4, 4, 4, 4, 4, 4, 4, 4, 4, 4, 4, 4, 4, 4, 4, 4, 4, 4, 4, 4, 4, 4, 4, 4, 4, 4, 4, 4, 4, 4, 4, 4, 4, 4, 4, 4, 4, 4, 4, 4, 4, 4, 4, 4, 4, 4, 4, 4, 4, 4, 4, 4, 4, 4, 4, 4, 4, 4, 4, 4, 4, 4, 4, 4, 4, 4, 4, 4, 4, 4, 4, 4, 4, 4, 4, 4, 4, 4, 4, 4, 4, 4, 4, 4, 4, 4, 4, 4, 4, 4, 4, 4, 4, 4, 4, 4, 5, 5, 5, 5, 5, 5, 5, 5, 5, 5, 5, 5, 5, 5, 5, 5, 5, 5, 5, 5, 5, 5, 5, 5, 5, 5, 5, 5, 5, 5, 5, 5, 5, 5, 5, 5, 5, 5, 5, 5, 5, 5, 5, 5, 5, 5, 5, 5, 5, 5, 5, 5, 5, 5, 5, 5, 5, 5, 5, 5, 5, 5, 5, 5, 5, 5, 5, 5, 5, 5, 5, 5, 5, 5, 5, 5, 5, 5, 5, 5, 5, 5, 5, 5, 5, 5, 5, 5, 5, 5, 5, 5, 5, 5, 5, 5, 5, 5, 5, 5, 5, 5, 5, 5, 5, 5, 5, 5, 5, 5, 5, 5, 5, 5, 5, 5, 5, 5, 5, 5, 5, 5, 5, 5, 5, 5, 5, 5, 5, 5, 5, 5, 5, 5, 5, 5, 5, 5, 5, 5, 5, 5, 5, 5, 5, 5, 5, 5, 5, 5, 5, 5, 5, 5, 5, 5, 5, 5, 5, 5, 5, 5, 5, 5, 5, 5, 5, 5, 5, 5, 5, 5, 5, 5, 5, 5, 5, 5, 5, 5, 5, 5, 5, 5, 5, 5, 5, 5, 5, 5, 5, 5, 5, 5, 5, 5, 5, 5, 5, 5, 6, 6, 6, 6, 6, 6, 6, 6, 6, 6, 6, 6, 6, 6, 6, 6, 6, 6, 6, 6, 6, 6, 6, 6, 6, 6, 6, 6, 6, 6, 6, 6, 6, 6, 6, 6, 6, 6, 6, 6, 6, 6, 6, 6, 6, 6, 6, 6, 6, 6, 6, 6, 6, 6, 6, 6, 6, 6, 6, 6, 6, 6, 6, 6, 6, 6, 6, 6, 6, 6, 6, 6, 6, 6, 6, 6, 6, 6, 6, 6, 6, 6, 6, 6, 6, 6, 6, 6, 6, 6, 6, 6, 6, 6, 6, 6, 6, 6, 6, 6, 6, 6, 6, 6, 6, 6, 6, 6, 6, 6, 6, 6, 6, 6, 6, 6, 6, 6, 6, 6, 6, 6, 6, 6, 6, 6, 6, 6, 6, 6, 6, 6, 6, 6, 6, 6, 6, 6, 6, 6, 6, 6, 6, 6, 6, 6, 6, 6, 6, 6, 6, 6, 6, 6, 6, 6, 6, 6, 6, 6, 6, 6, 6, 6, 6, 6, 6, 6, 6, 6, 6, 6, 6, 6, 6, 6, 6, 6, 6, 6, 6, 6, 6, 6, 6, 6, 6, 6, 6, 6, 6, 6, 6, 6, 6, 6, 6, 6, 6, 6]\n"
          ]
        }
      ]
    },
    {
      "cell_type": "code",
      "source": [
        "len(y)"
      ],
      "metadata": {
        "colab": {
          "base_uri": "https://localhost:8080/"
        },
        "id": "in0-ACEAVkMi",
        "outputId": "8c66a56c-33d6-4c7c-da84-2c0541d8ad3b"
      },
      "execution_count": null,
      "outputs": [
        {
          "output_type": "execute_result",
          "data": {
            "text/plain": [
              "2800"
            ]
          },
          "metadata": {},
          "execution_count": 16
        }
      ]
    },
    {
      "cell_type": "code",
      "source": [
        "len(lst)"
      ],
      "metadata": {
        "colab": {
          "base_uri": "https://localhost:8080/"
        },
        "id": "w7W3lgYmVmhW",
        "outputId": "05b7fff9-6082-40a0-ad9c-253efd471b94"
      },
      "execution_count": null,
      "outputs": [
        {
          "output_type": "execute_result",
          "data": {
            "text/plain": [
              "2800"
            ]
          },
          "metadata": {},
          "execution_count": 17
        }
      ]
    },
    {
      "cell_type": "code",
      "source": [
        "lst =np.asarray(lst)\n",
        "y=np.asarray(y)"
      ],
      "metadata": {
        "id": "GPE74yvSVooH"
      },
      "execution_count": null,
      "outputs": []
    },
    {
      "cell_type": "markdown",
      "source": [
        "# **DESICION TREE CLASSIFIER**"
      ],
      "metadata": {
        "id": "llBgr7wZXLZV"
      }
    },
    {
      "cell_type": "code",
      "source": [
        "from sklearn.model_selection import train_test_split\n",
        "X_train, X_test, y_train, y_test = train_test_split(lst, y, test_size=0.33, random_state=42)"
      ],
      "metadata": {
        "id": "DP3SFwE8Vras"
      },
      "execution_count": null,
      "outputs": []
    },
    {
      "cell_type": "code",
      "source": [
        "X_train.shape, X_test.shape, y_train.shape, y_test.shape"
      ],
      "metadata": {
        "colab": {
          "base_uri": "https://localhost:8080/"
        },
        "id": "kYIJmCOOVtQT",
        "outputId": "d819c7e3-8098-4c18-b70f-99bd1eb48bf4"
      },
      "execution_count": null,
      "outputs": [
        {
          "output_type": "execute_result",
          "data": {
            "text/plain": [
              "((1876, 128), (924, 128), (1876,), (924,))"
            ]
          },
          "metadata": {},
          "execution_count": 20
        }
      ]
    },
    {
      "cell_type": "code",
      "source": [
        "X_train.astype, X_test.astype, y_train.astype, y_test.astype"
      ],
      "metadata": {
        "colab": {
          "base_uri": "https://localhost:8080/"
        },
        "id": "I7EgoV4hVu6z",
        "outputId": "8b33f4e4-7b5b-4c7d-e6cf-53ecc8c17e7a"
      },
      "execution_count": null,
      "outputs": [
        {
          "output_type": "execute_result",
          "data": {
            "text/plain": [
              "(<function ndarray.astype>,\n",
              " <function ndarray.astype>,\n",
              " <function ndarray.astype>,\n",
              " <function ndarray.astype>)"
            ]
          },
          "metadata": {},
          "execution_count": 21
        }
      ]
    },
    {
      "cell_type": "code",
      "source": [
        "from sklearn.tree import DecisionTreeClassifier\n",
        "from sklearn.metrics import accuracy_score\n",
        "\n",
        "dtree = DecisionTreeClassifier()\n",
        "\n",
        "dtree.fit(X_train, y_train)\n",
        "predictions = dtree.predict(X_test)\n",
        "from sklearn.metrics import classification_report,confusion_matrix\n",
        "print(classification_report(y_test,predictions))"
      ],
      "metadata": {
        "colab": {
          "base_uri": "https://localhost:8080/"
        },
        "id": "9_XvP3oXVwxZ",
        "outputId": "052543e5-9b3a-4343-cf59-b4e7f7877ae6"
      },
      "execution_count": null,
      "outputs": [
        {
          "output_type": "stream",
          "name": "stdout",
          "text": [
            "              precision    recall  f1-score   support\n",
            "\n",
            "           0       0.98      0.98      0.98       128\n",
            "           1       0.95      0.83      0.89       125\n",
            "           2       0.87      0.87      0.87       130\n",
            "           3       0.91      0.92      0.92       137\n",
            "           4       0.91      0.91      0.91       139\n",
            "           5       0.89      0.95      0.92       135\n",
            "           6       0.87      0.91      0.89       130\n",
            "\n",
            "    accuracy                           0.91       924\n",
            "   macro avg       0.91      0.91      0.91       924\n",
            "weighted avg       0.91      0.91      0.91       924\n",
            "\n"
          ]
        }
      ]
    },
    {
      "cell_type": "markdown",
      "source": [
        "# **SVM Model**"
      ],
      "metadata": {
        "id": "GIxZvkBuXZx8"
      }
    },
    {
      "cell_type": "code",
      "source": [
        "# Building the SVM model \n",
        "from sklearn.svm import SVC\n",
        "svmclf = SVC() \n",
        "svmclf.fit(X_train, y_train) \n",
        "  \n",
        "# Storing the predictions of the non-linear model \n",
        "y_pred_svmclf = svmclf.predict(X_test) \n",
        "  \n",
        "# Evaluating the performance of the non-linear model \n",
        "print('Accuracy : '+str(accuracy_score(y_test, y_pred_svmclf))) "
      ],
      "metadata": {
        "colab": {
          "base_uri": "https://localhost:8080/"
        },
        "id": "X-Tw7RfNWyc0",
        "outputId": "e8ecee5e-d9b0-49c8-c4d9-bd030ee76f4a"
      },
      "execution_count": null,
      "outputs": [
        {
          "output_type": "stream",
          "name": "stdout",
          "text": [
            "Accuracy : 0.8766233766233766\n"
          ]
        }
      ]
    },
    {
      "cell_type": "markdown",
      "source": [
        "# **CNN Model**\n"
      ],
      "metadata": {
        "id": "N87i6-wgXjdz"
      }
    },
    {
      "cell_type": "code",
      "source": [
        "x_traincnn = np.expand_dims(X_train, axis=2)\n",
        "x_testcnn = np.expand_dims(X_test, axis=2)\n",
        "x_traincnn.shape, x_testcnn.shape, y_train.shape, y_test.shape"
      ],
      "metadata": {
        "colab": {
          "base_uri": "https://localhost:8080/"
        },
        "id": "CwQB9z9pW2DF",
        "outputId": "3edfebdc-9cb8-43f5-f0cb-f34c4e68ca81"
      },
      "execution_count": null,
      "outputs": [
        {
          "output_type": "execute_result",
          "data": {
            "text/plain": [
              "((1876, 128, 1), (924, 128, 1), (1876,), (924,))"
            ]
          },
          "metadata": {},
          "execution_count": 24
        }
      ]
    },
    {
      "cell_type": "code",
      "source": [
        "!pip install keras==2.3.1"
      ],
      "metadata": {
        "colab": {
          "base_uri": "https://localhost:8080/"
        },
        "id": "MU6GtHCoY7rC",
        "outputId": "378e3b93-dd1b-45d3-e25f-cf7eb35b65fb"
      },
      "execution_count": null,
      "outputs": [
        {
          "output_type": "stream",
          "name": "stdout",
          "text": [
            "Looking in indexes: https://pypi.org/simple, https://us-python.pkg.dev/colab-wheels/public/simple/\n",
            "Requirement already satisfied: keras==2.3.1 in /usr/local/lib/python3.7/dist-packages (2.3.1)\n",
            "Requirement already satisfied: keras-applications>=1.0.6 in /usr/local/lib/python3.7/dist-packages (from keras==2.3.1) (1.0.8)\n",
            "Requirement already satisfied: numpy>=1.9.1 in /usr/local/lib/python3.7/dist-packages (from keras==2.3.1) (1.21.6)\n",
            "Requirement already satisfied: pyyaml in /usr/local/lib/python3.7/dist-packages (from keras==2.3.1) (6.0)\n",
            "Requirement already satisfied: h5py in /usr/local/lib/python3.7/dist-packages (from keras==2.3.1) (2.10.0)\n",
            "Requirement already satisfied: six>=1.9.0 in /usr/local/lib/python3.7/dist-packages (from keras==2.3.1) (1.16.0)\n",
            "Requirement already satisfied: scipy>=0.14 in /usr/local/lib/python3.7/dist-packages (from keras==2.3.1) (1.7.3)\n",
            "Requirement already satisfied: keras-preprocessing>=1.0.5 in /usr/local/lib/python3.7/dist-packages (from keras==2.3.1) (1.1.2)\n"
          ]
        }
      ]
    },
    {
      "cell_type": "code",
      "source": [
        "import numpy as np\n",
        "import matplotlib.pyplot as plt\n",
        "import tensorflow as tf\n",
        "from tensorflow import keras \n",
        "from keras.preprocessing import sequence\n",
        "from keras.models import Sequential\n",
        "from keras.layers import Dense, Embedding\n",
        "from keras.utils import to_categorical\n",
        "from keras.layers import Input, Flatten, Dropout, Activation\n",
        "from keras.layers import Conv1D, MaxPooling1D\n",
        "from keras.models import Model\n",
        "from keras.callbacks import ModelCheckpoint\n",
        "\n",
        "model = Sequential()\n",
        "\n",
        "model.add(Conv1D(32, 5,padding='same',\n",
        "                 input_shape=(128,1)))\n",
        "#model.add(Conv1D(64, 5,padding='same', activation='relu'))\n",
        "#model.add(Activation('relu'))\n",
        "model.add(MaxPooling1D(pool_size=(8)))\n",
        "model.add(Dropout(0.25))\n",
        "model.add(Flatten())\n",
        "model.add(Dense(128, activation='relu'))\n",
        "model.add(Dropout(0.5))\n",
        "model.add(Dense(7, activation='softmax'))\n",
        "opt = keras.optimizers.RMSprop(lr=0.00005, rho=0.9, epsilon=None, decay=0.0)\n",
        "model.summary()"
      ],
      "metadata": {
        "colab": {
          "base_uri": "https://localhost:8080/"
        },
        "id": "sDgVy-BAXHKB",
        "outputId": "0ba44722-9bdf-4130-9aee-415cbc879320"
      },
      "execution_count": null,
      "outputs": [
        {
          "output_type": "stream",
          "name": "stderr",
          "text": [
            "/usr/local/lib/python3.7/dist-packages/tensorflow/python/framework/dtypes.py:516: FutureWarning: Passing (type, 1) or '1type' as a synonym of type is deprecated; in a future version of numpy, it will be understood as (type, (1,)) / '(1,)type'.\n",
            "  _np_qint8 = np.dtype([(\"qint8\", np.int8, 1)])\n",
            "/usr/local/lib/python3.7/dist-packages/tensorflow/python/framework/dtypes.py:517: FutureWarning: Passing (type, 1) or '1type' as a synonym of type is deprecated; in a future version of numpy, it will be understood as (type, (1,)) / '(1,)type'.\n",
            "  _np_quint8 = np.dtype([(\"quint8\", np.uint8, 1)])\n",
            "/usr/local/lib/python3.7/dist-packages/tensorflow/python/framework/dtypes.py:518: FutureWarning: Passing (type, 1) or '1type' as a synonym of type is deprecated; in a future version of numpy, it will be understood as (type, (1,)) / '(1,)type'.\n",
            "  _np_qint16 = np.dtype([(\"qint16\", np.int16, 1)])\n",
            "/usr/local/lib/python3.7/dist-packages/tensorflow/python/framework/dtypes.py:519: FutureWarning: Passing (type, 1) or '1type' as a synonym of type is deprecated; in a future version of numpy, it will be understood as (type, (1,)) / '(1,)type'.\n",
            "  _np_quint16 = np.dtype([(\"quint16\", np.uint16, 1)])\n",
            "/usr/local/lib/python3.7/dist-packages/tensorflow/python/framework/dtypes.py:520: FutureWarning: Passing (type, 1) or '1type' as a synonym of type is deprecated; in a future version of numpy, it will be understood as (type, (1,)) / '(1,)type'.\n",
            "  _np_qint32 = np.dtype([(\"qint32\", np.int32, 1)])\n",
            "/usr/local/lib/python3.7/dist-packages/tensorflow/python/framework/dtypes.py:525: FutureWarning: Passing (type, 1) or '1type' as a synonym of type is deprecated; in a future version of numpy, it will be understood as (type, (1,)) / '(1,)type'.\n",
            "  np_resource = np.dtype([(\"resource\", np.ubyte, 1)])\n",
            "/usr/local/lib/python3.7/dist-packages/tensorboard/compat/tensorflow_stub/dtypes.py:541: FutureWarning: Passing (type, 1) or '1type' as a synonym of type is deprecated; in a future version of numpy, it will be understood as (type, (1,)) / '(1,)type'.\n",
            "  _np_qint8 = np.dtype([(\"qint8\", np.int8, 1)])\n",
            "/usr/local/lib/python3.7/dist-packages/tensorboard/compat/tensorflow_stub/dtypes.py:542: FutureWarning: Passing (type, 1) or '1type' as a synonym of type is deprecated; in a future version of numpy, it will be understood as (type, (1,)) / '(1,)type'.\n",
            "  _np_quint8 = np.dtype([(\"quint8\", np.uint8, 1)])\n",
            "/usr/local/lib/python3.7/dist-packages/tensorboard/compat/tensorflow_stub/dtypes.py:543: FutureWarning: Passing (type, 1) or '1type' as a synonym of type is deprecated; in a future version of numpy, it will be understood as (type, (1,)) / '(1,)type'.\n",
            "  _np_qint16 = np.dtype([(\"qint16\", np.int16, 1)])\n",
            "/usr/local/lib/python3.7/dist-packages/tensorboard/compat/tensorflow_stub/dtypes.py:544: FutureWarning: Passing (type, 1) or '1type' as a synonym of type is deprecated; in a future version of numpy, it will be understood as (type, (1,)) / '(1,)type'.\n",
            "  _np_quint16 = np.dtype([(\"quint16\", np.uint16, 1)])\n",
            "/usr/local/lib/python3.7/dist-packages/tensorboard/compat/tensorflow_stub/dtypes.py:545: FutureWarning: Passing (type, 1) or '1type' as a synonym of type is deprecated; in a future version of numpy, it will be understood as (type, (1,)) / '(1,)type'.\n",
            "  _np_qint32 = np.dtype([(\"qint32\", np.int32, 1)])\n",
            "/usr/local/lib/python3.7/dist-packages/tensorboard/compat/tensorflow_stub/dtypes.py:550: FutureWarning: Passing (type, 1) or '1type' as a synonym of type is deprecated; in a future version of numpy, it will be understood as (type, (1,)) / '(1,)type'.\n",
            "  np_resource = np.dtype([(\"resource\", np.ubyte, 1)])\n",
            "Using TensorFlow backend.\n",
            "WARNING:tensorflow:From /usr/local/lib/python3.7/dist-packages/keras/backend/tensorflow_backend.py:4070: The name tf.nn.max_pool is deprecated. Please use tf.nn.max_pool2d instead.\n",
            "\n"
          ]
        },
        {
          "output_type": "stream",
          "name": "stdout",
          "text": [
            "Model: \"sequential_1\"\n",
            "_________________________________________________________________\n",
            "Layer (type)                 Output Shape              Param #   \n",
            "=================================================================\n",
            "conv1d_1 (Conv1D)            (None, 128, 32)           192       \n",
            "_________________________________________________________________\n",
            "max_pooling1d_1 (MaxPooling1 (None, 16, 32)            0         \n",
            "_________________________________________________________________\n",
            "dropout_1 (Dropout)          (None, 16, 32)            0         \n",
            "_________________________________________________________________\n",
            "flatten_1 (Flatten)          (None, 512)               0         \n",
            "_________________________________________________________________\n",
            "dense_1 (Dense)              (None, 128)               65664     \n",
            "_________________________________________________________________\n",
            "dropout_2 (Dropout)          (None, 128)               0         \n",
            "_________________________________________________________________\n",
            "dense_2 (Dense)              (None, 7)                 903       \n",
            "=================================================================\n",
            "Total params: 66,759\n",
            "Trainable params: 66,759\n",
            "Non-trainable params: 0\n",
            "_________________________________________________________________\n"
          ]
        }
      ]
    },
    {
      "cell_type": "code",
      "source": [
        "tf.keras.optimizers.Adadelta(\n",
        "    learning_rate=0.001,\n",
        "    rho=0.95,\n",
        "    epsilon=1e-07,\n",
        "    name='Adadelta'\n",
        ")"
      ],
      "metadata": {
        "colab": {
          "base_uri": "https://localhost:8080/"
        },
        "id": "tn-xs1ZheE6P",
        "outputId": "d81e71ea-b2a0-4841-cae0-b5c8ce2d7517"
      },
      "execution_count": null,
      "outputs": [
        {
          "output_type": "execute_result",
          "data": {
            "text/plain": [
              "<tensorflow.python.keras.optimizer_v2.adadelta.Adadelta at 0x7ff37b6cd250>"
            ]
          },
          "metadata": {},
          "execution_count": 27
        }
      ]
    },
    {
      "cell_type": "code",
      "source": [
        "model.compile(optimizer='adadelta',loss='sparse_categorical_crossentropy',metrics=['accuracy'])\n",
        "cnnhistory=model.fit(x_traincnn, y_train, batch_size=128, epochs=20, validation_data=(x_testcnn, y_test))"
      ],
      "metadata": {
        "colab": {
          "base_uri": "https://localhost:8080/"
        },
        "id": "Wpsr6JGJXRB-",
        "outputId": "ccd65707-2c2c-438e-fe52-3a008ed387fd"
      },
      "execution_count": null,
      "outputs": [
        {
          "output_type": "stream",
          "name": "stderr",
          "text": [
            "WARNING:tensorflow:From /usr/local/lib/python3.7/dist-packages/keras/backend/tensorflow_backend.py:422: The name tf.global_variables is deprecated. Please use tf.compat.v1.global_variables instead.\n",
            "\n"
          ]
        },
        {
          "output_type": "stream",
          "name": "stdout",
          "text": [
            "Train on 1876 samples, validate on 924 samples\n",
            "Epoch 1/20\n",
            "1876/1876 [==============================] - 1s 533us/step - loss: 19.9560 - accuracy: 0.1679 - val_loss: 2.2018 - val_accuracy: 0.3810\n",
            "Epoch 2/20\n",
            "1876/1876 [==============================] - 1s 269us/step - loss: 6.9978 - accuracy: 0.2356 - val_loss: 1.3852 - val_accuracy: 0.5790\n",
            "Epoch 3/20\n",
            "1876/1876 [==============================] - 1s 280us/step - loss: 3.4367 - accuracy: 0.2612 - val_loss: 1.7016 - val_accuracy: 0.3799\n",
            "Epoch 4/20\n",
            "1876/1876 [==============================] - 0s 232us/step - loss: 2.4079 - accuracy: 0.3028 - val_loss: 1.7080 - val_accuracy: 0.4091\n",
            "Epoch 5/20\n",
            "1876/1876 [==============================] - 0s 243us/step - loss: 1.9615 - accuracy: 0.3326 - val_loss: 1.5724 - val_accuracy: 0.4697\n",
            "Epoch 6/20\n",
            "1876/1876 [==============================] - 1s 276us/step - loss: 1.8641 - accuracy: 0.3353 - val_loss: 1.4960 - val_accuracy: 0.4719\n",
            "Epoch 7/20\n",
            "1876/1876 [==============================] - 0s 201us/step - loss: 1.7145 - accuracy: 0.3715 - val_loss: 1.3858 - val_accuracy: 0.4957\n",
            "Epoch 8/20\n",
            "1876/1876 [==============================] - 0s 266us/step - loss: 1.6009 - accuracy: 0.3913 - val_loss: 1.3298 - val_accuracy: 0.5335\n",
            "Epoch 9/20\n",
            "1876/1876 [==============================] - 0s 212us/step - loss: 1.5250 - accuracy: 0.3998 - val_loss: 1.2295 - val_accuracy: 0.5725\n",
            "Epoch 10/20\n",
            "1876/1876 [==============================] - 0s 243us/step - loss: 1.4538 - accuracy: 0.4083 - val_loss: 1.1630 - val_accuracy: 0.5747\n",
            "Epoch 11/20\n",
            "1876/1876 [==============================] - 0s 222us/step - loss: 1.3784 - accuracy: 0.4515 - val_loss: 1.0630 - val_accuracy: 0.6526\n",
            "Epoch 12/20\n",
            "1876/1876 [==============================] - 0s 216us/step - loss: 1.2951 - accuracy: 0.4616 - val_loss: 1.0015 - val_accuracy: 0.7024\n",
            "Epoch 13/20\n",
            "1876/1876 [==============================] - 0s 230us/step - loss: 1.2793 - accuracy: 0.4824 - val_loss: 0.9660 - val_accuracy: 0.6937\n",
            "Epoch 14/20\n",
            "1876/1876 [==============================] - 0s 239us/step - loss: 1.2006 - accuracy: 0.5085 - val_loss: 0.7886 - val_accuracy: 0.7576\n",
            "Epoch 15/20\n",
            "1876/1876 [==============================] - 0s 264us/step - loss: 1.1451 - accuracy: 0.5357 - val_loss: 0.7783 - val_accuracy: 0.7435\n",
            "Epoch 16/20\n",
            "1876/1876 [==============================] - 1s 279us/step - loss: 1.0719 - accuracy: 0.5645 - val_loss: 0.7230 - val_accuracy: 0.8225\n",
            "Epoch 17/20\n",
            "1876/1876 [==============================] - 0s 265us/step - loss: 1.0259 - accuracy: 0.5640 - val_loss: 0.6651 - val_accuracy: 0.7987\n",
            "Epoch 18/20\n",
            "1876/1876 [==============================] - 0s 247us/step - loss: 0.9843 - accuracy: 0.5997 - val_loss: 0.6493 - val_accuracy: 0.8398\n",
            "Epoch 19/20\n",
            "1876/1876 [==============================] - 1s 322us/step - loss: 0.9205 - accuracy: 0.6253 - val_loss: 0.5724 - val_accuracy: 0.8864\n",
            "Epoch 20/20\n",
            "1876/1876 [==============================] - 1s 270us/step - loss: 0.9118 - accuracy: 0.6338 - val_loss: 0.5583 - val_accuracy: 0.8355\n"
          ]
        }
      ]
    },
    {
      "cell_type": "code",
      "source": [
        "score = model.evaluate(x_testcnn, y_test, verbose=0)\n",
        "print('Test loss:', score[0])\n",
        "print('Test accuracy:', score[1])"
      ],
      "metadata": {
        "colab": {
          "base_uri": "https://localhost:8080/"
        },
        "id": "Iuwsdyf3ZT66",
        "outputId": "2e1bafa2-716e-4f7d-8a31-04db39bd8e94"
      },
      "execution_count": null,
      "outputs": [
        {
          "output_type": "stream",
          "name": "stdout",
          "text": [
            "Test loss: 0.5582857064870529\n",
            "Test accuracy: 0.8354978561401367\n"
          ]
        }
      ]
    },
    {
      "cell_type": "code",
      "source": [
        "predictions = model.predict_classes(x_testcnn)\n",
        "predictions\n",
        "y_test\n",
        "new_Ytest = y_test.astype(int)\n",
        "new_Ytest"
      ],
      "metadata": {
        "colab": {
          "base_uri": "https://localhost:8080/"
        },
        "id": "oz_7wTK_ZUxu",
        "outputId": "91cab1ca-eaed-4909-d206-a8b9c1bcbbbd"
      },
      "execution_count": null,
      "outputs": [
        {
          "output_type": "execute_result",
          "data": {
            "text/plain": [
              "array([3, 0, 3, 3, 2, 1, 4, 0, 4, 3, 5, 5, 3, 3, 3, 6, 0, 6, 5, 3, 4, 0,\n",
              "       6, 4, 0, 6, 5, 1, 0, 4, 1, 6, 0, 0, 3, 6, 5, 1, 0, 6, 2, 0, 3, 5,\n",
              "       6, 6, 0, 4, 4, 0, 1, 1, 1, 6, 3, 3, 2, 4, 2, 1, 3, 4, 6, 4, 5, 4,\n",
              "       0, 1, 4, 3, 3, 6, 1, 5, 0, 6, 4, 6, 0, 2, 0, 2, 0, 4, 6, 1, 1, 5,\n",
              "       6, 6, 5, 0, 3, 4, 0, 6, 1, 3, 3, 3, 3, 4, 5, 5, 4, 0, 4, 2, 0, 6,\n",
              "       1, 1, 4, 2, 0, 6, 0, 2, 3, 6, 3, 6, 4, 0, 3, 4, 2, 4, 0, 5, 3, 6,\n",
              "       5, 5, 5, 2, 3, 2, 3, 1, 2, 3, 4, 4, 2, 4, 4, 2, 1, 3, 6, 3, 4, 4,\n",
              "       5, 5, 0, 0, 3, 1, 1, 6, 4, 5, 1, 1, 1, 0, 2, 5, 0, 1, 1, 6, 1, 3,\n",
              "       4, 2, 5, 2, 1, 3, 2, 3, 4, 6, 6, 1, 4, 5, 6, 0, 5, 1, 6, 5, 4, 4,\n",
              "       6, 5, 3, 3, 6, 6, 0, 6, 2, 6, 3, 4, 2, 0, 3, 4, 6, 2, 2, 0, 4, 4,\n",
              "       6, 5, 2, 1, 3, 4, 0, 0, 3, 6, 4, 4, 2, 3, 2, 5, 6, 2, 3, 5, 4, 1,\n",
              "       0, 2, 1, 0, 1, 1, 4, 4, 3, 3, 2, 2, 3, 5, 3, 0, 6, 1, 3, 4, 5, 0,\n",
              "       0, 6, 5, 4, 3, 0, 3, 1, 4, 6, 0, 6, 2, 6, 1, 4, 4, 0, 4, 2, 2, 5,\n",
              "       2, 2, 6, 4, 5, 5, 3, 4, 4, 1, 4, 4, 2, 1, 4, 0, 3, 2, 4, 2, 3, 0,\n",
              "       1, 4, 5, 4, 3, 6, 3, 1, 5, 1, 4, 3, 2, 3, 2, 6, 4, 5, 6, 3, 2, 4,\n",
              "       3, 5, 6, 3, 5, 4, 2, 6, 0, 5, 5, 2, 0, 6, 5, 5, 6, 2, 1, 2, 4, 4,\n",
              "       4, 5, 6, 0, 6, 2, 1, 3, 6, 5, 4, 1, 0, 4, 3, 3, 5, 1, 0, 0, 5, 2,\n",
              "       2, 5, 1, 1, 4, 2, 1, 3, 4, 2, 3, 0, 6, 5, 4, 6, 2, 1, 1, 3, 1, 6,\n",
              "       2, 2, 0, 5, 5, 4, 3, 1, 1, 0, 2, 5, 0, 0, 6, 4, 5, 3, 6, 5, 4, 6,\n",
              "       2, 2, 4, 3, 6, 6, 6, 4, 6, 5, 5, 5, 4, 3, 2, 2, 0, 2, 0, 2, 1, 6,\n",
              "       0, 6, 6, 1, 0, 0, 5, 6, 5, 5, 0, 4, 5, 2, 2, 4, 6, 0, 5, 3, 6, 6,\n",
              "       3, 3, 0, 5, 6, 3, 3, 1, 1, 3, 4, 5, 6, 3, 5, 6, 5, 4, 4, 6, 2, 1,\n",
              "       0, 4, 0, 2, 1, 5, 1, 6, 5, 4, 5, 4, 2, 6, 5, 2, 5, 5, 4, 0, 1, 3,\n",
              "       4, 1, 4, 4, 5, 6, 3, 6, 6, 3, 0, 5, 4, 0, 1, 2, 4, 6, 0, 3, 1, 5,\n",
              "       3, 3, 0, 6, 2, 3, 6, 1, 0, 2, 1, 6, 1, 5, 5, 2, 2, 2, 2, 5, 1, 2,\n",
              "       1, 3, 5, 3, 3, 0, 3, 3, 0, 4, 6, 1, 2, 1, 0, 1, 5, 6, 1, 3, 2, 5,\n",
              "       0, 1, 3, 3, 5, 5, 4, 2, 1, 2, 0, 5, 3, 3, 6, 6, 6, 4, 6, 1, 1, 4,\n",
              "       1, 2, 5, 1, 2, 4, 5, 1, 2, 5, 0, 6, 3, 3, 5, 0, 5, 6, 3, 3, 4, 1,\n",
              "       4, 4, 2, 1, 5, 1, 0, 5, 5, 0, 1, 1, 0, 4, 2, 3, 3, 6, 5, 0, 3, 4,\n",
              "       1, 2, 0, 3, 2, 0, 6, 2, 1, 0, 5, 3, 0, 0, 6, 4, 3, 1, 5, 3, 0, 1,\n",
              "       0, 4, 0, 6, 6, 2, 5, 6, 6, 2, 2, 0, 6, 3, 1, 0, 2, 4, 3, 0, 0, 3,\n",
              "       1, 4, 6, 1, 1, 5, 0, 6, 5, 4, 1, 2, 2, 0, 6, 0, 2, 2, 5, 0, 2, 3,\n",
              "       0, 3, 0, 0, 5, 1, 4, 2, 1, 3, 5, 0, 2, 5, 3, 4, 3, 3, 1, 4, 5, 3,\n",
              "       3, 5, 3, 6, 6, 6, 4, 0, 5, 5, 3, 3, 3, 3, 1, 1, 6, 0, 4, 6, 3, 4,\n",
              "       1, 4, 0, 0, 1, 6, 1, 4, 4, 1, 5, 1, 0, 1, 2, 3, 2, 3, 1, 0, 6, 5,\n",
              "       1, 3, 6, 2, 5, 3, 4, 5, 6, 2, 6, 3, 2, 1, 5, 6, 0, 6, 4, 2, 4, 2,\n",
              "       0, 5, 3, 5, 1, 4, 3, 6, 6, 6, 6, 0, 4, 6, 0, 2, 2, 2, 5, 5, 6, 4,\n",
              "       5, 5, 6, 1, 4, 2, 0, 0, 0, 2, 3, 5, 4, 2, 1, 3, 2, 4, 4, 0, 2, 0,\n",
              "       1, 6, 5, 2, 5, 0, 1, 0, 5, 2, 2, 4, 1, 4, 3, 4, 5, 1, 5, 4, 1, 0,\n",
              "       5, 4, 6, 4, 1, 4, 1, 4, 2, 1, 2, 2, 4, 2, 4, 5, 0, 1, 2, 5, 2, 3,\n",
              "       2, 0, 5, 1, 0, 5, 1, 5, 5, 3, 2, 6, 6, 2, 2, 5, 2, 5, 4, 4, 3, 1,\n",
              "       1, 4, 3, 5, 4, 6, 0, 0, 0, 5, 1, 2, 0, 3, 2, 6, 2, 3, 2, 5, 6, 3])"
            ]
          },
          "metadata": {},
          "execution_count": 30
        }
      ]
    },
    {
      "cell_type": "code",
      "source": [
        "from sklearn.metrics import classification_report\n",
        "report = classification_report(new_Ytest, predictions)\n",
        "print(report)"
      ],
      "metadata": {
        "colab": {
          "base_uri": "https://localhost:8080/"
        },
        "id": "yO-AcYIIZYdd",
        "outputId": "ce9eec02-5802-44d6-e754-2de438de1ef9"
      },
      "execution_count": null,
      "outputs": [
        {
          "output_type": "stream",
          "name": "stdout",
          "text": [
            "              precision    recall  f1-score   support\n",
            "\n",
            "           0       1.00      1.00      1.00       128\n",
            "           1       0.98      0.96      0.97       125\n",
            "           2       1.00      0.16      0.28       130\n",
            "           3       0.62      0.96      0.75       137\n",
            "           4       0.74      0.99      0.85       139\n",
            "           5       0.94      0.87      0.90       135\n",
            "           6       0.90      0.90      0.90       130\n",
            "\n",
            "    accuracy                           0.84       924\n",
            "   macro avg       0.88      0.83      0.81       924\n",
            "weighted avg       0.88      0.84      0.81       924\n",
            "\n"
          ]
        }
      ]
    },
    {
      "cell_type": "markdown",
      "source": [
        "# **Confusion matrix**"
      ],
      "metadata": {
        "id": "rW6KdSMkXzMV"
      }
    },
    {
      "cell_type": "code",
      "source": [
        "from sklearn.metrics import confusion_matrix\n",
        "matrix = confusion_matrix(new_Ytest, predictions)\n",
        "print (matrix)\n",
        "\n",
        "# 0 = angry, 1 = disgust, 2 = fear, 3 = happy, 4 = neutral, 5 = surprise, 6 = sad"
      ],
      "metadata": {
        "colab": {
          "base_uri": "https://localhost:8080/"
        },
        "id": "JFrwXcQ5ZcDH",
        "outputId": "73add7e4-68e1-44b5-fb26-7f90b75c90b7"
      },
      "execution_count": null,
      "outputs": [
        {
          "output_type": "stream",
          "name": "stdout",
          "text": [
            "[[128   0   0   0   0   0   0]\n",
            " [  0 120   0   3   0   1   1]\n",
            " [  0   0  21  63  34   0  12]\n",
            " [  0   0   0 131   0   6   0]\n",
            " [  0   0   0   0 138   1   0]\n",
            " [  0   3   0  14   1 117   0]\n",
            " [  0   0   0   0  13   0 117]]\n"
          ]
        }
      ]
    },
    {
      "cell_type": "markdown",
      "source": [
        "**Save the model**"
      ],
      "metadata": {
        "id": "7dQqd7zeX9MD"
      }
    },
    {
      "cell_type": "code",
      "source": [
        "model_name = 'SVM,Decision Tree,CNN on TORONTO dataset-VEC using ML.h5'\n",
        "save_dir = '/content/drive/MyDrive/Colab Notebooks'\n",
        "# Save model and weights\n",
        "if not os.path.isdir(save_dir):\n",
        "    os.makedirs(save_dir)\n",
        "model_path = os.path.join(save_dir, model_name)\n",
        "model.save(model_path)\n",
        "print('Saved trained model at %s ' % model_path)"
      ],
      "metadata": {
        "colab": {
          "base_uri": "https://localhost:8080/"
        },
        "id": "rOZQgK5MZfDK",
        "outputId": "bfc0737f-9b3d-4e8e-d618-e3d279fe6a34"
      },
      "execution_count": null,
      "outputs": [
        {
          "output_type": "stream",
          "name": "stdout",
          "text": [
            "Saved trained model at /content/drive/MyDrive/Colab Notebooks/SVM,Decision Tree,CNN on TORONTO dataset-VEC using ML.h5 \n"
          ]
        }
      ]
    },
    {
      "cell_type": "code",
      "source": [
        "loaded_model =keras.models.load_model('/content/drive/MyDrive/Colab Notebooks/SVM,Decision Tree,CNN on TORONTO dataset-VEC using ML.h5')\n",
        "loaded_model.summary()"
      ],
      "metadata": {
        "colab": {
          "base_uri": "https://localhost:8080/"
        },
        "id": "1hOweT_VZiFe",
        "outputId": "02143030-7429-439a-ccd2-237204eda699"
      },
      "execution_count": null,
      "outputs": [
        {
          "output_type": "stream",
          "name": "stdout",
          "text": [
            "Model: \"sequential_1\"\n",
            "_________________________________________________________________\n",
            "Layer (type)                 Output Shape              Param #   \n",
            "=================================================================\n",
            "conv1d_1 (Conv1D)            (None, 128, 32)           192       \n",
            "_________________________________________________________________\n",
            "max_pooling1d_1 (MaxPooling1 (None, 16, 32)            0         \n",
            "_________________________________________________________________\n",
            "dropout_1 (Dropout)          (None, 16, 32)            0         \n",
            "_________________________________________________________________\n",
            "flatten_1 (Flatten)          (None, 512)               0         \n",
            "_________________________________________________________________\n",
            "dense_1 (Dense)              (None, 128)               65664     \n",
            "_________________________________________________________________\n",
            "dropout_2 (Dropout)          (None, 128)               0         \n",
            "_________________________________________________________________\n",
            "dense_2 (Dense)              (None, 7)                 903       \n",
            "=================================================================\n",
            "Total params: 66,759\n",
            "Trainable params: 66,759\n",
            "Non-trainable params: 0\n",
            "_________________________________________________________________\n"
          ]
        }
      ]
    },
    {
      "cell_type": "code",
      "source": [
        "loss, acc = loaded_model.evaluate(x_testcnn, y_test)\n",
        "print(\"Restored model, accuracy: {:5.2f}%\".format(100*acc))"
      ],
      "metadata": {
        "colab": {
          "base_uri": "https://localhost:8080/"
        },
        "id": "UcUuAEebmTvf",
        "outputId": "ad55781a-96ba-42ec-c54a-681e3fed3061"
      },
      "execution_count": null,
      "outputs": [
        {
          "output_type": "stream",
          "name": "stdout",
          "text": [
            "924/924 [==============================] - 0s 535us/sample - loss: 0.5583 - acc: 0.8355\n",
            "Restored model, accuracy: 83.55%\n"
          ]
        }
      ]
    },
    {
      "cell_type": "markdown",
      "source": [
        "# **Applying Autoencoder**"
      ],
      "metadata": {
        "id": "HFO5D4FIYEOT"
      }
    },
    {
      "cell_type": "code",
      "source": [
        "!pip install pydub\n",
        "from scipy.io import wavfile\n",
        "import wave\n",
        "import struct\n",
        "from struct import *\n",
        "import matplotlib.pyplot as plt\n",
        "!pip install keras==2.1.5\n",
        "from keras.layers import Input, Dense\n",
        "from keras.models import Model\n",
        "import matplotlib.pyplot as plt\n",
        "from keras.callbacks import ModelCheckpoint\n",
        "from sklearn.preprocessing import MinMaxScaler"
      ],
      "metadata": {
        "colab": {
          "base_uri": "https://localhost:8080/",
          "height": 453
        },
        "id": "sHhJoVnRInTE",
        "outputId": "c5cfbd3b-cc17-4c18-da05-c7d9fb998ad2"
      },
      "execution_count": null,
      "outputs": [
        {
          "output_type": "stream",
          "name": "stdout",
          "text": [
            "Looking in indexes: https://pypi.org/simple, https://us-python.pkg.dev/colab-wheels/public/simple/\n",
            "Collecting pydub\n",
            "  Downloading pydub-0.25.1-py2.py3-none-any.whl (32 kB)\n",
            "Installing collected packages: pydub\n",
            "Successfully installed pydub-0.25.1\n",
            "Looking in indexes: https://pypi.org/simple, https://us-python.pkg.dev/colab-wheels/public/simple/\n",
            "Collecting keras==2.1.5\n",
            "  Downloading Keras-2.1.5-py2.py3-none-any.whl (334 kB)\n",
            "\u001b[K     |████████████████████████████████| 334 kB 26.2 MB/s \n",
            "\u001b[?25hRequirement already satisfied: scipy>=0.14 in /usr/local/lib/python3.7/dist-packages (from keras==2.1.5) (1.7.3)\n",
            "Requirement already satisfied: pyyaml in /usr/local/lib/python3.7/dist-packages (from keras==2.1.5) (6.0)\n",
            "Requirement already satisfied: numpy>=1.9.1 in /usr/local/lib/python3.7/dist-packages (from keras==2.1.5) (1.21.6)\n",
            "Requirement already satisfied: six>=1.9.0 in /usr/local/lib/python3.7/dist-packages (from keras==2.1.5) (1.16.0)\n",
            "Installing collected packages: keras\n",
            "  Attempting uninstall: keras\n",
            "    Found existing installation: Keras 2.3.1\n",
            "    Uninstalling Keras-2.3.1:\n",
            "      Successfully uninstalled Keras-2.3.1\n",
            "Successfully installed keras-2.1.5\n"
          ]
        },
        {
          "output_type": "display_data",
          "data": {
            "application/vnd.colab-display-data+json": {
              "pip_warning": {
                "packages": [
                  "keras"
                ]
              }
            }
          },
          "metadata": {}
        }
      ]
    },
    {
      "cell_type": "code",
      "source": [
        "x_train= MinMaxScaler().fit_transform(lst)"
      ],
      "metadata": {
        "id": "YKYfAzk_IqUX"
      },
      "execution_count": null,
      "outputs": []
    },
    {
      "cell_type": "code",
      "source": [
        "x_train.shape"
      ],
      "metadata": {
        "colab": {
          "base_uri": "https://localhost:8080/"
        },
        "id": "QTe5N194IsRu",
        "outputId": "b5bb975f-6e29-4870-a960-8066b46090b4"
      },
      "execution_count": null,
      "outputs": [
        {
          "output_type": "execute_result",
          "data": {
            "text/plain": [
              "(2800, 128)"
            ]
          },
          "metadata": {},
          "execution_count": 38
        }
      ]
    },
    {
      "cell_type": "code",
      "source": [
        "encoding_dim = 64\n",
        "input_img = Input(shape=(128,))\n",
        "encoded = Dense(encoding_dim, activation='relu')(input_img)\n",
        "\n",
        "\n",
        "decoded = Dense(128, activation='sigmoid')(encoded)\n",
        "\n",
        "autoencoder = Model(input_img, decoded)\n",
        "encoder = Model(input=input_img, output=encoded)\n",
        "encoded_input = Input(shape=(encoding_dim,))\n",
        "\n",
        "decoder_layer = autoencoder.layers[-1]\n",
        "\n",
        "decoder = Model(input=encoded_input, output=decoder_layer(encoded_input))\n",
        "autoencoder.compile(optimizer='adadelta', loss='binary_crossentropy')\n",
        "\n",
        "\n",
        "filepath=\"audio.compress-{loss:.4f}.hdf5\"\n",
        "checkpoint = ModelCheckpoint(filepath, monitor='binary_crossentropy', verbose=1, save_best_only=False)\n",
        "autoencoder.summary()\n",
        "autoencoder.fit(x_train, x_train,\n",
        "                epochs=100,\n",
        "                batch_size=256,\n",
        "                shuffle=True,\n",
        "                validation_data=(x_train, x_train),callbacks=[checkpoint],verbose=0)"
      ],
      "metadata": {
        "colab": {
          "base_uri": "https://localhost:8080/"
        },
        "id": "ZxJugsFOIuEQ",
        "outputId": "bf494b5b-d475-48a0-b9e2-fc5ed747c21d"
      },
      "execution_count": null,
      "outputs": [
        {
          "output_type": "stream",
          "name": "stderr",
          "text": [
            "/usr/local/lib/python3.7/dist-packages/ipykernel_launcher.py:9: UserWarning: Update your `Model` call to the Keras 2 API: `Model(inputs=Tensor(\"in..., outputs=Tensor(\"de...)`\n",
            "  if __name__ == '__main__':\n",
            "/usr/local/lib/python3.7/dist-packages/ipykernel_launcher.py:14: UserWarning: Update your `Model` call to the Keras 2 API: `Model(inputs=Tensor(\"in..., outputs=Tensor(\"de...)`\n",
            "  \n",
            "WARNING:tensorflow:From /usr/local/lib/python3.7/dist-packages/tensorflow/python/ops/nn_impl.py:180: add_dispatch_support.<locals>.wrapper (from tensorflow.python.ops.array_ops) is deprecated and will be removed in a future version.\n",
            "Instructions for updating:\n",
            "Use tf.where in 2.0, which has the same broadcast rule as np.where\n"
          ]
        },
        {
          "output_type": "stream",
          "name": "stdout",
          "text": [
            "Model: \"model_1\"\n",
            "_________________________________________________________________\n",
            "Layer (type)                 Output Shape              Param #   \n",
            "=================================================================\n",
            "input_1 (InputLayer)         (None, 128)               0         \n",
            "_________________________________________________________________\n",
            "dense_3 (Dense)              (None, 64)                8256      \n",
            "_________________________________________________________________\n",
            "dense_4 (Dense)              (None, 128)               8320      \n",
            "=================================================================\n",
            "Total params: 16,576\n",
            "Trainable params: 16,576\n",
            "Non-trainable params: 0\n",
            "_________________________________________________________________\n",
            "\n",
            "Epoch 00001: saving model to audio.compress-0.7012.hdf5\n",
            "\n",
            "Epoch 00002: saving model to audio.compress-0.6885.hdf5\n",
            "\n",
            "Epoch 00003: saving model to audio.compress-0.6836.hdf5\n",
            "\n",
            "Epoch 00004: saving model to audio.compress-0.6795.hdf5\n",
            "\n",
            "Epoch 00005: saving model to audio.compress-0.6758.hdf5\n",
            "\n",
            "Epoch 00006: saving model to audio.compress-0.6729.hdf5\n",
            "\n",
            "Epoch 00007: saving model to audio.compress-0.6709.hdf5\n",
            "\n",
            "Epoch 00008: saving model to audio.compress-0.6697.hdf5\n",
            "\n",
            "Epoch 00009: saving model to audio.compress-0.6690.hdf5\n",
            "\n",
            "Epoch 00010: saving model to audio.compress-0.6686.hdf5\n",
            "\n",
            "Epoch 00011: saving model to audio.compress-0.6683.hdf5\n",
            "\n",
            "Epoch 00012: saving model to audio.compress-0.6681.hdf5\n",
            "\n",
            "Epoch 00013: saving model to audio.compress-0.6679.hdf5\n",
            "\n",
            "Epoch 00014: saving model to audio.compress-0.6678.hdf5\n",
            "\n",
            "Epoch 00015: saving model to audio.compress-0.6677.hdf5\n",
            "\n",
            "Epoch 00016: saving model to audio.compress-0.6675.hdf5\n",
            "\n",
            "Epoch 00017: saving model to audio.compress-0.6674.hdf5\n",
            "\n",
            "Epoch 00018: saving model to audio.compress-0.6673.hdf5\n",
            "\n",
            "Epoch 00019: saving model to audio.compress-0.6671.hdf5\n",
            "\n",
            "Epoch 00020: saving model to audio.compress-0.6670.hdf5\n",
            "\n",
            "Epoch 00021: saving model to audio.compress-0.6669.hdf5\n",
            "\n",
            "Epoch 00022: saving model to audio.compress-0.6667.hdf5\n",
            "\n",
            "Epoch 00023: saving model to audio.compress-0.6666.hdf5\n",
            "\n",
            "Epoch 00024: saving model to audio.compress-0.6665.hdf5\n",
            "\n",
            "Epoch 00025: saving model to audio.compress-0.6663.hdf5\n",
            "\n",
            "Epoch 00026: saving model to audio.compress-0.6662.hdf5\n",
            "\n",
            "Epoch 00027: saving model to audio.compress-0.6660.hdf5\n",
            "\n",
            "Epoch 00028: saving model to audio.compress-0.6659.hdf5\n",
            "\n",
            "Epoch 00029: saving model to audio.compress-0.6657.hdf5\n",
            "\n",
            "Epoch 00030: saving model to audio.compress-0.6656.hdf5\n",
            "\n",
            "Epoch 00031: saving model to audio.compress-0.6654.hdf5\n",
            "\n",
            "Epoch 00032: saving model to audio.compress-0.6653.hdf5\n",
            "\n",
            "Epoch 00033: saving model to audio.compress-0.6651.hdf5\n",
            "\n",
            "Epoch 00034: saving model to audio.compress-0.6649.hdf5\n",
            "\n",
            "Epoch 00035: saving model to audio.compress-0.6648.hdf5\n",
            "\n",
            "Epoch 00036: saving model to audio.compress-0.6646.hdf5\n",
            "\n",
            "Epoch 00037: saving model to audio.compress-0.6644.hdf5\n",
            "\n",
            "Epoch 00038: saving model to audio.compress-0.6642.hdf5\n",
            "\n",
            "Epoch 00039: saving model to audio.compress-0.6641.hdf5\n",
            "\n",
            "Epoch 00040: saving model to audio.compress-0.6639.hdf5\n",
            "\n",
            "Epoch 00041: saving model to audio.compress-0.6637.hdf5\n",
            "\n",
            "Epoch 00042: saving model to audio.compress-0.6635.hdf5\n",
            "\n",
            "Epoch 00043: saving model to audio.compress-0.6633.hdf5\n",
            "\n",
            "Epoch 00044: saving model to audio.compress-0.6632.hdf5\n",
            "\n",
            "Epoch 00045: saving model to audio.compress-0.6630.hdf5\n",
            "\n",
            "Epoch 00046: saving model to audio.compress-0.6628.hdf5\n",
            "\n",
            "Epoch 00047: saving model to audio.compress-0.6626.hdf5\n",
            "\n",
            "Epoch 00048: saving model to audio.compress-0.6624.hdf5\n",
            "\n",
            "Epoch 00049: saving model to audio.compress-0.6622.hdf5\n",
            "\n",
            "Epoch 00050: saving model to audio.compress-0.6620.hdf5\n",
            "\n",
            "Epoch 00051: saving model to audio.compress-0.6618.hdf5\n",
            "\n",
            "Epoch 00052: saving model to audio.compress-0.6616.hdf5\n",
            "\n",
            "Epoch 00053: saving model to audio.compress-0.6614.hdf5\n",
            "\n",
            "Epoch 00054: saving model to audio.compress-0.6612.hdf5\n",
            "\n",
            "Epoch 00055: saving model to audio.compress-0.6610.hdf5\n",
            "\n",
            "Epoch 00056: saving model to audio.compress-0.6608.hdf5\n",
            "\n",
            "Epoch 00057: saving model to audio.compress-0.6606.hdf5\n",
            "\n",
            "Epoch 00058: saving model to audio.compress-0.6604.hdf5\n",
            "\n",
            "Epoch 00059: saving model to audio.compress-0.6602.hdf5\n",
            "\n",
            "Epoch 00060: saving model to audio.compress-0.6600.hdf5\n",
            "\n",
            "Epoch 00061: saving model to audio.compress-0.6598.hdf5\n",
            "\n",
            "Epoch 00062: saving model to audio.compress-0.6596.hdf5\n",
            "\n",
            "Epoch 00063: saving model to audio.compress-0.6594.hdf5\n",
            "\n",
            "Epoch 00064: saving model to audio.compress-0.6592.hdf5\n",
            "\n",
            "Epoch 00065: saving model to audio.compress-0.6590.hdf5\n",
            "\n",
            "Epoch 00066: saving model to audio.compress-0.6589.hdf5\n",
            "\n",
            "Epoch 00067: saving model to audio.compress-0.6587.hdf5\n",
            "\n",
            "Epoch 00068: saving model to audio.compress-0.6585.hdf5\n",
            "\n",
            "Epoch 00069: saving model to audio.compress-0.6583.hdf5\n",
            "\n",
            "Epoch 00070: saving model to audio.compress-0.6581.hdf5\n",
            "\n",
            "Epoch 00071: saving model to audio.compress-0.6580.hdf5\n",
            "\n",
            "Epoch 00072: saving model to audio.compress-0.6578.hdf5\n",
            "\n",
            "Epoch 00073: saving model to audio.compress-0.6576.hdf5\n",
            "\n",
            "Epoch 00074: saving model to audio.compress-0.6575.hdf5\n",
            "\n",
            "Epoch 00075: saving model to audio.compress-0.6573.hdf5\n",
            "\n",
            "Epoch 00076: saving model to audio.compress-0.6571.hdf5\n",
            "\n",
            "Epoch 00077: saving model to audio.compress-0.6570.hdf5\n",
            "\n",
            "Epoch 00078: saving model to audio.compress-0.6568.hdf5\n",
            "\n",
            "Epoch 00079: saving model to audio.compress-0.6567.hdf5\n",
            "\n",
            "Epoch 00080: saving model to audio.compress-0.6565.hdf5\n",
            "\n",
            "Epoch 00081: saving model to audio.compress-0.6564.hdf5\n",
            "\n",
            "Epoch 00082: saving model to audio.compress-0.6563.hdf5\n",
            "\n",
            "Epoch 00083: saving model to audio.compress-0.6561.hdf5\n",
            "\n",
            "Epoch 00084: saving model to audio.compress-0.6560.hdf5\n",
            "\n",
            "Epoch 00085: saving model to audio.compress-0.6559.hdf5\n",
            "\n",
            "Epoch 00086: saving model to audio.compress-0.6557.hdf5\n",
            "\n",
            "Epoch 00087: saving model to audio.compress-0.6556.hdf5\n",
            "\n",
            "Epoch 00088: saving model to audio.compress-0.6555.hdf5\n",
            "\n",
            "Epoch 00089: saving model to audio.compress-0.6554.hdf5\n",
            "\n",
            "Epoch 00090: saving model to audio.compress-0.6553.hdf5\n",
            "\n",
            "Epoch 00091: saving model to audio.compress-0.6551.hdf5\n",
            "\n",
            "Epoch 00092: saving model to audio.compress-0.6550.hdf5\n",
            "\n",
            "Epoch 00093: saving model to audio.compress-0.6549.hdf5\n",
            "\n",
            "Epoch 00094: saving model to audio.compress-0.6548.hdf5\n",
            "\n",
            "Epoch 00095: saving model to audio.compress-0.6547.hdf5\n",
            "\n",
            "Epoch 00096: saving model to audio.compress-0.6546.hdf5\n",
            "\n",
            "Epoch 00097: saving model to audio.compress-0.6545.hdf5\n",
            "\n",
            "Epoch 00098: saving model to audio.compress-0.6544.hdf5\n",
            "\n",
            "Epoch 00099: saving model to audio.compress-0.6543.hdf5\n",
            "\n",
            "Epoch 00100: saving model to audio.compress-0.6542.hdf5\n"
          ]
        },
        {
          "output_type": "execute_result",
          "data": {
            "text/plain": [
              "<keras.callbacks.callbacks.History at 0x7ff361b81fd0>"
            ]
          },
          "metadata": {},
          "execution_count": 39
        }
      ]
    },
    {
      "cell_type": "markdown",
      "source": [
        "**Test on any files under the toronto directory**"
      ],
      "metadata": {
        "id": "d5ohyS3TYZGE"
      }
    },
    {
      "cell_type": "code",
      "source": [
        "filename = \"audio.compress-0.6565.hdf5\"\n",
        "autoencoder.load_weights(filename)\n",
        "autoencoder.compile(loss='mean_squared_error', optimizer='adam')\n",
        "encoded_imgs = encoder.predict(x_train)\n",
        "decoded_imgs = decoder.predict(encoded_imgs)\n",
        "\n",
        "n = 1  # how many files we will display\n",
        "plt.figure(figsize=(10, 5))\n",
        "for i in range(n):\n",
        "    # display original\n",
        "    ax = plt.subplot(2, n, i + 1)\n",
        "    plt.imshow(x_train[i].reshape(16,8 ))\n",
        "    plt.title(\"ORIGINAL AUDIO\")\n",
        "    plt.gray()\n",
        "    ax.get_xaxis().set_visible(False)\n",
        "    ax.get_yaxis().set_visible(False)\n",
        "plt.show()\n",
        "\n",
        "plt.figure(figsize=(8, .5))\n",
        "for i in range(n):\n",
        "    ax = plt.subplot(1, n, i+1)\n",
        "    plt.imshow(encoded_imgs.reshape(1792,100).T)\n",
        "    plt.title('ENCODED AUDIO')    \n",
        "    plt.gray()\n",
        "    ax.get_xaxis().set_visible(False)\n",
        "    ax.get_yaxis().set_visible(False)\n",
        "plt.show()\n",
        "\n",
        "plt.figure(figsize=(10, 5))\n",
        "for i in range(n):\n",
        "    # display reconstruction\n",
        "    ax = plt.subplot(2, n, i + 1 + n)\n",
        "    plt.imshow(decoded_imgs[i].reshape(16,8 ))\n",
        "    plt.title(\"RECONSTRUCTED AUDIO\")\n",
        "    plt.gray()\n",
        "    ax.get_xaxis().set_visible(False)\n",
        "    ax.get_yaxis().set_visible(False)\n",
        "plt.show()\n",
        "\n",
        "print(\"Accuracy=\",1-np.mean(abs(x_train-decoded_imgs)),'\\n')\n",
        "\n",
        "plt.figure(figsize=(10, 2))\n",
        "plt.plot(x_train[0],color='r',linewidth=3)\n",
        "plt.plot(decoded_imgs[0])\n",
        "plt.title('ORIGINAL (blue) and RECONSTRUCTED AUDIO (red)')\n",
        "plt.show()"
      ],
      "metadata": {
        "colab": {
          "base_uri": "https://localhost:8080/",
          "height": 580
        },
        "id": "WODcfNGRIwnz",
        "outputId": "99c48569-1714-48d0-c92e-e6c7797bac27"
      },
      "execution_count": null,
      "outputs": [
        {
          "output_type": "display_data",
          "data": {
            "text/plain": [
              "<Figure size 720x360 with 1 Axes>"
            ],
            "image/png": "[encoded data removed]"
          },
          "metadata": {
            "needs_background": "light"
          }
        },
        {
          "output_type": "display_data",
          "data": {
            "text/plain": [
              "<Figure size 576x36 with 1 Axes>"
            ],
            "image/png": "[encoded data removed]"
          },
          "metadata": {
            "needs_background": "light"
          }
        },
        {
          "output_type": "display_data",
          "data": {
            "text/plain": [
              "<Figure size 720x360 with 1 Axes>"
            ],
            "image/png": "[encoded data removed]"
          },
          "metadata": {
            "needs_background": "light"
          }
        },
        {
          "output_type": "stream",
          "name": "stdout",
          "text": [
            "Accuracy= 0.9181050509214401 \n",
            "\n"
          ]
        },
        {
          "output_type": "display_data",
          "data": {
            "text/plain": [
              "<Figure size 720x144 with 1 Axes>"
            ],
            "image/png": "[encoded data removed]"
          },
          "metadata": {
            "needs_background": "light"
          }
        }
      ]
    },
    {
      "cell_type": "code",
      "source": [
        "decoded_imgs.shape"
      ],
      "metadata": {
        "colab": {
          "base_uri": "https://localhost:8080/"
        },
        "id": "Wtw0zGBzJhFF",
        "outputId": "c377e45e-cb06-48b4-d8b6-c7d7fe1747c1"
      },
      "execution_count": null,
      "outputs": [
        {
          "output_type": "execute_result",
          "data": {
            "text/plain": [
              "(2800, 128)"
            ]
          },
          "metadata": {},
          "execution_count": 44
        }
      ]
    },
    {
      "cell_type": "code",
      "source": [
        "X_train_encoded, X_test_encoded, y_train_encoded, y_test_encoded = train_test_split(decoded_imgs, y, test_size=0.33, random_state=42)"
      ],
      "metadata": {
        "id": "86N0JKh9JkPy"
      },
      "execution_count": null,
      "outputs": []
    },
    {
      "cell_type": "markdown",
      "source": [
        "# **SVM Model**"
      ],
      "metadata": {
        "id": "lGcLJDbKYRsq"
      }
    },
    {
      "cell_type": "code",
      "source": [
        "# Building the SVM model \n",
        "svmclf = SVC() \n",
        "svmclf.fit(X_train_encoded, y_train_encoded) \n",
        "  \n",
        "# Storing the predictions of the non-linear model \n",
        "y_pred_svmclf = svmclf.predict(X_test_encoded) \n",
        "  \n",
        "# Evaluating the performance of the non-linear model \n",
        "print('Accuracy : '+str(accuracy_score(y_test_encoded, y_pred_svmclf))) "
      ],
      "metadata": {
        "colab": {
          "base_uri": "https://localhost:8080/"
        },
        "id": "PCdiO7bpJmzv",
        "outputId": "61839714-a221-4196-bf4d-7053858b0916"
      },
      "execution_count": null,
      "outputs": [
        {
          "output_type": "stream",
          "name": "stdout",
          "text": [
            "Accuracy : 0.9577922077922078\n"
          ]
        }
      ]
    },
    {
      "cell_type": "markdown",
      "source": [
        "# **DECISION TREE CLASSIFIER**"
      ],
      "metadata": {
        "id": "ZIBcQJSrYlK7"
      }
    },
    {
      "cell_type": "code",
      "source": [
        "from sklearn.tree import DecisionTreeClassifier\n",
        "\n",
        "dtree = DecisionTreeClassifier()\n",
        "\n",
        "dtree.fit(X_train_encoded, y_train_encoded)\n",
        "\n",
        "predictions = dtree.predict(X_test_encoded)\n",
        "from sklearn.metrics import classification_report,confusion_matrix\n",
        "print(classification_report(y_test_encoded,predictions))"
      ],
      "metadata": {
        "colab": {
          "base_uri": "https://localhost:8080/"
        },
        "id": "Cxas2TnuJovJ",
        "outputId": "d0f32c44-fc54-4cca-fddb-1a95e39d3ea6"
      },
      "execution_count": null,
      "outputs": [
        {
          "output_type": "stream",
          "name": "stdout",
          "text": [
            "              precision    recall  f1-score   support\n",
            "\n",
            "           0       0.98      0.98      0.98       128\n",
            "           1       0.89      0.94      0.91       125\n",
            "           2       0.83      0.82      0.82       130\n",
            "           3       0.84      0.85      0.84       137\n",
            "           4       0.86      0.85      0.85       139\n",
            "           5       0.89      0.87      0.88       135\n",
            "           6       0.96      0.94      0.95       130\n",
            "\n",
            "    accuracy                           0.89       924\n",
            "   macro avg       0.89      0.89      0.89       924\n",
            "weighted avg       0.89      0.89      0.89       924\n",
            "\n"
          ]
        }
      ]
    },
    {
      "cell_type": "markdown",
      "source": [
        "# **CNN Model**"
      ],
      "metadata": {
        "id": "MgZK6DukYu88"
      }
    },
    {
      "cell_type": "code",
      "source": [
        "x_traincnn_encoded = np.expand_dims(X_train_encoded, axis=2)\n",
        "x_testcnn_encoded = np.expand_dims(X_test_encoded, axis=2)\n",
        "x_traincnn_encoded.shape, x_testcnn_encoded.shape, y_train_encoded.shape, y_test_encoded.shape"
      ],
      "metadata": {
        "colab": {
          "base_uri": "https://localhost:8080/"
        },
        "id": "8slpSawOJrKO",
        "outputId": "14b435bd-192f-4768-cc68-e5e1d123effe"
      },
      "execution_count": null,
      "outputs": [
        {
          "output_type": "execute_result",
          "data": {
            "text/plain": [
              "((1876, 128, 1), (924, 128, 1), (1876,), (924,))"
            ]
          },
          "metadata": {},
          "execution_count": 49
        }
      ]
    },
    {
      "cell_type": "code",
      "source": [
        "import keras\n",
        "import numpy as np\n",
        "import matplotlib.pyplot as plt\n",
        "import tensorflow as tf\n",
        "from keras.preprocessing import sequence\n",
        "from keras.models import Sequential\n",
        "from keras.layers import Dense, Embedding\n",
        "from keras.utils import to_categorical\n",
        "from keras.layers import Input, Flatten, Dropout, Activation\n",
        "from keras.layers import Conv1D, MaxPooling1D\n",
        "from keras.models import Model\n",
        "from keras.callbacks import ModelCheckpoint\n",
        "\n",
        "model = Sequential()\n",
        "\n",
        "model.add(Conv1D(32, 5,padding='same',\n",
        "                 input_shape=(128,1)))\n",
        "#model.add(Conv1D(64, 5,padding='same', activation='relu'))\n",
        "#model.add(Activation('relu'))\n",
        "model.add(MaxPooling1D(pool_size=(8)))\n",
        "model.add(Dropout(0.25))\n",
        "\n",
        "model.add(Flatten())\n",
        "model.add(Dense(128, activation='relu'))\n",
        "model.add(Dropout(0.5))\n",
        "model.add(Dense(7, activation='softmax'))\n",
        "#opt = keras.optimizers.rmsprop(lr=0.00005, rho=0.9, epsilon=None, decay=0.0)\n",
        "model.summary()"
      ],
      "metadata": {
        "colab": {
          "base_uri": "https://localhost:8080/"
        },
        "id": "ALJyK0AcKRao",
        "outputId": "ac61b44f-e1ae-4bb8-f69b-cc58385dfd3b"
      },
      "execution_count": null,
      "outputs": [
        {
          "output_type": "stream",
          "name": "stdout",
          "text": [
            "Model: \"sequential_2\"\n",
            "_________________________________________________________________\n",
            "Layer (type)                 Output Shape              Param #   \n",
            "=================================================================\n",
            "conv1d_2 (Conv1D)            (None, 128, 32)           192       \n",
            "_________________________________________________________________\n",
            "max_pooling1d_2 (MaxPooling1 (None, 16, 32)            0         \n",
            "_________________________________________________________________\n",
            "dropout_3 (Dropout)          (None, 16, 32)            0         \n",
            "_________________________________________________________________\n",
            "flatten_2 (Flatten)          (None, 512)               0         \n",
            "_________________________________________________________________\n",
            "dense_5 (Dense)              (None, 128)               65664     \n",
            "_________________________________________________________________\n",
            "dropout_4 (Dropout)          (None, 128)               0         \n",
            "_________________________________________________________________\n",
            "dense_6 (Dense)              (None, 7)                 903       \n",
            "=================================================================\n",
            "Total params: 66,759\n",
            "Trainable params: 66,759\n",
            "Non-trainable params: 0\n",
            "_________________________________________________________________\n"
          ]
        }
      ]
    },
    {
      "cell_type": "code",
      "source": [
        "model.compile(loss='sparse_categorical_crossentropy',\n",
        "              optimizer=keras.optimizers.Adadelta(),\n",
        "              metrics=['accuracy'])\n",
        "cnnhistory_encoded=model.fit(x_traincnn_encoded, y_train_encoded, batch_size=128, epochs=70, validation_data=(x_testcnn_encoded, y_test_encoded))"
      ],
      "metadata": {
        "colab": {
          "base_uri": "https://localhost:8080/"
        },
        "id": "slsA5Bs0KUBJ",
        "outputId": "83d042a7-e0db-4eb1-ab76-7c89e6e8cb5c"
      },
      "execution_count": null,
      "outputs": [
        {
          "output_type": "stream",
          "name": "stdout",
          "text": [
            "Train on 1876 samples, validate on 924 samples\n",
            "Epoch 1/70\n",
            "1876/1876 [==============================] - 1s 416us/step - loss: 1.9588 - accuracy: 0.1594 - val_loss: 1.9133 - val_accuracy: 0.1851\n",
            "Epoch 2/70\n",
            "1876/1876 [==============================] - 0s 197us/step - loss: 1.9096 - accuracy: 0.2031 - val_loss: 1.8803 - val_accuracy: 0.1991\n",
            "Epoch 3/70\n",
            "1876/1876 [==============================] - 0s 199us/step - loss: 1.8754 - accuracy: 0.2441 - val_loss: 1.8100 - val_accuracy: 0.3593\n",
            "Epoch 4/70\n",
            "1876/1876 [==============================] - 0s 203us/step - loss: 1.8076 - accuracy: 0.2836 - val_loss: 1.7301 - val_accuracy: 0.2890\n",
            "Epoch 5/70\n",
            "1876/1876 [==============================] - 0s 183us/step - loss: 1.7319 - accuracy: 0.3076 - val_loss: 1.6511 - val_accuracy: 0.3842\n",
            "Epoch 6/70\n",
            "1876/1876 [==============================] - 0s 246us/step - loss: 1.6759 - accuracy: 0.3278 - val_loss: 1.5613 - val_accuracy: 0.3950\n",
            "Epoch 7/70\n",
            "1876/1876 [==============================] - 1s 286us/step - loss: 1.5950 - accuracy: 0.3438 - val_loss: 1.5063 - val_accuracy: 0.4719\n",
            "Epoch 8/70\n",
            "1876/1876 [==============================] - 0s 194us/step - loss: 1.5470 - accuracy: 0.3726 - val_loss: 1.4418 - val_accuracy: 0.3604\n",
            "Epoch 9/70\n",
            "1876/1876 [==============================] - 0s 183us/step - loss: 1.5039 - accuracy: 0.3865 - val_loss: 1.3836 - val_accuracy: 0.5866\n",
            "Epoch 10/70\n",
            "1876/1876 [==============================] - 0s 207us/step - loss: 1.4388 - accuracy: 0.4222 - val_loss: 1.3334 - val_accuracy: 0.5400\n",
            "Epoch 11/70\n",
            "1876/1876 [==============================] - 0s 215us/step - loss: 1.3922 - accuracy: 0.4462 - val_loss: 1.3235 - val_accuracy: 0.4502\n",
            "Epoch 12/70\n",
            "1876/1876 [==============================] - 0s 179us/step - loss: 1.3775 - accuracy: 0.4398 - val_loss: 1.2636 - val_accuracy: 0.6115\n",
            "Epoch 13/70\n",
            "1876/1876 [==============================] - 0s 171us/step - loss: 1.3365 - accuracy: 0.4590 - val_loss: 1.2456 - val_accuracy: 0.5184\n",
            "Epoch 14/70\n",
            "1876/1876 [==============================] - 0s 167us/step - loss: 1.2995 - accuracy: 0.4813 - val_loss: 1.2077 - val_accuracy: 0.5768\n",
            "Epoch 15/70\n",
            "1876/1876 [==============================] - 0s 243us/step - loss: 1.2745 - accuracy: 0.4835 - val_loss: 1.1698 - val_accuracy: 0.6504\n",
            "Epoch 16/70\n",
            "1876/1876 [==============================] - 0s 265us/step - loss: 1.2372 - accuracy: 0.5032 - val_loss: 1.1366 - val_accuracy: 0.6331\n",
            "Epoch 17/70\n",
            "1876/1876 [==============================] - 0s 203us/step - loss: 1.2155 - accuracy: 0.5133 - val_loss: 1.1287 - val_accuracy: 0.6245\n",
            "Epoch 18/70\n",
            "1876/1876 [==============================] - 0s 229us/step - loss: 1.1713 - accuracy: 0.5453 - val_loss: 1.0957 - val_accuracy: 0.6158\n",
            "Epoch 19/70\n",
            "1876/1876 [==============================] - 0s 261us/step - loss: 1.1535 - accuracy: 0.5389 - val_loss: 1.0614 - val_accuracy: 0.6320\n",
            "Epoch 20/70\n",
            "1876/1876 [==============================] - 0s 169us/step - loss: 1.1239 - accuracy: 0.5581 - val_loss: 1.0489 - val_accuracy: 0.5985\n",
            "Epoch 21/70\n",
            "1876/1876 [==============================] - 0s 151us/step - loss: 1.1056 - accuracy: 0.5554 - val_loss: 1.0090 - val_accuracy: 0.6916\n",
            "Epoch 22/70\n",
            "1876/1876 [==============================] - 0s 224us/step - loss: 1.0711 - accuracy: 0.5906 - val_loss: 0.9884 - val_accuracy: 0.6483\n",
            "Epoch 23/70\n",
            "1876/1876 [==============================] - 1s 270us/step - loss: 1.0469 - accuracy: 0.5954 - val_loss: 0.9630 - val_accuracy: 0.6742\n",
            "Epoch 24/70\n",
            "1876/1876 [==============================] - 1s 290us/step - loss: 1.0187 - accuracy: 0.6002 - val_loss: 0.9365 - val_accuracy: 0.6526\n",
            "Epoch 25/70\n",
            "1876/1876 [==============================] - 1s 327us/step - loss: 0.9944 - accuracy: 0.6119 - val_loss: 0.8986 - val_accuracy: 0.7013\n",
            "Epoch 26/70\n",
            "1876/1876 [==============================] - 1s 278us/step - loss: 0.9758 - accuracy: 0.6306 - val_loss: 0.8658 - val_accuracy: 0.7100\n",
            "Epoch 27/70\n",
            "1876/1876 [==============================] - 0s 264us/step - loss: 0.9583 - accuracy: 0.6269 - val_loss: 0.8655 - val_accuracy: 0.6786\n",
            "Epoch 28/70\n",
            "1876/1876 [==============================] - 1s 293us/step - loss: 0.9193 - accuracy: 0.6354 - val_loss: 0.8165 - val_accuracy: 0.7089\n",
            "Epoch 29/70\n",
            "1876/1876 [==============================] - 1s 302us/step - loss: 0.9104 - accuracy: 0.6445 - val_loss: 0.7863 - val_accuracy: 0.7468\n",
            "Epoch 30/70\n",
            "1876/1876 [==============================] - 1s 294us/step - loss: 0.8929 - accuracy: 0.6557 - val_loss: 0.7662 - val_accuracy: 0.7424\n",
            "Epoch 31/70\n",
            "1876/1876 [==============================] - 1s 296us/step - loss: 0.8545 - accuracy: 0.6690 - val_loss: 0.7737 - val_accuracy: 0.7219\n",
            "Epoch 32/70\n",
            "1876/1876 [==============================] - 0s 240us/step - loss: 0.8484 - accuracy: 0.6642 - val_loss: 0.7206 - val_accuracy: 0.7305\n",
            "Epoch 33/70\n",
            "1876/1876 [==============================] - 0s 231us/step - loss: 0.7959 - accuracy: 0.7042 - val_loss: 0.7151 - val_accuracy: 0.7500\n",
            "Epoch 34/70\n",
            "1876/1876 [==============================] - 1s 285us/step - loss: 0.8092 - accuracy: 0.6850 - val_loss: 0.6931 - val_accuracy: 0.7489\n",
            "Epoch 35/70\n",
            "1876/1876 [==============================] - 1s 293us/step - loss: 0.7812 - accuracy: 0.6823 - val_loss: 0.6449 - val_accuracy: 0.7976\n",
            "Epoch 36/70\n",
            "1876/1876 [==============================] - 1s 267us/step - loss: 0.7658 - accuracy: 0.7095 - val_loss: 0.6305 - val_accuracy: 0.7922\n",
            "Epoch 37/70\n",
            "1876/1876 [==============================] - 0s 224us/step - loss: 0.7292 - accuracy: 0.7239 - val_loss: 0.6288 - val_accuracy: 0.7684\n",
            "Epoch 38/70\n",
            "1876/1876 [==============================] - 0s 190us/step - loss: 0.7232 - accuracy: 0.7265 - val_loss: 0.5915 - val_accuracy: 0.8074\n",
            "Epoch 39/70\n",
            "1876/1876 [==============================] - 0s 187us/step - loss: 0.6876 - accuracy: 0.7468 - val_loss: 0.5865 - val_accuracy: 0.7900\n",
            "Epoch 40/70\n",
            "1876/1876 [==============================] - 0s 249us/step - loss: 0.6822 - accuracy: 0.7441 - val_loss: 0.5703 - val_accuracy: 0.8247\n",
            "Epoch 41/70\n",
            "1876/1876 [==============================] - 0s 151us/step - loss: 0.6889 - accuracy: 0.7303 - val_loss: 0.5466 - val_accuracy: 0.8528\n",
            "Epoch 42/70\n",
            "1876/1876 [==============================] - 0s 220us/step - loss: 0.6697 - accuracy: 0.7516 - val_loss: 0.5391 - val_accuracy: 0.8139\n",
            "Epoch 43/70\n",
            "1876/1876 [==============================] - 0s 208us/step - loss: 0.6554 - accuracy: 0.7516 - val_loss: 0.5206 - val_accuracy: 0.8506\n",
            "Epoch 44/70\n",
            "1876/1876 [==============================] - 0s 199us/step - loss: 0.6394 - accuracy: 0.7569 - val_loss: 0.5086 - val_accuracy: 0.8517\n",
            "Epoch 45/70\n",
            "1876/1876 [==============================] - 0s 245us/step - loss: 0.6146 - accuracy: 0.7692 - val_loss: 0.5266 - val_accuracy: 0.8074\n",
            "Epoch 46/70\n",
            "1876/1876 [==============================] - 0s 215us/step - loss: 0.6250 - accuracy: 0.7569 - val_loss: 0.4805 - val_accuracy: 0.8615\n",
            "Epoch 47/70\n",
            "1876/1876 [==============================] - 0s 167us/step - loss: 0.6037 - accuracy: 0.7740 - val_loss: 0.4917 - val_accuracy: 0.8506\n",
            "Epoch 48/70\n",
            "1876/1876 [==============================] - 0s 154us/step - loss: 0.5986 - accuracy: 0.7799 - val_loss: 0.4716 - val_accuracy: 0.8550\n",
            "Epoch 49/70\n",
            "1876/1876 [==============================] - 0s 162us/step - loss: 0.5891 - accuracy: 0.7921 - val_loss: 0.4486 - val_accuracy: 0.8723\n",
            "Epoch 50/70\n",
            "1876/1876 [==============================] - 0s 244us/step - loss: 0.5608 - accuracy: 0.7985 - val_loss: 0.4377 - val_accuracy: 0.8690\n",
            "Epoch 51/70\n",
            "1876/1876 [==============================] - 0s 197us/step - loss: 0.5589 - accuracy: 0.7852 - val_loss: 0.4406 - val_accuracy: 0.8701\n",
            "Epoch 52/70\n",
            "1876/1876 [==============================] - 0s 201us/step - loss: 0.5786 - accuracy: 0.7772 - val_loss: 0.4471 - val_accuracy: 0.8496\n",
            "Epoch 53/70\n",
            "1876/1876 [==============================] - 0s 179us/step - loss: 0.5515 - accuracy: 0.7985 - val_loss: 0.4227 - val_accuracy: 0.8680\n",
            "Epoch 54/70\n",
            "1876/1876 [==============================] - 0s 169us/step - loss: 0.5333 - accuracy: 0.8028 - val_loss: 0.3993 - val_accuracy: 0.8766\n",
            "Epoch 55/70\n",
            "1876/1876 [==============================] - 0s 194us/step - loss: 0.5319 - accuracy: 0.8049 - val_loss: 0.3927 - val_accuracy: 0.8755\n",
            "Epoch 56/70\n",
            "1876/1876 [==============================] - 0s 207us/step - loss: 0.5323 - accuracy: 0.8028 - val_loss: 0.3929 - val_accuracy: 0.8799\n",
            "Epoch 57/70\n",
            "1876/1876 [==============================] - 0s 172us/step - loss: 0.5396 - accuracy: 0.7980 - val_loss: 0.3975 - val_accuracy: 0.8874\n",
            "Epoch 58/70\n",
            "1876/1876 [==============================] - 0s 196us/step - loss: 0.5074 - accuracy: 0.8193 - val_loss: 0.3865 - val_accuracy: 0.8842\n",
            "Epoch 59/70\n",
            "1876/1876 [==============================] - 0s 193us/step - loss: 0.5034 - accuracy: 0.8204 - val_loss: 0.3680 - val_accuracy: 0.8885\n",
            "Epoch 60/70\n",
            "1876/1876 [==============================] - 0s 173us/step - loss: 0.4931 - accuracy: 0.8172 - val_loss: 0.3660 - val_accuracy: 0.8896\n",
            "Epoch 61/70\n",
            "1876/1876 [==============================] - 0s 180us/step - loss: 0.4884 - accuracy: 0.8204 - val_loss: 0.3616 - val_accuracy: 0.8907\n",
            "Epoch 62/70\n",
            "1876/1876 [==============================] - 1s 270us/step - loss: 0.4727 - accuracy: 0.8316 - val_loss: 0.3466 - val_accuracy: 0.8961\n",
            "Epoch 63/70\n",
            "1876/1876 [==============================] - 0s 219us/step - loss: 0.4741 - accuracy: 0.8321 - val_loss: 0.3451 - val_accuracy: 0.9004\n",
            "Epoch 64/70\n",
            "1876/1876 [==============================] - 0s 230us/step - loss: 0.4764 - accuracy: 0.8294 - val_loss: 0.3388 - val_accuracy: 0.9037\n",
            "Epoch 65/70\n",
            "1876/1876 [==============================] - 0s 183us/step - loss: 0.4538 - accuracy: 0.8401 - val_loss: 0.3323 - val_accuracy: 0.8929\n",
            "Epoch 66/70\n",
            "1876/1876 [==============================] - 0s 174us/step - loss: 0.4570 - accuracy: 0.8326 - val_loss: 0.3575 - val_accuracy: 0.8745\n",
            "Epoch 67/70\n",
            "1876/1876 [==============================] - 0s 109us/step - loss: 0.4702 - accuracy: 0.8225 - val_loss: 0.3270 - val_accuracy: 0.9004\n",
            "Epoch 68/70\n",
            "1876/1876 [==============================] - 0s 107us/step - loss: 0.4375 - accuracy: 0.8545 - val_loss: 0.3066 - val_accuracy: 0.9134\n",
            "Epoch 69/70\n",
            "1876/1876 [==============================] - 0s 107us/step - loss: 0.4340 - accuracy: 0.8507 - val_loss: 0.3230 - val_accuracy: 0.9004\n",
            "Epoch 70/70\n",
            "1876/1876 [==============================] - 0s 107us/step - loss: 0.4245 - accuracy: 0.8470 - val_loss: 0.3115 - val_accuracy: 0.9058\n"
          ]
        }
      ]
    },
    {
      "cell_type": "code",
      "source": [
        "score = model.evaluate(x_testcnn_encoded, y_test_encoded, verbose=0)\n",
        "print('Test loss:', score[0])\n",
        "print('Test accuracy:', score[1])"
      ],
      "metadata": {
        "colab": {
          "base_uri": "https://localhost:8080/"
        },
        "id": "4HGecdaMKWi_",
        "outputId": "bffe38c9-44e3-41d4-b6e6-5cec6da72f25"
      },
      "execution_count": null,
      "outputs": [
        {
          "output_type": "stream",
          "name": "stdout",
          "text": [
            "Test loss: 0.3114728992119496\n",
            "Test accuracy: 0.9058441519737244\n"
          ]
        }
      ]
    },
    {
      "cell_type": "code",
      "source": [
        "predictions = model.predict_classes(x_testcnn_encoded)\n",
        "predictions\n",
        "y_test_encoded\n",
        "new_Ytest_encoded = y_test_encoded.astype(int)\n",
        "new_Ytest_encoded"
      ],
      "metadata": {
        "colab": {
          "base_uri": "https://localhost:8080/"
        },
        "id": "6kP4VQvCKZIw",
        "outputId": "948db5c3-3e3b-44fc-d337-dceb6ca37193"
      },
      "execution_count": null,
      "outputs": [
        {
          "output_type": "execute_result",
          "data": {
            "text/plain": [
              "array([3, 0, 3, 3, 2, 1, 4, 0, 4, 3, 5, 5, 3, 3, 3, 6, 0, 6, 5, 3, 4, 0,\n",
              "       6, 4, 0, 6, 5, 1, 0, 4, 1, 6, 0, 0, 3, 6, 5, 1, 0, 6, 2, 0, 3, 5,\n",
              "       6, 6, 0, 4, 4, 0, 1, 1, 1, 6, 3, 3, 2, 4, 2, 1, 3, 4, 6, 4, 5, 4,\n",
              "       0, 1, 4, 3, 3, 6, 1, 5, 0, 6, 4, 6, 0, 2, 0, 2, 0, 4, 6, 1, 1, 5,\n",
              "       6, 6, 5, 0, 3, 4, 0, 6, 1, 3, 3, 3, 3, 4, 5, 5, 4, 0, 4, 2, 0, 6,\n",
              "       1, 1, 4, 2, 0, 6, 0, 2, 3, 6, 3, 6, 4, 0, 3, 4, 2, 4, 0, 5, 3, 6,\n",
              "       5, 5, 5, 2, 3, 2, 3, 1, 2, 3, 4, 4, 2, 4, 4, 2, 1, 3, 6, 3, 4, 4,\n",
              "       5, 5, 0, 0, 3, 1, 1, 6, 4, 5, 1, 1, 1, 0, 2, 5, 0, 1, 1, 6, 1, 3,\n",
              "       4, 2, 5, 2, 1, 3, 2, 3, 4, 6, 6, 1, 4, 5, 6, 0, 5, 1, 6, 5, 4, 4,\n",
              "       6, 5, 3, 3, 6, 6, 0, 6, 2, 6, 3, 4, 2, 0, 3, 4, 6, 2, 2, 0, 4, 4,\n",
              "       6, 5, 2, 1, 3, 4, 0, 0, 3, 6, 4, 4, 2, 3, 2, 5, 6, 2, 3, 5, 4, 1,\n",
              "       0, 2, 1, 0, 1, 1, 4, 4, 3, 3, 2, 2, 3, 5, 3, 0, 6, 1, 3, 4, 5, 0,\n",
              "       0, 6, 5, 4, 3, 0, 3, 1, 4, 6, 0, 6, 2, 6, 1, 4, 4, 0, 4, 2, 2, 5,\n",
              "       2, 2, 6, 4, 5, 5, 3, 4, 4, 1, 4, 4, 2, 1, 4, 0, 3, 2, 4, 2, 3, 0,\n",
              "       1, 4, 5, 4, 3, 6, 3, 1, 5, 1, 4, 3, 2, 3, 2, 6, 4, 5, 6, 3, 2, 4,\n",
              "       3, 5, 6, 3, 5, 4, 2, 6, 0, 5, 5, 2, 0, 6, 5, 5, 6, 2, 1, 2, 4, 4,\n",
              "       4, 5, 6, 0, 6, 2, 1, 3, 6, 5, 4, 1, 0, 4, 3, 3, 5, 1, 0, 0, 5, 2,\n",
              "       2, 5, 1, 1, 4, 2, 1, 3, 4, 2, 3, 0, 6, 5, 4, 6, 2, 1, 1, 3, 1, 6,\n",
              "       2, 2, 0, 5, 5, 4, 3, 1, 1, 0, 2, 5, 0, 0, 6, 4, 5, 3, 6, 5, 4, 6,\n",
              "       2, 2, 4, 3, 6, 6, 6, 4, 6, 5, 5, 5, 4, 3, 2, 2, 0, 2, 0, 2, 1, 6,\n",
              "       0, 6, 6, 1, 0, 0, 5, 6, 5, 5, 0, 4, 5, 2, 2, 4, 6, 0, 5, 3, 6, 6,\n",
              "       3, 3, 0, 5, 6, 3, 3, 1, 1, 3, 4, 5, 6, 3, 5, 6, 5, 4, 4, 6, 2, 1,\n",
              "       0, 4, 0, 2, 1, 5, 1, 6, 5, 4, 5, 4, 2, 6, 5, 2, 5, 5, 4, 0, 1, 3,\n",
              "       4, 1, 4, 4, 5, 6, 3, 6, 6, 3, 0, 5, 4, 0, 1, 2, 4, 6, 0, 3, 1, 5,\n",
              "       3, 3, 0, 6, 2, 3, 6, 1, 0, 2, 1, 6, 1, 5, 5, 2, 2, 2, 2, 5, 1, 2,\n",
              "       1, 3, 5, 3, 3, 0, 3, 3, 0, 4, 6, 1, 2, 1, 0, 1, 5, 6, 1, 3, 2, 5,\n",
              "       0, 1, 3, 3, 5, 5, 4, 2, 1, 2, 0, 5, 3, 3, 6, 6, 6, 4, 6, 1, 1, 4,\n",
              "       1, 2, 5, 1, 2, 4, 5, 1, 2, 5, 0, 6, 3, 3, 5, 0, 5, 6, 3, 3, 4, 1,\n",
              "       4, 4, 2, 1, 5, 1, 0, 5, 5, 0, 1, 1, 0, 4, 2, 3, 3, 6, 5, 0, 3, 4,\n",
              "       1, 2, 0, 3, 2, 0, 6, 2, 1, 0, 5, 3, 0, 0, 6, 4, 3, 1, 5, 3, 0, 1,\n",
              "       0, 4, 0, 6, 6, 2, 5, 6, 6, 2, 2, 0, 6, 3, 1, 0, 2, 4, 3, 0, 0, 3,\n",
              "       1, 4, 6, 1, 1, 5, 0, 6, 5, 4, 1, 2, 2, 0, 6, 0, 2, 2, 5, 0, 2, 3,\n",
              "       0, 3, 0, 0, 5, 1, 4, 2, 1, 3, 5, 0, 2, 5, 3, 4, 3, 3, 1, 4, 5, 3,\n",
              "       3, 5, 3, 6, 6, 6, 4, 0, 5, 5, 3, 3, 3, 3, 1, 1, 6, 0, 4, 6, 3, 4,\n",
              "       1, 4, 0, 0, 1, 6, 1, 4, 4, 1, 5, 1, 0, 1, 2, 3, 2, 3, 1, 0, 6, 5,\n",
              "       1, 3, 6, 2, 5, 3, 4, 5, 6, 2, 6, 3, 2, 1, 5, 6, 0, 6, 4, 2, 4, 2,\n",
              "       0, 5, 3, 5, 1, 4, 3, 6, 6, 6, 6, 0, 4, 6, 0, 2, 2, 2, 5, 5, 6, 4,\n",
              "       5, 5, 6, 1, 4, 2, 0, 0, 0, 2, 3, 5, 4, 2, 1, 3, 2, 4, 4, 0, 2, 0,\n",
              "       1, 6, 5, 2, 5, 0, 1, 0, 5, 2, 2, 4, 1, 4, 3, 4, 5, 1, 5, 4, 1, 0,\n",
              "       5, 4, 6, 4, 1, 4, 1, 4, 2, 1, 2, 2, 4, 2, 4, 5, 0, 1, 2, 5, 2, 3,\n",
              "       2, 0, 5, 1, 0, 5, 1, 5, 5, 3, 2, 6, 6, 2, 2, 5, 2, 5, 4, 4, 3, 1,\n",
              "       1, 4, 3, 5, 4, 6, 0, 0, 0, 5, 1, 2, 0, 3, 2, 6, 2, 3, 2, 5, 6, 3])"
            ]
          },
          "metadata": {},
          "execution_count": 53
        }
      ]
    },
    {
      "cell_type": "code",
      "source": [
        "from sklearn.metrics import classification_report\n",
        "report = classification_report(new_Ytest_encoded, predictions)\n",
        "print(report)"
      ],
      "metadata": {
        "colab": {
          "base_uri": "https://localhost:8080/"
        },
        "id": "c9m2D_dBKa80",
        "outputId": "9ea0331a-5197-41e9-c739-725d29ce771e"
      },
      "execution_count": null,
      "outputs": [
        {
          "output_type": "stream",
          "name": "stdout",
          "text": [
            "              precision    recall  f1-score   support\n",
            "\n",
            "           0       1.00      0.99      1.00       128\n",
            "           1       0.92      0.98      0.95       125\n",
            "           2       0.78      0.93      0.85       130\n",
            "           3       0.87      0.90      0.88       137\n",
            "           4       0.87      0.87      0.87       139\n",
            "           5       0.99      0.78      0.87       135\n",
            "           6       0.97      0.90      0.94       130\n",
            "\n",
            "    accuracy                           0.91       924\n",
            "   macro avg       0.91      0.91      0.91       924\n",
            "weighted avg       0.91      0.91      0.91       924\n",
            "\n"
          ]
        }
      ]
    },
    {
      "cell_type": "markdown",
      "source": [
        "# **PLOTTING THE CONFUSION MATRIX**"
      ],
      "metadata": {
        "id": "FCX3CDltY3zh"
      }
    },
    {
      "cell_type": "code",
      "source": [
        "from sklearn.metrics import confusion_matrix\n",
        "matrix = confusion_matrix(new_Ytest_encoded, predictions)\n",
        "print (matrix)\n",
        "\n",
        "# 0 = angry, 1 = disgust, 2 = fear, 3 = happy, 4 = neutral, 5 = surprise, 6 = sad"
      ],
      "metadata": {
        "colab": {
          "base_uri": "https://localhost:8080/"
        },
        "id": "_rDoCDIvKc8B",
        "outputId": "1d865a4d-4b15-4148-aab7-2f4b7a31e9b7"
      },
      "execution_count": null,
      "outputs": [
        {
          "output_type": "stream",
          "name": "stdout",
          "text": [
            "[[127   0   0   0   0   0   1]\n",
            " [  0 123   0   1   0   1   0]\n",
            " [  0   0 121   4   4   0   1]\n",
            " [  0   1  13 123   0   0   0]\n",
            " [  0   1  15   1 121   0   1]\n",
            " [  0   9   0  13   8 105   0]\n",
            " [  0   0   7   0   6   0 117]]\n"
          ]
        }
      ]
    },
    {
      "cell_type": "markdown",
      "source": [
        "# **SAVE THE MODEL**"
      ],
      "metadata": {
        "id": "SnBDK9uSY_Qo"
      }
    },
    {
      "cell_type": "code",
      "source": [
        "model_name = 'autoencoder.h5'\n",
        "save_dir = '/content/drive/My Drive/Colab Notebooks'\n",
        "# Save model and weights\n",
        "if not os.path.isdir(save_dir):\n",
        "    os.makedirs(save_dir)\n",
        "model_path = os.path.join(save_dir, model_name)\n",
        "model.save(model_path)\n",
        "print('Saved trained model at %s ' % model_path)"
      ],
      "metadata": {
        "colab": {
          "base_uri": "https://localhost:8080/"
        },
        "id": "66-xpXZnKuA-",
        "outputId": "cc9445df-ac74-4384-a37f-34546e88aaf1"
      },
      "execution_count": null,
      "outputs": [
        {
          "output_type": "stream",
          "name": "stdout",
          "text": [
            "Saved trained model at /content/drive/My Drive/Colab Notebooks/autoencoder.h5 \n"
          ]
        }
      ]
    },
    {
      "cell_type": "code",
      "source": [
        "loaded_model = keras.models.load_model('/content/drive/MyDrive/Colab Notebooks/autoencoder.h5')\n",
        "loaded_model.summary()\n",
        "loss, acc = loaded_model.evaluate(x_testcnn_encoded, y_test_encoded)\n",
        "print(\"Restored model, accuracy: {:5.2f}%\".format(100*acc))"
      ],
      "metadata": {
        "colab": {
          "base_uri": "https://localhost:8080/"
        },
        "id": "rwXappBVKxiI",
        "outputId": "243e10e5-1de5-475b-c044-2c4b32411f86"
      },
      "execution_count": null,
      "outputs": [
        {
          "output_type": "stream",
          "name": "stdout",
          "text": [
            "Model: \"sequential_2\"\n",
            "_________________________________________________________________\n",
            "Layer (type)                 Output Shape              Param #   \n",
            "=================================================================\n",
            "conv1d_2 (Conv1D)            (None, 128, 32)           192       \n",
            "_________________________________________________________________\n",
            "max_pooling1d_2 (MaxPooling1 (None, 16, 32)            0         \n",
            "_________________________________________________________________\n",
            "dropout_3 (Dropout)          (None, 16, 32)            0         \n",
            "_________________________________________________________________\n",
            "flatten_2 (Flatten)          (None, 512)               0         \n",
            "_________________________________________________________________\n",
            "dense_5 (Dense)              (None, 128)               65664     \n",
            "_________________________________________________________________\n",
            "dropout_4 (Dropout)          (None, 128)               0         \n",
            "_________________________________________________________________\n",
            "dense_6 (Dense)              (None, 7)                 903       \n",
            "=================================================================\n",
            "Total params: 66,759\n",
            "Trainable params: 66,759\n",
            "Non-trainable params: 0\n",
            "_________________________________________________________________\n",
            "924/924 [==============================] - 0s 117us/step\n",
            "Restored model, accuracy: 90.58%\n"
          ]
        }
      ]
    },
    {
      "cell_type": "code",
      "source": [],
      "metadata": {
        "id": "_hGL7s2gcWgs"
      },
      "execution_count": null,
      "outputs": []
    }
  ]
}