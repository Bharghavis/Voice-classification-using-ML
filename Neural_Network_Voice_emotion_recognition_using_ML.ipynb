{
  "nbformat": 4,
  "nbformat_minor": 0,
  "metadata": {
    "colab": {
      "provenance": [],
      "mount_file_id": "1YwbHUkByy548ENi5z4UiNHWIgp69hjsb",
      "authorship_tag": "ABX9TyOEGY9msVU89MaTRE7Cp+oV",
      "include_colab_link": true
    },
    "kernelspec": {
      "name": "python3",
      "display_name": "Python 3"
    },
    "language_info": {
      "name": "python"
    }
  },
  "cells": [
    {
      "cell_type": "markdown",
      "metadata": {
        "id": "view-in-github",
        "colab_type": "text"
      },
      "source": [
        "<a href=\"https://colab.research.google.com/github/Bharghavis/Voice-classification-using-ML/blob/main/Neural_Network_Voice_emotion_recognition_using_ML.ipynb\" target=\"_parent\"><img src=\"https://colab.research.google.com/assets/colab-badge.svg\" alt=\"Open In Colab\"/></a>"
      ]
    },
    {
      "cell_type": "code",
      "source": [
        "from google.colab import drive\n",
        "drive.mount('/content/drive')"
      ],
      "metadata": {
        "id": "2B0A73GXHR7-",
        "colab": {
          "base_uri": "https://localhost:8080/"
        },
        "outputId": "7d4447b5-76bc-451f-f24e-094e33b4e74e"
      },
      "execution_count": null,
      "outputs": [
        {
          "output_type": "stream",
          "name": "stdout",
          "text": [
            "Drive already mounted at /content/drive; to attempt to forcibly remount, call drive.mount(\"/content/drive\", force_remount=True).\n"
          ]
        }
      ]
    },
    {
      "cell_type": "code",
      "execution_count": null,
      "metadata": {
        "id": "OCNZtvIUFzre",
        "colab": {
          "base_uri": "https://localhost:8080/"
        },
        "outputId": "791eb550-9ded-4711-ccdc-10c7dc1d39ed"
      },
      "outputs": [
        {
          "output_type": "stream",
          "name": "stdout",
          "text": [
            "Looking in indexes: https://pypi.org/simple, https://us-python.pkg.dev/colab-wheels/public/simple/\n",
            "Requirement already satisfied: librosa in /usr/local/lib/python3.7/dist-packages (0.8.1)\n",
            "Requirement already satisfied: pooch>=1.0 in /usr/local/lib/python3.7/dist-packages (from librosa) (1.6.0)\n",
            "Requirement already satisfied: decorator>=3.0.0 in /usr/local/lib/python3.7/dist-packages (from librosa) (4.4.2)\n",
            "Requirement already satisfied: numpy>=1.15.0 in /usr/local/lib/python3.7/dist-packages (from librosa) (1.21.6)\n",
            "Requirement already satisfied: soundfile>=0.10.2 in /usr/local/lib/python3.7/dist-packages (from librosa) (0.10.3.post1)\n",
            "Requirement already satisfied: resampy>=0.2.2 in /usr/local/lib/python3.7/dist-packages (from librosa) (0.4.0)\n",
            "Requirement already satisfied: numba>=0.43.0 in /usr/local/lib/python3.7/dist-packages (from librosa) (0.56.2)\n",
            "Requirement already satisfied: packaging>=20.0 in /usr/local/lib/python3.7/dist-packages (from librosa) (21.3)\n",
            "Requirement already satisfied: scipy>=1.0.0 in /usr/local/lib/python3.7/dist-packages (from librosa) (1.7.3)\n",
            "Requirement already satisfied: joblib>=0.14 in /usr/local/lib/python3.7/dist-packages (from librosa) (1.1.0)\n",
            "Requirement already satisfied: audioread>=2.0.0 in /usr/local/lib/python3.7/dist-packages (from librosa) (3.0.0)\n",
            "Requirement already satisfied: scikit-learn!=0.19.0,>=0.14.0 in /usr/local/lib/python3.7/dist-packages (from librosa) (1.0.2)\n",
            "Requirement already satisfied: setuptools<60 in /usr/local/lib/python3.7/dist-packages (from numba>=0.43.0->librosa) (57.4.0)\n",
            "Requirement already satisfied: importlib-metadata in /usr/local/lib/python3.7/dist-packages (from numba>=0.43.0->librosa) (4.12.0)\n",
            "Requirement already satisfied: llvmlite<0.40,>=0.39.0dev0 in /usr/local/lib/python3.7/dist-packages (from numba>=0.43.0->librosa) (0.39.1)\n",
            "Requirement already satisfied: pyparsing!=3.0.5,>=2.0.2 in /usr/local/lib/python3.7/dist-packages (from packaging>=20.0->librosa) (3.0.9)\n",
            "Requirement already satisfied: appdirs>=1.3.0 in /usr/local/lib/python3.7/dist-packages (from pooch>=1.0->librosa) (1.4.4)\n",
            "Requirement already satisfied: requests>=2.19.0 in /usr/local/lib/python3.7/dist-packages (from pooch>=1.0->librosa) (2.23.0)\n",
            "Requirement already satisfied: urllib3!=1.25.0,!=1.25.1,<1.26,>=1.21.1 in /usr/local/lib/python3.7/dist-packages (from requests>=2.19.0->pooch>=1.0->librosa) (1.24.3)\n",
            "Requirement already satisfied: idna<3,>=2.5 in /usr/local/lib/python3.7/dist-packages (from requests>=2.19.0->pooch>=1.0->librosa) (2.10)\n",
            "Requirement already satisfied: chardet<4,>=3.0.2 in /usr/local/lib/python3.7/dist-packages (from requests>=2.19.0->pooch>=1.0->librosa) (3.0.4)\n",
            "Requirement already satisfied: certifi>=2017.4.17 in /usr/local/lib/python3.7/dist-packages (from requests>=2.19.0->pooch>=1.0->librosa) (2022.6.15)\n",
            "Requirement already satisfied: threadpoolctl>=2.0.0 in /usr/local/lib/python3.7/dist-packages (from scikit-learn!=0.19.0,>=0.14.0->librosa) (3.1.0)\n",
            "Requirement already satisfied: cffi>=1.0 in /usr/local/lib/python3.7/dist-packages (from soundfile>=0.10.2->librosa) (1.15.1)\n",
            "Requirement already satisfied: pycparser in /usr/local/lib/python3.7/dist-packages (from cffi>=1.0->soundfile>=0.10.2->librosa) (2.21)\n",
            "Requirement already satisfied: zipp>=0.5 in /usr/local/lib/python3.7/dist-packages (from importlib-metadata->numba>=0.43.0->librosa) (3.8.1)\n",
            "Requirement already satisfied: typing-extensions>=3.6.4 in /usr/local/lib/python3.7/dist-packages (from importlib-metadata->numba>=0.43.0->librosa) (4.1.1)\n"
          ]
        }
      ],
      "source": [
        "!pip install librosa"
      ]
    },
    {
      "cell_type": "code",
      "source": [
        "import librosa\n",
        "from librosa import display\n",
        "\n",
        "data, sampling_rate = librosa.load('/content/drive/MyDrive/Colab Notebooks/archive (1)/Actor_05/03-01-01-01-01-01-05.wav')"
      ],
      "metadata": {
        "id": "NuuRrU5qF1xF"
      },
      "execution_count": null,
      "outputs": []
    },
    {
      "cell_type": "code",
      "source": [
        "%pylab inline\n",
        "import matplotlib.pyplot as plt\n",
        "\n",
        "plt.figure(figsize=(12, 4))\n",
        "librosa.display.waveplot(data, sr=sampling_rate)"
      ],
      "metadata": {
        "id": "G81WlBqtF4SX",
        "colab": {
          "base_uri": "https://localhost:8080/",
          "height": 386
        },
        "outputId": "c55b6124-b711-4c47-b9d6-4f8096fe5fdc"
      },
      "execution_count": null,
      "outputs": [
        {
          "output_type": "stream",
          "name": "stdout",
          "text": [
            "Populating the interactive namespace from numpy and matplotlib\n"
          ]
        },
        {
          "output_type": "stream",
          "name": "stderr",
          "text": [
            "/usr/local/lib/python3.7/dist-packages/IPython/core/magics/pylab.py:160: UserWarning: pylab import has clobbered these variables: ['display']\n",
            "`%matplotlib` prevents importing * from pylab and numpy\n",
            "  \"\\n`%matplotlib` prevents importing * from pylab and numpy\"\n"
          ]
        },
        {
          "output_type": "execute_result",
          "data": {
            "text/plain": [
              "<matplotlib.collections.PolyCollection at 0x7f374d8b1090>"
            ]
          },
          "metadata": {},
          "execution_count": 67
        },
        {
          "output_type": "display_data",
          "data": {
            "text/plain": [
              "<Figure size 864x288 with 1 Axes>"
            ],
            "image/png": "[encoded data removed]"
          },
          "metadata": {
            "needs_background": "light"
          }
        }
      ]
    },
    {
      "cell_type": "code",
      "source": [
        "import time\n",
        "import os\n",
        "path = '/content/drive/MyDrive/Colab Notebooks/archive (1)'\n",
        "lst = []\n",
        "\n",
        "start_time = time.time()\n",
        "\n",
        "for subdir, dirs, files in os.walk(path):\n",
        "  for file in files:\n",
        "      try:\n",
        "        #Load librosa array, obtain mfcss, store the file and the mcss information in a new array\n",
        "        X, sample_rate = librosa.load(os.path.join(subdir,file), res_type='kaiser_fast')\n",
        "        mfccs = np.mean(librosa.feature.mfcc(y=X, sr=sample_rate, n_mfcc=40).T,axis=0) \n",
        "        # The instruction below converts the labels (from 1 to 8) to a series from 0 to 7\n",
        "        # This is because our predictor needs to start from 0 otherwise it will try to predict also 0.\n",
        "        file = int(file[7:8]) - 1 \n",
        "        arr = mfccs, file\n",
        "        lst.append(arr)\n",
        "      # If the file is not valid, skip it\n",
        "      except ValueError:\n",
        "        continue\n",
        "\n",
        "print(\"--- Data loaded. Loading time: %s seconds ---\" % (time.time() - start_time))"
      ],
      "metadata": {
        "id": "fFpBUr8RF63x",
        "colab": {
          "base_uri": "https://localhost:8080/"
        },
        "outputId": "7e867a10-cdc6-4a1b-e290-f72beec89e31"
      },
      "execution_count": null,
      "outputs": [
        {
          "output_type": "stream",
          "name": "stdout",
          "text": [
            "--- Data loaded. Loading time: 1664.9697258472443 seconds ---\n"
          ]
        }
      ]
    },
    {
      "cell_type": "code",
      "source": [
        "# Creating X and y: zip makes a list of all the first elements, and a list of all the second elements.\n",
        "X, y = zip(*lst)"
      ],
      "metadata": {
        "id": "RNtX5HZtF8xh"
      },
      "execution_count": null,
      "outputs": []
    },
    {
      "cell_type": "code",
      "source": [
        "import numpy as np\n",
        "X = np.asarray(X)\n",
        "y = np.asarray(y)\n",
        "\n",
        "\n",
        "X.shape, y.shape"
      ],
      "metadata": {
        "id": "nanvyLi4F_Hy",
        "colab": {
          "base_uri": "https://localhost:8080/"
        },
        "outputId": "2369342a-3e6d-4d0d-c72b-009b31ddc3e5"
      },
      "execution_count": null,
      "outputs": [
        {
          "output_type": "execute_result",
          "data": {
            "text/plain": [
              "((2880, 40), (2880,))"
            ]
          },
          "metadata": {},
          "execution_count": 70
        }
      ]
    },
    {
      "cell_type": "code",
      "source": [
        "# Saving joblib files to not load them again with the loop above\n",
        "\n",
        "import joblib\n",
        "\n",
        "X_name = 'X.joblib'\n",
        "y_name = 'y.joblib'\n",
        "save_dir = '/content/drive/MyDrive/Colab Notebooks/RAVDESS_MODEL'\n",
        "\n",
        "savedX = joblib.dump(X, os.path.join(save_dir, X_name))\n",
        "savedy = joblib.dump(y, os.path.join(save_dir, y_name))"
      ],
      "metadata": {
        "id": "oF3fTPfgGBjY"
      },
      "execution_count": null,
      "outputs": []
    },
    {
      "cell_type": "code",
      "source": [
        "# Loading saved models\n",
        "import joblib\n",
        "X = joblib.load('/content/drive/MyDrive/Colab Notebooks/RAVDESS_MODEL/X.joblib')\n",
        "y = joblib.load('/content/drive/MyDrive/Colab Notebooks/RAVDESS_MODEL/y.joblib')"
      ],
      "metadata": {
        "id": "Jmpb2qhmGDSu"
      },
      "execution_count": null,
      "outputs": []
    },
    {
      "cell_type": "code",
      "source": [
        "from sklearn.model_selection import train_test_split\n",
        "\n",
        "X_train, X_test, y_train, y_test = train_test_split(X,y, test_size=0.33, random_state=42)"
      ],
      "metadata": {
        "id": "st5s51_pGGd5"
      },
      "execution_count": null,
      "outputs": []
    },
    {
      "cell_type": "code",
      "source": [
        "from sklearn.tree import DecisionTreeClassifier"
      ],
      "metadata": {
        "id": "4Vyg5lv1GJa2"
      },
      "execution_count": null,
      "outputs": []
    },
    {
      "cell_type": "code",
      "source": [
        "dtree = DecisionTreeClassifier()"
      ],
      "metadata": {
        "id": "IQNA1cfz8ROY"
      },
      "execution_count": null,
      "outputs": []
    },
    {
      "cell_type": "code",
      "source": [
        "dtree.fit(X_train, y_train)"
      ],
      "metadata": {
        "id": "1HBwfaZ88Tk3",
        "colab": {
          "base_uri": "https://localhost:8080/"
        },
        "outputId": "b3557f4c-b225-4c76-d912-8fb2bb6fc7d0"
      },
      "execution_count": null,
      "outputs": [
        {
          "output_type": "execute_result",
          "data": {
            "text/plain": [
              "DecisionTreeClassifier()"
            ]
          },
          "metadata": {},
          "execution_count": 76
        }
      ]
    },
    {
      "cell_type": "code",
      "source": [
        "predictions = dtree.predict(X_test)"
      ],
      "metadata": {
        "id": "EJXuTDLw0JbW"
      },
      "execution_count": null,
      "outputs": []
    },
    {
      "cell_type": "code",
      "source": [
        "from sklearn.metrics import classification_report,confusion_matrix\n",
        "print(classification_report(y_test,predictions))"
      ],
      "metadata": {
        "colab": {
          "base_uri": "https://localhost:8080/"
        },
        "id": "8VF9YsG70LPH",
        "outputId": "91c0ddbe-f921-4dee-fd69-e0b4261519f6"
      },
      "execution_count": null,
      "outputs": [
        {
          "output_type": "stream",
          "name": "stdout",
          "text": [
            "              precision    recall  f1-score   support\n",
            "\n",
            "           0       0.67      0.72      0.69        57\n",
            "           1       0.84      0.86      0.85       126\n",
            "           2       0.86      0.71      0.78       133\n",
            "           3       0.82      0.79      0.81       126\n",
            "           4       0.89      0.86      0.88       132\n",
            "           5       0.81      0.85      0.83       130\n",
            "           6       0.75      0.80      0.77       118\n",
            "           7       0.73      0.78      0.75       129\n",
            "\n",
            "    accuracy                           0.80       951\n",
            "   macro avg       0.80      0.80      0.79       951\n",
            "weighted avg       0.81      0.80      0.80       951\n",
            "\n"
          ]
        }
      ]
    },
    {
      "cell_type": "code",
      "source": [
        "import numpy as np\n",
        "x_traincnn = np.expand_dims(X_train, axis=2)\n",
        "x_testcnn = np.expand_dims(X_test, axis=2)"
      ],
      "metadata": {
        "id": "fXL6DU4h9bwv"
      },
      "execution_count": null,
      "outputs": []
    },
    {
      "cell_type": "code",
      "source": [
        "x_traincnn.shape, x_testcnn.shape"
      ],
      "metadata": {
        "colab": {
          "base_uri": "https://localhost:8080/"
        },
        "id": "HaikqQu7-CgV",
        "outputId": "ced1ecbd-d6f8-4898-e66e-e2fa84ede137"
      },
      "execution_count": null,
      "outputs": [
        {
          "output_type": "execute_result",
          "data": {
            "text/plain": [
              "((1929, 40, 1), (951, 40, 1))"
            ]
          },
          "metadata": {},
          "execution_count": 80
        }
      ]
    },
    {
      "cell_type": "code",
      "source": [
        "from tensorflow.keras import optimizers"
      ],
      "metadata": {
        "id": "Wpy9dVWDBkMC"
      },
      "execution_count": null,
      "outputs": []
    },
    {
      "cell_type": "code",
      "source": [
        "import keras\n",
        "import numpy as np\n",
        "import matplotlib.pyplot as plt\n",
        "import tensorflow as tf\n",
        "from keras.preprocessing import sequence\n",
        "from keras.models import Sequential\n",
        "from keras.layers import Dense, Embedding\n",
        "from tensorflow.keras.utils import to_categorical\n",
        "from keras.layers import Input, Flatten, Dropout, Activation\n",
        "from keras.layers import Conv1D, MaxPooling1D\n",
        "from keras.models import Model\n",
        "from keras.callbacks import ModelCheckpoint\n",
        "\n",
        "model = Sequential()\n",
        "\n",
        "model.add(Conv1D(64, 5,padding='same',\n",
        "                 input_shape=(40,1)))\n",
        "model.add(Activation('relu'))\n",
        "model.add(Dropout(0.1))\n",
        "model.add(MaxPooling1D(pool_size=(4)))\n",
        "model.add(Conv1D(128, 5,padding='same',))\n",
        "model.add(Activation('relu'))\n",
        "model.add(Dropout(0.1))\n",
        "model.add(MaxPooling1D(pool_size=(4)))\n",
        "model.add(Conv1D(256, 5,padding='same',))\n",
        "model.add(Activation('relu'))\n",
        "model.add(Dropout(0.1))\n",
        "model.add(Flatten())\n",
        "model.add(Dense(8))\n",
        "model.add(Activation('softmax'))\n",
        "import tensorflow\n",
        "from tensorflow.keras import optimizers\n",
        "opt = tensorflow.keras.optimizers.RMSprop(lr=0.0003,decay=1e-6)"
      ],
      "metadata": {
        "colab": {
          "base_uri": "https://localhost:8080/"
        },
        "id": "b-BsPyH1-Efd",
        "outputId": "497d90ab-42f0-4ab3-d4a7-94d46c0b91ca"
      },
      "execution_count": null,
      "outputs": [
        {
          "output_type": "stream",
          "name": "stderr",
          "text": [
            "/usr/local/lib/python3.7/dist-packages/keras/optimizer_v2/rmsprop.py:130: UserWarning: The `lr` argument is deprecated, use `learning_rate` instead.\n",
            "  super(RMSprop, self).__init__(name, **kwargs)\n"
          ]
        }
      ]
    },
    {
      "cell_type": "code",
      "source": [
        "model.summary()"
      ],
      "metadata": {
        "colab": {
          "base_uri": "https://localhost:8080/"
        },
        "id": "AFfd57Vg-G-F",
        "outputId": "9dcec056-5609-4725-e822-658bfa6726e5"
      },
      "execution_count": null,
      "outputs": [
        {
          "output_type": "stream",
          "name": "stdout",
          "text": [
            "Model: \"sequential_8\"\n",
            "_________________________________________________________________\n",
            " Layer (type)                Output Shape              Param #   \n",
            "=================================================================\n",
            " conv1d_24 (Conv1D)          (None, 40, 64)            384       \n",
            "                                                                 \n",
            " activation_32 (Activation)  (None, 40, 64)            0         \n",
            "                                                                 \n",
            " dropout_24 (Dropout)        (None, 40, 64)            0         \n",
            "                                                                 \n",
            " max_pooling1d_16 (MaxPoolin  (None, 10, 64)           0         \n",
            " g1D)                                                            \n",
            "                                                                 \n",
            " conv1d_25 (Conv1D)          (None, 10, 128)           41088     \n",
            "                                                                 \n",
            " activation_33 (Activation)  (None, 10, 128)           0         \n",
            "                                                                 \n",
            " dropout_25 (Dropout)        (None, 10, 128)           0         \n",
            "                                                                 \n",
            " max_pooling1d_17 (MaxPoolin  (None, 2, 128)           0         \n",
            " g1D)                                                            \n",
            "                                                                 \n",
            " conv1d_26 (Conv1D)          (None, 2, 256)            164096    \n",
            "                                                                 \n",
            " activation_34 (Activation)  (None, 2, 256)            0         \n",
            "                                                                 \n",
            " dropout_26 (Dropout)        (None, 2, 256)            0         \n",
            "                                                                 \n",
            " flatten_8 (Flatten)         (None, 512)               0         \n",
            "                                                                 \n",
            " dense_8 (Dense)             (None, 8)                 4104      \n",
            "                                                                 \n",
            " activation_35 (Activation)  (None, 8)                 0         \n",
            "                                                                 \n",
            "=================================================================\n",
            "Total params: 209,672\n",
            "Trainable params: 209,672\n",
            "Non-trainable params: 0\n",
            "_________________________________________________________________\n"
          ]
        }
      ]
    },
    {
      "cell_type": "code",
      "source": [
        "model.compile(loss='sparse_categorical_crossentropy',\n",
        "              optimizer=opt,\n",
        "              metrics=['accuracy'])"
      ],
      "metadata": {
        "id": "wXtqsW5y-Ivo"
      },
      "execution_count": null,
      "outputs": []
    },
    {
      "cell_type": "code",
      "source": [
        "cnnhistory=model.fit(x_traincnn, y_train, batch_size=16, epochs=200, validation_data=(x_testcnn, y_test))"
      ],
      "metadata": {
        "colab": {
          "base_uri": "https://localhost:8080/"
        },
        "id": "6iXxHB9t-KyR",
        "outputId": "0ab57568-5f03-4649-82a0-d69782e8ae8e"
      },
      "execution_count": null,
      "outputs": [
        {
          "output_type": "stream",
          "name": "stdout",
          "text": [
            "Epoch 1/200\n",
            "121/121 [==============================] - 7s 45ms/step - loss: 4.4808 - accuracy: 0.1446 - val_loss: 2.2579 - val_accuracy: 0.1682\n",
            "Epoch 2/200\n",
            "121/121 [==============================] - 4s 33ms/step - loss: 2.3077 - accuracy: 0.1923 - val_loss: 1.9394 - val_accuracy: 0.2713\n",
            "Epoch 3/200\n",
            "121/121 [==============================] - 4s 36ms/step - loss: 2.0373 - accuracy: 0.2312 - val_loss: 1.9271 - val_accuracy: 0.3176\n",
            "Epoch 4/200\n",
            "121/121 [==============================] - 3s 26ms/step - loss: 1.9276 - accuracy: 0.2509 - val_loss: 1.8157 - val_accuracy: 0.3081\n",
            "Epoch 5/200\n",
            "121/121 [==============================] - 2s 16ms/step - loss: 1.8733 - accuracy: 0.2784 - val_loss: 1.7843 - val_accuracy: 0.2997\n",
            "Epoch 6/200\n",
            "121/121 [==============================] - 2s 18ms/step - loss: 1.7952 - accuracy: 0.3188 - val_loss: 1.7157 - val_accuracy: 0.3165\n",
            "Epoch 7/200\n",
            "121/121 [==============================] - 2s 17ms/step - loss: 1.7362 - accuracy: 0.3344 - val_loss: 1.6566 - val_accuracy: 0.3670\n",
            "Epoch 8/200\n",
            "121/121 [==============================] - 2s 16ms/step - loss: 1.6804 - accuracy: 0.3665 - val_loss: 1.7548 - val_accuracy: 0.3165\n",
            "Epoch 9/200\n",
            "121/121 [==============================] - 2s 18ms/step - loss: 1.6014 - accuracy: 0.4059 - val_loss: 1.5743 - val_accuracy: 0.3985\n",
            "Epoch 10/200\n",
            "121/121 [==============================] - 2s 18ms/step - loss: 1.5740 - accuracy: 0.4147 - val_loss: 1.5910 - val_accuracy: 0.4069\n",
            "Epoch 11/200\n",
            "121/121 [==============================] - 2s 18ms/step - loss: 1.5298 - accuracy: 0.4365 - val_loss: 1.5525 - val_accuracy: 0.4406\n",
            "Epoch 12/200\n",
            "121/121 [==============================] - 2s 17ms/step - loss: 1.4753 - accuracy: 0.4406 - val_loss: 1.4718 - val_accuracy: 0.4595\n",
            "Epoch 13/200\n",
            "121/121 [==============================] - 2s 16ms/step - loss: 1.4259 - accuracy: 0.4635 - val_loss: 1.4593 - val_accuracy: 0.4784\n",
            "Epoch 14/200\n",
            "121/121 [==============================] - 2s 17ms/step - loss: 1.3842 - accuracy: 0.4946 - val_loss: 1.4831 - val_accuracy: 0.4490\n",
            "Epoch 15/200\n",
            "121/121 [==============================] - 2s 16ms/step - loss: 1.3365 - accuracy: 0.5003 - val_loss: 1.3782 - val_accuracy: 0.4963\n",
            "Epoch 16/200\n",
            "121/121 [==============================] - 2s 16ms/step - loss: 1.3103 - accuracy: 0.5251 - val_loss: 1.3780 - val_accuracy: 0.4984\n",
            "Epoch 17/200\n",
            "121/121 [==============================] - 2s 16ms/step - loss: 1.2525 - accuracy: 0.5464 - val_loss: 1.3852 - val_accuracy: 0.4711\n",
            "Epoch 18/200\n",
            "121/121 [==============================] - 2s 17ms/step - loss: 1.2391 - accuracy: 0.5521 - val_loss: 1.3237 - val_accuracy: 0.5289\n",
            "Epoch 19/200\n",
            "121/121 [==============================] - 2s 16ms/step - loss: 1.2031 - accuracy: 0.5775 - val_loss: 1.3004 - val_accuracy: 0.5478\n",
            "Epoch 20/200\n",
            "121/121 [==============================] - 2s 16ms/step - loss: 1.1493 - accuracy: 0.5811 - val_loss: 1.2419 - val_accuracy: 0.5752\n",
            "Epoch 21/200\n",
            "121/121 [==============================] - 2s 18ms/step - loss: 1.1095 - accuracy: 0.5827 - val_loss: 1.3259 - val_accuracy: 0.5089\n",
            "Epoch 22/200\n",
            "121/121 [==============================] - 2s 17ms/step - loss: 1.0713 - accuracy: 0.6174 - val_loss: 1.2242 - val_accuracy: 0.5689\n",
            "Epoch 23/200\n",
            "121/121 [==============================] - 2s 17ms/step - loss: 1.0319 - accuracy: 0.6330 - val_loss: 1.2066 - val_accuracy: 0.5689\n",
            "Epoch 24/200\n",
            "121/121 [==============================] - 2s 17ms/step - loss: 1.0222 - accuracy: 0.6283 - val_loss: 1.1091 - val_accuracy: 0.6215\n",
            "Epoch 25/200\n",
            "121/121 [==============================] - 2s 17ms/step - loss: 0.9718 - accuracy: 0.6615 - val_loss: 1.1110 - val_accuracy: 0.6215\n",
            "Epoch 26/200\n",
            "121/121 [==============================] - 2s 17ms/step - loss: 0.9545 - accuracy: 0.6516 - val_loss: 1.0790 - val_accuracy: 0.6309\n",
            "Epoch 27/200\n",
            "121/121 [==============================] - 2s 16ms/step - loss: 0.9342 - accuracy: 0.6687 - val_loss: 1.1139 - val_accuracy: 0.6120\n",
            "Epoch 28/200\n",
            "121/121 [==============================] - 2s 16ms/step - loss: 0.8895 - accuracy: 0.6910 - val_loss: 1.0093 - val_accuracy: 0.6583\n",
            "Epoch 29/200\n",
            "121/121 [==============================] - 2s 16ms/step - loss: 0.8851 - accuracy: 0.6879 - val_loss: 1.1141 - val_accuracy: 0.6057\n",
            "Epoch 30/200\n",
            "121/121 [==============================] - 2s 18ms/step - loss: 0.8520 - accuracy: 0.7009 - val_loss: 1.0043 - val_accuracy: 0.6656\n",
            "Epoch 31/200\n",
            "121/121 [==============================] - 2s 17ms/step - loss: 0.8081 - accuracy: 0.7123 - val_loss: 1.0047 - val_accuracy: 0.6688\n",
            "Epoch 32/200\n",
            "121/121 [==============================] - 2s 16ms/step - loss: 0.7889 - accuracy: 0.7206 - val_loss: 0.9840 - val_accuracy: 0.6772\n",
            "Epoch 33/200\n",
            "121/121 [==============================] - 2s 16ms/step - loss: 0.7550 - accuracy: 0.7330 - val_loss: 0.9410 - val_accuracy: 0.6951\n",
            "Epoch 34/200\n",
            "121/121 [==============================] - 2s 16ms/step - loss: 0.7467 - accuracy: 0.7211 - val_loss: 0.9763 - val_accuracy: 0.6656\n",
            "Epoch 35/200\n",
            "121/121 [==============================] - 2s 16ms/step - loss: 0.7228 - accuracy: 0.7449 - val_loss: 0.9374 - val_accuracy: 0.6993\n",
            "Epoch 36/200\n",
            "121/121 [==============================] - 2s 18ms/step - loss: 0.6909 - accuracy: 0.7579 - val_loss: 0.8825 - val_accuracy: 0.7277\n",
            "Epoch 37/200\n",
            "121/121 [==============================] - 2s 17ms/step - loss: 0.6794 - accuracy: 0.7532 - val_loss: 0.8886 - val_accuracy: 0.6930\n",
            "Epoch 38/200\n",
            "121/121 [==============================] - 2s 16ms/step - loss: 0.6648 - accuracy: 0.7688 - val_loss: 0.8423 - val_accuracy: 0.7361\n",
            "Epoch 39/200\n",
            "121/121 [==============================] - 2s 16ms/step - loss: 0.6271 - accuracy: 0.7750 - val_loss: 0.9122 - val_accuracy: 0.7003\n",
            "Epoch 40/200\n",
            "121/121 [==============================] - 2s 16ms/step - loss: 0.6149 - accuracy: 0.7729 - val_loss: 0.8200 - val_accuracy: 0.7466\n",
            "Epoch 41/200\n",
            "121/121 [==============================] - 2s 16ms/step - loss: 0.5894 - accuracy: 0.7875 - val_loss: 0.8214 - val_accuracy: 0.7371\n",
            "Epoch 42/200\n",
            "121/121 [==============================] - 2s 16ms/step - loss: 0.5795 - accuracy: 0.7900 - val_loss: 0.7768 - val_accuracy: 0.7855\n",
            "Epoch 43/200\n",
            "121/121 [==============================] - 2s 16ms/step - loss: 0.5624 - accuracy: 0.8020 - val_loss: 0.7561 - val_accuracy: 0.7781\n",
            "Epoch 44/200\n",
            "121/121 [==============================] - 2s 16ms/step - loss: 0.5707 - accuracy: 0.7983 - val_loss: 0.7372 - val_accuracy: 0.7792\n",
            "Epoch 45/200\n",
            "121/121 [==============================] - 2s 16ms/step - loss: 0.5383 - accuracy: 0.8087 - val_loss: 0.7551 - val_accuracy: 0.7781\n",
            "Epoch 46/200\n",
            "121/121 [==============================] - 2s 16ms/step - loss: 0.5203 - accuracy: 0.8077 - val_loss: 0.7902 - val_accuracy: 0.7497\n",
            "Epoch 47/200\n",
            "121/121 [==============================] - 2s 16ms/step - loss: 0.5067 - accuracy: 0.8320 - val_loss: 0.7414 - val_accuracy: 0.7992\n",
            "Epoch 48/200\n",
            "121/121 [==============================] - 2s 16ms/step - loss: 0.4835 - accuracy: 0.8274 - val_loss: 0.7629 - val_accuracy: 0.7571\n",
            "Epoch 49/200\n",
            "121/121 [==============================] - 2s 16ms/step - loss: 0.4683 - accuracy: 0.8222 - val_loss: 0.7570 - val_accuracy: 0.7697\n",
            "Epoch 50/200\n",
            "121/121 [==============================] - 2s 16ms/step - loss: 0.4572 - accuracy: 0.8403 - val_loss: 0.6682 - val_accuracy: 0.8055\n",
            "Epoch 51/200\n",
            "121/121 [==============================] - 2s 16ms/step - loss: 0.4457 - accuracy: 0.8398 - val_loss: 0.7475 - val_accuracy: 0.7634\n",
            "Epoch 52/200\n",
            "121/121 [==============================] - 2s 16ms/step - loss: 0.4352 - accuracy: 0.8512 - val_loss: 0.7292 - val_accuracy: 0.7844\n",
            "Epoch 53/200\n",
            "121/121 [==============================] - 2s 16ms/step - loss: 0.4058 - accuracy: 0.8507 - val_loss: 0.7119 - val_accuracy: 0.8023\n",
            "Epoch 54/200\n",
            "121/121 [==============================] - 2s 20ms/step - loss: 0.4070 - accuracy: 0.8559 - val_loss: 0.7405 - val_accuracy: 0.7823\n",
            "Epoch 55/200\n",
            "121/121 [==============================] - 3s 21ms/step - loss: 0.4050 - accuracy: 0.8533 - val_loss: 0.7838 - val_accuracy: 0.7708\n",
            "Epoch 56/200\n",
            "121/121 [==============================] - 2s 16ms/step - loss: 0.3852 - accuracy: 0.8580 - val_loss: 0.6420 - val_accuracy: 0.8360\n",
            "Epoch 57/200\n",
            "121/121 [==============================] - 2s 17ms/step - loss: 0.3711 - accuracy: 0.8688 - val_loss: 0.5820 - val_accuracy: 0.8318\n",
            "Epoch 58/200\n",
            "121/121 [==============================] - 2s 17ms/step - loss: 0.3550 - accuracy: 0.8828 - val_loss: 0.6471 - val_accuracy: 0.8339\n",
            "Epoch 59/200\n",
            "121/121 [==============================] - 2s 16ms/step - loss: 0.3681 - accuracy: 0.8657 - val_loss: 0.6481 - val_accuracy: 0.8254\n",
            "Epoch 60/200\n",
            "121/121 [==============================] - 2s 16ms/step - loss: 0.3656 - accuracy: 0.8704 - val_loss: 0.7042 - val_accuracy: 0.8202\n",
            "Epoch 61/200\n",
            "121/121 [==============================] - 2s 16ms/step - loss: 0.3528 - accuracy: 0.8720 - val_loss: 0.6445 - val_accuracy: 0.8402\n",
            "Epoch 62/200\n",
            "121/121 [==============================] - 2s 17ms/step - loss: 0.3308 - accuracy: 0.8860 - val_loss: 0.6442 - val_accuracy: 0.8233\n",
            "Epoch 63/200\n",
            "121/121 [==============================] - 2s 16ms/step - loss: 0.3164 - accuracy: 0.8932 - val_loss: 0.7029 - val_accuracy: 0.8233\n",
            "Epoch 64/200\n",
            "121/121 [==============================] - 2s 16ms/step - loss: 0.3064 - accuracy: 0.8911 - val_loss: 0.6741 - val_accuracy: 0.8202\n",
            "Epoch 65/200\n",
            "121/121 [==============================] - 2s 16ms/step - loss: 0.3126 - accuracy: 0.8885 - val_loss: 0.5828 - val_accuracy: 0.8686\n",
            "Epoch 66/200\n",
            "121/121 [==============================] - 2s 17ms/step - loss: 0.2968 - accuracy: 0.9046 - val_loss: 0.5889 - val_accuracy: 0.8549\n",
            "Epoch 67/200\n",
            "121/121 [==============================] - 2s 17ms/step - loss: 0.3035 - accuracy: 0.8927 - val_loss: 0.5799 - val_accuracy: 0.8696\n",
            "Epoch 68/200\n",
            "121/121 [==============================] - 2s 17ms/step - loss: 0.2882 - accuracy: 0.9077 - val_loss: 0.7659 - val_accuracy: 0.8002\n",
            "Epoch 69/200\n",
            "121/121 [==============================] - 2s 16ms/step - loss: 0.2862 - accuracy: 0.8963 - val_loss: 0.5959 - val_accuracy: 0.8612\n",
            "Epoch 70/200\n",
            "121/121 [==============================] - 2s 16ms/step - loss: 0.2762 - accuracy: 0.9088 - val_loss: 0.5884 - val_accuracy: 0.8644\n",
            "Epoch 71/200\n",
            "121/121 [==============================] - 2s 18ms/step - loss: 0.2617 - accuracy: 0.9082 - val_loss: 0.6050 - val_accuracy: 0.8612\n",
            "Epoch 72/200\n",
            "121/121 [==============================] - 2s 18ms/step - loss: 0.2567 - accuracy: 0.9139 - val_loss: 0.6040 - val_accuracy: 0.8559\n",
            "Epoch 73/200\n",
            "121/121 [==============================] - 2s 17ms/step - loss: 0.2563 - accuracy: 0.9165 - val_loss: 0.5749 - val_accuracy: 0.8707\n",
            "Epoch 74/200\n",
            "121/121 [==============================] - 2s 16ms/step - loss: 0.2388 - accuracy: 0.9253 - val_loss: 0.5780 - val_accuracy: 0.8601\n",
            "Epoch 75/200\n",
            "121/121 [==============================] - 2s 16ms/step - loss: 0.2236 - accuracy: 0.9238 - val_loss: 0.7063 - val_accuracy: 0.8328\n",
            "Epoch 76/200\n",
            "121/121 [==============================] - 2s 18ms/step - loss: 0.2321 - accuracy: 0.9186 - val_loss: 0.7686 - val_accuracy: 0.8086\n",
            "Epoch 77/200\n",
            "121/121 [==============================] - 2s 18ms/step - loss: 0.2339 - accuracy: 0.9207 - val_loss: 0.5467 - val_accuracy: 0.8791\n",
            "Epoch 78/200\n",
            "121/121 [==============================] - 2s 16ms/step - loss: 0.2396 - accuracy: 0.9248 - val_loss: 0.6474 - val_accuracy: 0.8370\n",
            "Epoch 79/200\n",
            "121/121 [==============================] - 2s 16ms/step - loss: 0.2137 - accuracy: 0.9295 - val_loss: 0.6255 - val_accuracy: 0.8591\n",
            "Epoch 80/200\n",
            "121/121 [==============================] - 2s 18ms/step - loss: 0.2056 - accuracy: 0.9331 - val_loss: 0.7193 - val_accuracy: 0.8286\n",
            "Epoch 81/200\n",
            "121/121 [==============================] - 3s 26ms/step - loss: 0.2219 - accuracy: 0.9269 - val_loss: 0.5919 - val_accuracy: 0.8686\n",
            "Epoch 82/200\n",
            "121/121 [==============================] - 2s 21ms/step - loss: 0.2315 - accuracy: 0.9186 - val_loss: 0.5474 - val_accuracy: 0.8822\n",
            "Epoch 83/200\n",
            "121/121 [==============================] - 2s 16ms/step - loss: 0.2109 - accuracy: 0.9290 - val_loss: 0.6216 - val_accuracy: 0.8623\n",
            "Epoch 84/200\n",
            "121/121 [==============================] - 2s 18ms/step - loss: 0.2009 - accuracy: 0.9279 - val_loss: 0.6370 - val_accuracy: 0.8538\n",
            "Epoch 85/200\n",
            "121/121 [==============================] - 2s 17ms/step - loss: 0.1877 - accuracy: 0.9388 - val_loss: 0.5673 - val_accuracy: 0.8885\n",
            "Epoch 86/200\n",
            "121/121 [==============================] - 2s 17ms/step - loss: 0.1985 - accuracy: 0.9399 - val_loss: 0.6131 - val_accuracy: 0.8717\n",
            "Epoch 87/200\n",
            "121/121 [==============================] - 2s 17ms/step - loss: 0.1968 - accuracy: 0.9378 - val_loss: 0.5991 - val_accuracy: 0.8812\n",
            "Epoch 88/200\n",
            "121/121 [==============================] - 2s 17ms/step - loss: 0.1815 - accuracy: 0.9336 - val_loss: 0.5499 - val_accuracy: 0.8833\n",
            "Epoch 89/200\n",
            "121/121 [==============================] - 2s 16ms/step - loss: 0.1688 - accuracy: 0.9409 - val_loss: 0.5432 - val_accuracy: 0.8780\n",
            "Epoch 90/200\n",
            "121/121 [==============================] - 2s 16ms/step - loss: 0.1762 - accuracy: 0.9347 - val_loss: 0.5955 - val_accuracy: 0.8822\n",
            "Epoch 91/200\n",
            "121/121 [==============================] - 2s 16ms/step - loss: 0.1557 - accuracy: 0.9476 - val_loss: 0.5863 - val_accuracy: 0.8896\n",
            "Epoch 92/200\n",
            "121/121 [==============================] - 2s 16ms/step - loss: 0.1824 - accuracy: 0.9414 - val_loss: 0.5991 - val_accuracy: 0.8738\n",
            "Epoch 93/200\n",
            "121/121 [==============================] - 2s 17ms/step - loss: 0.1790 - accuracy: 0.9425 - val_loss: 0.6234 - val_accuracy: 0.8728\n",
            "Epoch 94/200\n",
            "121/121 [==============================] - 2s 17ms/step - loss: 0.1674 - accuracy: 0.9497 - val_loss: 0.6283 - val_accuracy: 0.8717\n",
            "Epoch 95/200\n",
            "121/121 [==============================] - 2s 16ms/step - loss: 0.1741 - accuracy: 0.9466 - val_loss: 0.5468 - val_accuracy: 0.8917\n",
            "Epoch 96/200\n",
            "121/121 [==============================] - 2s 16ms/step - loss: 0.1601 - accuracy: 0.9466 - val_loss: 0.5869 - val_accuracy: 0.8801\n",
            "Epoch 97/200\n",
            "121/121 [==============================] - 2s 16ms/step - loss: 0.1578 - accuracy: 0.9471 - val_loss: 0.5528 - val_accuracy: 0.9033\n",
            "Epoch 98/200\n",
            "121/121 [==============================] - 2s 16ms/step - loss: 0.1407 - accuracy: 0.9533 - val_loss: 0.6531 - val_accuracy: 0.8612\n",
            "Epoch 99/200\n",
            "121/121 [==============================] - 2s 16ms/step - loss: 0.1667 - accuracy: 0.9419 - val_loss: 0.6456 - val_accuracy: 0.8791\n",
            "Epoch 100/200\n",
            "121/121 [==============================] - 2s 16ms/step - loss: 0.1649 - accuracy: 0.9388 - val_loss: 0.5890 - val_accuracy: 0.8927\n",
            "Epoch 101/200\n",
            "121/121 [==============================] - 2s 16ms/step - loss: 0.1642 - accuracy: 0.9461 - val_loss: 0.5985 - val_accuracy: 0.8749\n",
            "Epoch 102/200\n",
            "121/121 [==============================] - 2s 16ms/step - loss: 0.1660 - accuracy: 0.9450 - val_loss: 0.5752 - val_accuracy: 0.9001\n",
            "Epoch 103/200\n",
            "121/121 [==============================] - 2s 16ms/step - loss: 0.1552 - accuracy: 0.9399 - val_loss: 0.5834 - val_accuracy: 0.8875\n",
            "Epoch 104/200\n",
            "121/121 [==============================] - 2s 16ms/step - loss: 0.1531 - accuracy: 0.9518 - val_loss: 0.6563 - val_accuracy: 0.8749\n",
            "Epoch 105/200\n",
            "121/121 [==============================] - 2s 16ms/step - loss: 0.1296 - accuracy: 0.9580 - val_loss: 0.6050 - val_accuracy: 0.8833\n",
            "Epoch 106/200\n",
            "121/121 [==============================] - 2s 16ms/step - loss: 0.1621 - accuracy: 0.9487 - val_loss: 0.5430 - val_accuracy: 0.9022\n",
            "Epoch 107/200\n",
            "121/121 [==============================] - 2s 16ms/step - loss: 0.1259 - accuracy: 0.9585 - val_loss: 0.6297 - val_accuracy: 0.8822\n",
            "Epoch 108/200\n",
            "121/121 [==============================] - 2s 16ms/step - loss: 0.1238 - accuracy: 0.9606 - val_loss: 0.6253 - val_accuracy: 0.8644\n",
            "Epoch 109/200\n",
            "121/121 [==============================] - 2s 18ms/step - loss: 0.1351 - accuracy: 0.9554 - val_loss: 0.6079 - val_accuracy: 0.8833\n",
            "Epoch 110/200\n",
            "121/121 [==============================] - 2s 17ms/step - loss: 0.1299 - accuracy: 0.9559 - val_loss: 0.6500 - val_accuracy: 0.8896\n",
            "Epoch 111/200\n",
            "121/121 [==============================] - 2s 16ms/step - loss: 0.1357 - accuracy: 0.9533 - val_loss: 0.6984 - val_accuracy: 0.8728\n",
            "Epoch 112/200\n",
            "121/121 [==============================] - 2s 16ms/step - loss: 0.1426 - accuracy: 0.9544 - val_loss: 0.6238 - val_accuracy: 0.8780\n",
            "Epoch 113/200\n",
            "121/121 [==============================] - 2s 16ms/step - loss: 0.1069 - accuracy: 0.9622 - val_loss: 0.6303 - val_accuracy: 0.8822\n",
            "Epoch 114/200\n",
            "121/121 [==============================] - 2s 16ms/step - loss: 0.1367 - accuracy: 0.9523 - val_loss: 0.5567 - val_accuracy: 0.8938\n",
            "Epoch 115/200\n",
            "121/121 [==============================] - 2s 17ms/step - loss: 0.1342 - accuracy: 0.9508 - val_loss: 0.5484 - val_accuracy: 0.8980\n",
            "Epoch 116/200\n",
            "121/121 [==============================] - 2s 17ms/step - loss: 0.1260 - accuracy: 0.9570 - val_loss: 0.6063 - val_accuracy: 0.8822\n",
            "Epoch 117/200\n",
            "121/121 [==============================] - 2s 16ms/step - loss: 0.1181 - accuracy: 0.9627 - val_loss: 0.6324 - val_accuracy: 0.8938\n",
            "Epoch 118/200\n",
            "121/121 [==============================] - 2s 16ms/step - loss: 0.1255 - accuracy: 0.9559 - val_loss: 0.6896 - val_accuracy: 0.8801\n",
            "Epoch 119/200\n",
            "121/121 [==============================] - 2s 16ms/step - loss: 0.1238 - accuracy: 0.9570 - val_loss: 0.5864 - val_accuracy: 0.8885\n",
            "Epoch 120/200\n",
            "121/121 [==============================] - 2s 16ms/step - loss: 0.1242 - accuracy: 0.9565 - val_loss: 0.6188 - val_accuracy: 0.8864\n",
            "Epoch 121/200\n",
            "121/121 [==============================] - 2s 16ms/step - loss: 0.1218 - accuracy: 0.9585 - val_loss: 0.6456 - val_accuracy: 0.8833\n",
            "Epoch 122/200\n",
            "121/121 [==============================] - 2s 16ms/step - loss: 0.0988 - accuracy: 0.9668 - val_loss: 0.6119 - val_accuracy: 0.8875\n",
            "Epoch 123/200\n",
            "121/121 [==============================] - 2s 16ms/step - loss: 0.1110 - accuracy: 0.9590 - val_loss: 0.6351 - val_accuracy: 0.8885\n",
            "Epoch 124/200\n",
            "121/121 [==============================] - 2s 18ms/step - loss: 0.1241 - accuracy: 0.9585 - val_loss: 0.6557 - val_accuracy: 0.8885\n",
            "Epoch 125/200\n",
            "121/121 [==============================] - 2s 16ms/step - loss: 0.1234 - accuracy: 0.9570 - val_loss: 0.5876 - val_accuracy: 0.8970\n",
            "Epoch 126/200\n",
            "121/121 [==============================] - 2s 18ms/step - loss: 0.0895 - accuracy: 0.9705 - val_loss: 0.6153 - val_accuracy: 0.8970\n",
            "Epoch 127/200\n",
            "121/121 [==============================] - 2s 17ms/step - loss: 0.1235 - accuracy: 0.9606 - val_loss: 0.6455 - val_accuracy: 0.8822\n",
            "Epoch 128/200\n",
            "121/121 [==============================] - 2s 16ms/step - loss: 0.0918 - accuracy: 0.9715 - val_loss: 0.6091 - val_accuracy: 0.8938\n",
            "Epoch 129/200\n",
            "121/121 [==============================] - 2s 16ms/step - loss: 0.1125 - accuracy: 0.9596 - val_loss: 0.6870 - val_accuracy: 0.8791\n",
            "Epoch 130/200\n",
            "121/121 [==============================] - 2s 16ms/step - loss: 0.1095 - accuracy: 0.9647 - val_loss: 0.6051 - val_accuracy: 0.8938\n",
            "Epoch 131/200\n",
            "121/121 [==============================] - 2s 16ms/step - loss: 0.1297 - accuracy: 0.9570 - val_loss: 0.6109 - val_accuracy: 0.8885\n",
            "Epoch 132/200\n",
            "121/121 [==============================] - 2s 16ms/step - loss: 0.1033 - accuracy: 0.9606 - val_loss: 0.6395 - val_accuracy: 0.8959\n",
            "Epoch 133/200\n",
            "121/121 [==============================] - 2s 18ms/step - loss: 0.0996 - accuracy: 0.9668 - val_loss: 0.6211 - val_accuracy: 0.8875\n",
            "Epoch 134/200\n",
            "121/121 [==============================] - 2s 16ms/step - loss: 0.1000 - accuracy: 0.9673 - val_loss: 0.5868 - val_accuracy: 0.9033\n",
            "Epoch 135/200\n",
            "121/121 [==============================] - 2s 16ms/step - loss: 0.1110 - accuracy: 0.9627 - val_loss: 0.5983 - val_accuracy: 0.9012\n",
            "Epoch 136/200\n",
            "121/121 [==============================] - 2s 17ms/step - loss: 0.0996 - accuracy: 0.9694 - val_loss: 0.6609 - val_accuracy: 0.8801\n",
            "Epoch 137/200\n",
            "121/121 [==============================] - 2s 17ms/step - loss: 0.1018 - accuracy: 0.9637 - val_loss: 0.7100 - val_accuracy: 0.8780\n",
            "Epoch 138/200\n",
            "121/121 [==============================] - 2s 17ms/step - loss: 0.0799 - accuracy: 0.9741 - val_loss: 0.6343 - val_accuracy: 0.8927\n",
            "Epoch 139/200\n",
            "121/121 [==============================] - 2s 16ms/step - loss: 0.1088 - accuracy: 0.9668 - val_loss: 0.7101 - val_accuracy: 0.8833\n",
            "Epoch 140/200\n",
            "121/121 [==============================] - 2s 17ms/step - loss: 0.0842 - accuracy: 0.9705 - val_loss: 0.7294 - val_accuracy: 0.8738\n",
            "Epoch 141/200\n",
            "121/121 [==============================] - 2s 17ms/step - loss: 0.1082 - accuracy: 0.9705 - val_loss: 0.7617 - val_accuracy: 0.8801\n",
            "Epoch 142/200\n",
            "121/121 [==============================] - 2s 17ms/step - loss: 0.0816 - accuracy: 0.9736 - val_loss: 0.6404 - val_accuracy: 0.8948\n",
            "Epoch 143/200\n",
            "121/121 [==============================] - 2s 16ms/step - loss: 0.0911 - accuracy: 0.9694 - val_loss: 0.6261 - val_accuracy: 0.9012\n",
            "Epoch 144/200\n",
            "121/121 [==============================] - 2s 16ms/step - loss: 0.0790 - accuracy: 0.9751 - val_loss: 0.6522 - val_accuracy: 0.8843\n",
            "Epoch 145/200\n",
            "121/121 [==============================] - 2s 17ms/step - loss: 0.0818 - accuracy: 0.9673 - val_loss: 0.6163 - val_accuracy: 0.8864\n",
            "Epoch 146/200\n",
            "121/121 [==============================] - 2s 17ms/step - loss: 0.0785 - accuracy: 0.9746 - val_loss: 0.6683 - val_accuracy: 0.9001\n",
            "Epoch 147/200\n",
            "121/121 [==============================] - 2s 18ms/step - loss: 0.0961 - accuracy: 0.9637 - val_loss: 0.5842 - val_accuracy: 0.9033\n",
            "Epoch 148/200\n",
            "121/121 [==============================] - 2s 17ms/step - loss: 0.0911 - accuracy: 0.9705 - val_loss: 0.6508 - val_accuracy: 0.8875\n",
            "Epoch 149/200\n",
            "121/121 [==============================] - 2s 16ms/step - loss: 0.0845 - accuracy: 0.9710 - val_loss: 0.5966 - val_accuracy: 0.8970\n",
            "Epoch 150/200\n",
            "121/121 [==============================] - 2s 16ms/step - loss: 0.0975 - accuracy: 0.9710 - val_loss: 0.5949 - val_accuracy: 0.9012\n",
            "Epoch 151/200\n",
            "121/121 [==============================] - 2s 17ms/step - loss: 0.0771 - accuracy: 0.9720 - val_loss: 0.7149 - val_accuracy: 0.9012\n",
            "Epoch 152/200\n",
            "121/121 [==============================] - 2s 16ms/step - loss: 0.0759 - accuracy: 0.9715 - val_loss: 0.6815 - val_accuracy: 0.8927\n",
            "Epoch 153/200\n",
            "121/121 [==============================] - 2s 18ms/step - loss: 0.0893 - accuracy: 0.9725 - val_loss: 0.6458 - val_accuracy: 0.8970\n",
            "Epoch 154/200\n",
            "121/121 [==============================] - 2s 16ms/step - loss: 0.1017 - accuracy: 0.9642 - val_loss: 0.6808 - val_accuracy: 0.8822\n",
            "Epoch 155/200\n",
            "121/121 [==============================] - 2s 18ms/step - loss: 0.0745 - accuracy: 0.9751 - val_loss: 0.6735 - val_accuracy: 0.8885\n",
            "Epoch 156/200\n",
            "121/121 [==============================] - 2s 17ms/step - loss: 0.0843 - accuracy: 0.9756 - val_loss: 0.6804 - val_accuracy: 0.8948\n",
            "Epoch 157/200\n",
            "121/121 [==============================] - 2s 17ms/step - loss: 0.0775 - accuracy: 0.9746 - val_loss: 0.6246 - val_accuracy: 0.8991\n",
            "Epoch 158/200\n",
            "121/121 [==============================] - 2s 17ms/step - loss: 0.0633 - accuracy: 0.9767 - val_loss: 0.6592 - val_accuracy: 0.8948\n",
            "Epoch 159/200\n",
            "121/121 [==============================] - 3s 23ms/step - loss: 0.0794 - accuracy: 0.9777 - val_loss: 0.6497 - val_accuracy: 0.8938\n",
            "Epoch 160/200\n",
            "121/121 [==============================] - 3s 24ms/step - loss: 0.0860 - accuracy: 0.9736 - val_loss: 0.7302 - val_accuracy: 0.8875\n",
            "Epoch 161/200\n",
            "121/121 [==============================] - 2s 17ms/step - loss: 0.0862 - accuracy: 0.9710 - val_loss: 0.6748 - val_accuracy: 0.8896\n",
            "Epoch 162/200\n",
            "121/121 [==============================] - 2s 17ms/step - loss: 0.0973 - accuracy: 0.9673 - val_loss: 0.6405 - val_accuracy: 0.9054\n",
            "Epoch 163/200\n",
            "121/121 [==============================] - 2s 17ms/step - loss: 0.0616 - accuracy: 0.9793 - val_loss: 0.6717 - val_accuracy: 0.8906\n",
            "Epoch 164/200\n",
            "121/121 [==============================] - 2s 16ms/step - loss: 0.0715 - accuracy: 0.9777 - val_loss: 0.6870 - val_accuracy: 0.8906\n",
            "Epoch 165/200\n",
            "121/121 [==============================] - 2s 17ms/step - loss: 0.0775 - accuracy: 0.9741 - val_loss: 0.6913 - val_accuracy: 0.9033\n",
            "Epoch 166/200\n",
            "121/121 [==============================] - 2s 16ms/step - loss: 0.0757 - accuracy: 0.9782 - val_loss: 0.7246 - val_accuracy: 0.8875\n",
            "Epoch 167/200\n",
            "121/121 [==============================] - 2s 16ms/step - loss: 0.0769 - accuracy: 0.9725 - val_loss: 0.6405 - val_accuracy: 0.9001\n",
            "Epoch 168/200\n",
            "121/121 [==============================] - 2s 16ms/step - loss: 0.0680 - accuracy: 0.9787 - val_loss: 0.7335 - val_accuracy: 0.8948\n",
            "Epoch 169/200\n",
            "121/121 [==============================] - 2s 18ms/step - loss: 0.0703 - accuracy: 0.9767 - val_loss: 0.6625 - val_accuracy: 0.8959\n",
            "Epoch 170/200\n",
            "121/121 [==============================] - 2s 16ms/step - loss: 0.0822 - accuracy: 0.9762 - val_loss: 0.6801 - val_accuracy: 0.9012\n",
            "Epoch 171/200\n",
            "121/121 [==============================] - 2s 17ms/step - loss: 0.0744 - accuracy: 0.9730 - val_loss: 0.7370 - val_accuracy: 0.8948\n",
            "Epoch 172/200\n",
            "121/121 [==============================] - 2s 16ms/step - loss: 0.0693 - accuracy: 0.9787 - val_loss: 0.7038 - val_accuracy: 0.9075\n",
            "Epoch 173/200\n",
            "121/121 [==============================] - 2s 17ms/step - loss: 0.0725 - accuracy: 0.9746 - val_loss: 0.7053 - val_accuracy: 0.8875\n",
            "Epoch 174/200\n",
            "121/121 [==============================] - 2s 16ms/step - loss: 0.0678 - accuracy: 0.9808 - val_loss: 0.7271 - val_accuracy: 0.8927\n",
            "Epoch 175/200\n",
            "121/121 [==============================] - 2s 17ms/step - loss: 0.0728 - accuracy: 0.9756 - val_loss: 0.6730 - val_accuracy: 0.8980\n",
            "Epoch 176/200\n",
            "121/121 [==============================] - 2s 16ms/step - loss: 0.0762 - accuracy: 0.9741 - val_loss: 0.6741 - val_accuracy: 0.8991\n",
            "Epoch 177/200\n",
            "121/121 [==============================] - 2s 16ms/step - loss: 0.0803 - accuracy: 0.9725 - val_loss: 0.6759 - val_accuracy: 0.8959\n",
            "Epoch 178/200\n",
            "121/121 [==============================] - 2s 17ms/step - loss: 0.0812 - accuracy: 0.9736 - val_loss: 0.7037 - val_accuracy: 0.8927\n",
            "Epoch 179/200\n",
            "121/121 [==============================] - 2s 16ms/step - loss: 0.0778 - accuracy: 0.9756 - val_loss: 0.7831 - val_accuracy: 0.8885\n",
            "Epoch 180/200\n",
            "121/121 [==============================] - 2s 16ms/step - loss: 0.0836 - accuracy: 0.9653 - val_loss: 0.7485 - val_accuracy: 0.8864\n",
            "Epoch 181/200\n",
            "121/121 [==============================] - 2s 16ms/step - loss: 0.0750 - accuracy: 0.9730 - val_loss: 0.7649 - val_accuracy: 0.8970\n",
            "Epoch 182/200\n",
            "121/121 [==============================] - 2s 17ms/step - loss: 0.0793 - accuracy: 0.9689 - val_loss: 0.7030 - val_accuracy: 0.8948\n",
            "Epoch 183/200\n",
            "121/121 [==============================] - 2s 16ms/step - loss: 0.0726 - accuracy: 0.9736 - val_loss: 0.6823 - val_accuracy: 0.8959\n",
            "Epoch 184/200\n",
            "121/121 [==============================] - 2s 17ms/step - loss: 0.0623 - accuracy: 0.9762 - val_loss: 0.7228 - val_accuracy: 0.8885\n",
            "Epoch 185/200\n",
            "121/121 [==============================] - 2s 17ms/step - loss: 0.0790 - accuracy: 0.9715 - val_loss: 0.7119 - val_accuracy: 0.9012\n",
            "Epoch 186/200\n",
            "121/121 [==============================] - 2s 17ms/step - loss: 0.0737 - accuracy: 0.9756 - val_loss: 0.7178 - val_accuracy: 0.9012\n",
            "Epoch 187/200\n",
            "121/121 [==============================] - 2s 16ms/step - loss: 0.0651 - accuracy: 0.9793 - val_loss: 0.6801 - val_accuracy: 0.9054\n",
            "Epoch 188/200\n",
            "121/121 [==============================] - 2s 17ms/step - loss: 0.0744 - accuracy: 0.9782 - val_loss: 0.6522 - val_accuracy: 0.9054\n",
            "Epoch 189/200\n",
            "121/121 [==============================] - 2s 17ms/step - loss: 0.0690 - accuracy: 0.9756 - val_loss: 0.6561 - val_accuracy: 0.8948\n",
            "Epoch 190/200\n",
            "121/121 [==============================] - 2s 17ms/step - loss: 0.0674 - accuracy: 0.9798 - val_loss: 0.7177 - val_accuracy: 0.9012\n",
            "Epoch 191/200\n",
            "121/121 [==============================] - 2s 17ms/step - loss: 0.0538 - accuracy: 0.9839 - val_loss: 0.7510 - val_accuracy: 0.8991\n",
            "Epoch 192/200\n",
            "121/121 [==============================] - 2s 16ms/step - loss: 0.0602 - accuracy: 0.9782 - val_loss: 0.7320 - val_accuracy: 0.9033\n",
            "Epoch 193/200\n",
            "121/121 [==============================] - 2s 17ms/step - loss: 0.0803 - accuracy: 0.9803 - val_loss: 0.7555 - val_accuracy: 0.9001\n",
            "Epoch 194/200\n",
            "121/121 [==============================] - 2s 18ms/step - loss: 0.0660 - accuracy: 0.9782 - val_loss: 0.7726 - val_accuracy: 0.8948\n",
            "Epoch 195/200\n",
            "121/121 [==============================] - 2s 17ms/step - loss: 0.0655 - accuracy: 0.9798 - val_loss: 0.6551 - val_accuracy: 0.9075\n",
            "Epoch 196/200\n",
            "121/121 [==============================] - 2s 17ms/step - loss: 0.0578 - accuracy: 0.9813 - val_loss: 0.7516 - val_accuracy: 0.8948\n",
            "Epoch 197/200\n",
            "121/121 [==============================] - 2s 17ms/step - loss: 0.0514 - accuracy: 0.9829 - val_loss: 0.7551 - val_accuracy: 0.8948\n",
            "Epoch 198/200\n",
            "121/121 [==============================] - 2s 18ms/step - loss: 0.0637 - accuracy: 0.9819 - val_loss: 0.7220 - val_accuracy: 0.8970\n",
            "Epoch 199/200\n",
            "121/121 [==============================] - 2s 17ms/step - loss: 0.0578 - accuracy: 0.9808 - val_loss: 0.7155 - val_accuracy: 0.8970\n",
            "Epoch 200/200\n",
            "121/121 [==============================] - 2s 17ms/step - loss: 0.0760 - accuracy: 0.9762 - val_loss: 0.7394 - val_accuracy: 0.8970\n"
          ]
        }
      ]
    },
    {
      "cell_type": "code",
      "source": [
        "plt.plot(cnnhistory.history['loss'])\n",
        "plt.plot(cnnhistory.history['val_loss'])\n",
        "plt.title('model loss')\n",
        "plt.ylabel('loss')\n",
        "plt.xlabel('epoch')\n",
        "plt.legend(['train', 'test'], loc='upper left')\n",
        "plt.show()"
      ],
      "metadata": {
        "colab": {
          "base_uri": "https://localhost:8080/",
          "height": 295
        },
        "id": "xDkw_3mz-Mrl",
        "outputId": "6e168972-9987-407f-baef-ec9c83048c06"
      },
      "execution_count": null,
      "outputs": [
        {
          "output_type": "display_data",
          "data": {
            "text/plain": [
              "<Figure size 432x288 with 1 Axes>"
            ],
            "image/png": "[encoded data removed]"
          },
          "metadata": {
            "needs_background": "light"
          }
        }
      ]
    },
    {
      "cell_type": "code",
      "source": [
        "plt.plot(cnnhistory.history['accuracy'])\n",
        "plt.plot(cnnhistory.history['val_accuracy'])\n",
        "plt.title('model accuracy')\n",
        "plt.ylabel('accuracy')\n",
        "plt.xlabel('epoch')\n",
        "plt.legend(['train', 'test'], loc='upper left')\n",
        "plt.show()"
      ],
      "metadata": {
        "colab": {
          "base_uri": "https://localhost:8080/",
          "height": 295
        },
        "id": "hWXe0Bya-ihO",
        "outputId": "aa61fa08-480e-4f48-b088-72906e9b1255"
      },
      "execution_count": null,
      "outputs": [
        {
          "output_type": "display_data",
          "data": {
            "text/plain": [
              "<Figure size 432x288 with 1 Axes>"
            ],
            "image/png": "[encoded data removed]"
          },
          "metadata": {
            "needs_background": "light"
          }
        }
      ]
    },
    {
      "cell_type": "code",
      "source": [
        "predictions = np.argmax(model.predict(x_testcnn),axis=1)"
      ],
      "metadata": {
        "id": "kKCNJyTm-kOw"
      },
      "execution_count": null,
      "outputs": []
    },
    {
      "cell_type": "code",
      "source": [
        "predictions"
      ],
      "metadata": {
        "colab": {
          "base_uri": "https://localhost:8080/"
        },
        "id": "dHe36MAR-l9G",
        "outputId": "88748b40-9d3e-4500-932d-69a0476f39ef"
      },
      "execution_count": null,
      "outputs": [
        {
          "output_type": "execute_result",
          "data": {
            "text/plain": [
              "array([5, 1, 5, 3, 2, 6, 2, 4, 7, 1, 3, 1, 0, 1, 6, 1, 4, 7, 4, 7, 7, 1,\n",
              "       1, 3, 5, 4, 3, 3, 2, 6, 6, 3, 3, 6, 1, 4, 1, 1, 7, 1, 5, 1, 2, 3,\n",
              "       4, 6, 1, 6, 2, 2, 5, 4, 2, 2, 3, 2, 5, 1, 1, 6, 7, 7, 5, 5, 2, 7,\n",
              "       1, 1, 6, 2, 3, 2, 4, 5, 4, 1, 5, 3, 0, 3, 3, 4, 2, 1, 7, 6, 6, 4,\n",
              "       5, 4, 5, 3, 5, 5, 0, 5, 3, 2, 1, 4, 4, 3, 5, 6, 1, 5, 4, 4, 4, 1,\n",
              "       1, 5, 3, 5, 7, 6, 7, 7, 4, 7, 5, 3, 6, 1, 4, 5, 3, 1, 2, 2, 0, 7,\n",
              "       3, 2, 7, 3, 2, 5, 5, 7, 7, 6, 2, 1, 5, 1, 5, 7, 6, 5, 0, 3, 0, 4,\n",
              "       7, 5, 1, 7, 5, 1, 4, 1, 3, 2, 2, 4, 4, 6, 0, 6, 6, 6, 4, 4, 2, 2,\n",
              "       6, 7, 7, 3, 7, 3, 3, 4, 5, 4, 5, 3, 6, 7, 2, 2, 6, 7, 1, 7, 2, 2,\n",
              "       7, 3, 3, 2, 6, 6, 7, 2, 2, 7, 0, 3, 3, 3, 5, 5, 3, 5, 7, 7, 7, 2,\n",
              "       5, 5, 1, 7, 6, 4, 4, 3, 1, 1, 1, 5, 2, 0, 4, 1, 5, 6, 1, 4, 7, 5,\n",
              "       4, 5, 7, 2, 2, 6, 2, 6, 5, 5, 5, 0, 5, 2, 7, 0, 6, 4, 4, 1, 0, 1,\n",
              "       3, 3, 2, 6, 3, 6, 1, 1, 3, 2, 1, 7, 6, 7, 5, 1, 3, 2, 1, 2, 5, 4,\n",
              "       4, 5, 7, 7, 3, 3, 4, 7, 7, 4, 6, 0, 3, 5, 2, 2, 3, 4, 2, 4, 4, 0,\n",
              "       7, 5, 5, 3, 6, 3, 7, 2, 4, 6, 7, 4, 1, 0, 4, 7, 3, 5, 3, 7, 7, 5,\n",
              "       3, 5, 0, 7, 1, 2, 3, 1, 2, 3, 3, 1, 1, 7, 2, 4, 1, 2, 5, 6, 1, 4,\n",
              "       1, 4, 7, 5, 3, 1, 1, 5, 0, 5, 0, 0, 1, 6, 1, 1, 2, 1, 7, 6, 1, 3,\n",
              "       7, 4, 4, 4, 7, 5, 2, 6, 7, 6, 3, 4, 1, 5, 2, 3, 1, 3, 4, 3, 2, 4,\n",
              "       5, 5, 5, 3, 5, 5, 4, 2, 3, 2, 7, 2, 6, 6, 3, 5, 7, 7, 4, 7, 6, 6,\n",
              "       2, 6, 1, 1, 4, 4, 5, 4, 5, 2, 7, 2, 5, 2, 4, 3, 6, 5, 0, 3, 2, 7,\n",
              "       6, 7, 7, 2, 3, 4, 5, 0, 5, 3, 0, 7, 3, 3, 3, 4, 2, 3, 6, 7, 3, 2,\n",
              "       1, 2, 4, 7, 7, 6, 6, 1, 6, 6, 7, 3, 3, 1, 2, 4, 6, 7, 5, 3, 7, 6,\n",
              "       7, 1, 7, 2, 3, 5, 6, 0, 5, 2, 4, 6, 4, 5, 3, 2, 6, 2, 3, 2, 7, 2,\n",
              "       7, 6, 2, 5, 6, 0, 2, 4, 3, 2, 3, 5, 3, 6, 0, 5, 2, 0, 6, 1, 7, 3,\n",
              "       2, 7, 5, 5, 1, 6, 7, 4, 2, 6, 1, 6, 6, 4, 4, 2, 0, 2, 7, 5, 2, 0,\n",
              "       4, 6, 7, 6, 3, 7, 1, 1, 6, 7, 4, 7, 6, 3, 1, 2, 1, 5, 0, 7, 6, 4,\n",
              "       7, 0, 6, 2, 4, 1, 3, 1, 5, 0, 1, 1, 5, 4, 1, 5, 7, 6, 3, 6, 1, 2,\n",
              "       4, 2, 1, 7, 5, 5, 2, 4, 1, 1, 3, 2, 2, 3, 3, 1, 2, 6, 7, 5, 1, 0,\n",
              "       3, 3, 1, 3, 7, 7, 7, 6, 4, 6, 7, 2, 6, 6, 2, 3, 7, 7, 1, 5, 4, 6,\n",
              "       2, 4, 4, 7, 6, 1, 7, 4, 5, 5, 5, 6, 7, 7, 5, 1, 0, 0, 7, 6, 7, 4,\n",
              "       6, 4, 0, 4, 5, 5, 5, 1, 3, 6, 3, 2, 2, 5, 3, 5, 1, 0, 1, 1, 7, 0,\n",
              "       3, 0, 5, 1, 7, 1, 6, 7, 3, 1, 1, 3, 6, 0, 6, 6, 3, 5, 1, 7, 1, 5,\n",
              "       4, 2, 3, 6, 1, 6, 3, 7, 3, 2, 3, 5, 2, 5, 5, 4, 7, 4, 0, 3, 5, 7,\n",
              "       5, 2, 5, 0, 1, 6, 6, 2, 6, 1, 3, 5, 4, 7, 6, 6, 7, 7, 7, 4, 7, 6,\n",
              "       6, 5, 2, 4, 4, 7, 5, 2, 3, 3, 7, 6, 3, 4, 2, 1, 2, 6, 5, 2, 1, 4,\n",
              "       1, 1, 2, 3, 3, 6, 7, 2, 4, 7, 6, 4, 1, 7, 0, 7, 1, 5, 2, 2, 4, 5,\n",
              "       2, 7, 5, 3, 5, 5, 3, 1, 2, 1, 0, 0, 1, 7, 1, 4, 7, 7, 1, 1, 2, 6,\n",
              "       4, 6, 5, 1, 0, 6, 5, 2, 0, 7, 6, 1, 3, 5, 6, 4, 6, 5, 7, 4, 5, 1,\n",
              "       1, 4, 3, 0, 4, 3, 7, 2, 4, 4, 1, 4, 4, 5, 4, 1, 6, 7, 5, 5, 7, 4,\n",
              "       6, 7, 5, 5, 1, 4, 4, 4, 5, 2, 5, 6, 1, 4, 1, 7, 0, 1, 2, 1, 2, 0,\n",
              "       1, 5, 6, 5, 3, 4, 2, 4, 4, 7, 6, 3, 4, 0, 6, 7, 0, 5, 6, 1, 2, 1,\n",
              "       5, 7, 6, 7, 1, 7, 3, 4, 7, 3, 2, 6, 1, 0, 4, 1, 0, 5, 2, 5, 3, 6,\n",
              "       7, 3, 5, 0, 0, 3, 6, 2, 2, 5, 2, 3, 1, 6, 5, 2, 7, 5, 0, 3, 3, 7,\n",
              "       1, 1, 3, 5, 0])"
            ]
          },
          "metadata": {},
          "execution_count": 90
        }
      ]
    },
    {
      "cell_type": "code",
      "source": [
        "y_test"
      ],
      "metadata": {
        "colab": {
          "base_uri": "https://localhost:8080/"
        },
        "id": "qkIHOqyp-oUQ",
        "outputId": "fa2a87ee-2b77-4ac5-8658-52944ae1a0ed"
      },
      "execution_count": null,
      "outputs": [
        {
          "output_type": "execute_result",
          "data": {
            "text/plain": [
              "array([5, 1, 5, 3, 2, 6, 7, 4, 7, 1, 3, 1, 0, 1, 6, 1, 4, 7, 4, 7, 7, 1,\n",
              "       1, 3, 5, 4, 3, 3, 2, 6, 6, 0, 3, 6, 1, 4, 1, 1, 7, 1, 5, 4, 2, 3,\n",
              "       4, 6, 1, 6, 7, 2, 5, 4, 2, 2, 3, 2, 3, 1, 1, 6, 7, 7, 5, 5, 2, 7,\n",
              "       1, 1, 6, 2, 3, 2, 4, 5, 4, 1, 5, 3, 1, 3, 3, 4, 2, 1, 7, 6, 6, 4,\n",
              "       1, 4, 5, 3, 5, 3, 0, 5, 3, 2, 1, 4, 4, 3, 5, 6, 0, 5, 4, 4, 4, 1,\n",
              "       1, 5, 3, 5, 7, 6, 7, 7, 4, 7, 5, 3, 6, 1, 4, 5, 3, 1, 2, 2, 0, 7,\n",
              "       3, 2, 7, 3, 2, 5, 5, 7, 7, 6, 2, 1, 5, 4, 5, 4, 7, 5, 0, 3, 0, 4,\n",
              "       7, 1, 1, 4, 5, 1, 4, 1, 3, 2, 2, 4, 4, 6, 0, 6, 6, 6, 4, 4, 2, 2,\n",
              "       6, 7, 7, 3, 7, 3, 3, 6, 5, 4, 5, 3, 6, 7, 7, 2, 6, 7, 1, 7, 2, 2,\n",
              "       7, 3, 5, 2, 6, 6, 4, 2, 2, 7, 0, 3, 3, 3, 5, 5, 3, 5, 7, 6, 7, 2,\n",
              "       5, 5, 1, 2, 6, 4, 4, 3, 1, 1, 1, 5, 2, 0, 4, 1, 5, 6, 1, 4, 4, 5,\n",
              "       4, 5, 7, 2, 2, 6, 2, 6, 5, 5, 2, 0, 5, 2, 7, 0, 6, 4, 4, 2, 0, 1,\n",
              "       0, 3, 2, 6, 3, 6, 1, 1, 3, 2, 1, 7, 6, 7, 3, 1, 3, 4, 1, 2, 5, 4,\n",
              "       4, 5, 7, 7, 3, 3, 4, 7, 7, 4, 6, 0, 3, 5, 2, 2, 3, 4, 2, 4, 4, 0,\n",
              "       7, 5, 5, 3, 6, 3, 7, 2, 4, 6, 7, 4, 1, 0, 4, 4, 4, 3, 3, 7, 7, 2,\n",
              "       3, 5, 0, 7, 1, 2, 2, 1, 2, 3, 3, 1, 0, 7, 7, 4, 1, 2, 5, 6, 1, 4,\n",
              "       1, 4, 7, 5, 3, 1, 0, 5, 0, 5, 0, 2, 1, 6, 1, 1, 2, 1, 7, 6, 1, 3,\n",
              "       7, 4, 4, 5, 7, 5, 2, 5, 3, 6, 3, 6, 1, 5, 2, 5, 1, 3, 4, 3, 2, 4,\n",
              "       5, 5, 5, 3, 5, 5, 4, 2, 3, 2, 7, 2, 5, 6, 3, 5, 7, 7, 4, 7, 6, 6,\n",
              "       2, 6, 1, 3, 4, 4, 3, 4, 5, 7, 4, 2, 5, 2, 4, 3, 6, 5, 0, 3, 2, 7,\n",
              "       6, 7, 7, 2, 3, 4, 5, 0, 5, 3, 0, 7, 3, 3, 2, 4, 2, 3, 6, 7, 4, 2,\n",
              "       1, 5, 4, 7, 7, 6, 6, 1, 6, 6, 7, 3, 3, 1, 2, 4, 6, 2, 5, 3, 7, 6,\n",
              "       7, 1, 7, 2, 3, 5, 6, 1, 5, 7, 4, 2, 4, 5, 3, 2, 6, 2, 3, 2, 7, 2,\n",
              "       7, 6, 2, 5, 6, 0, 2, 4, 3, 2, 3, 5, 3, 6, 0, 6, 2, 0, 6, 0, 7, 3,\n",
              "       2, 4, 2, 5, 1, 6, 2, 4, 2, 6, 1, 6, 6, 4, 4, 2, 0, 2, 7, 5, 2, 1,\n",
              "       4, 6, 7, 6, 3, 7, 1, 1, 6, 7, 4, 7, 6, 3, 1, 2, 1, 5, 0, 7, 6, 4,\n",
              "       7, 0, 6, 2, 4, 1, 3, 1, 5, 0, 1, 1, 5, 4, 2, 5, 7, 6, 3, 6, 4, 4,\n",
              "       4, 2, 1, 7, 5, 2, 2, 4, 1, 1, 3, 2, 2, 3, 3, 1, 2, 6, 7, 5, 1, 0,\n",
              "       3, 3, 1, 3, 7, 2, 7, 6, 4, 6, 6, 2, 6, 6, 2, 3, 7, 7, 1, 5, 4, 6,\n",
              "       2, 4, 4, 7, 6, 1, 3, 4, 5, 5, 5, 6, 7, 7, 5, 1, 0, 0, 4, 6, 7, 4,\n",
              "       6, 4, 0, 4, 5, 5, 5, 1, 3, 6, 3, 2, 2, 2, 5, 5, 1, 0, 1, 1, 7, 2,\n",
              "       3, 0, 5, 1, 7, 1, 6, 7, 3, 1, 1, 3, 6, 0, 6, 6, 1, 3, 1, 7, 1, 5,\n",
              "       4, 2, 3, 6, 1, 6, 3, 7, 3, 2, 3, 5, 2, 5, 5, 4, 2, 4, 0, 3, 5, 7,\n",
              "       5, 2, 5, 0, 1, 6, 6, 2, 6, 1, 7, 5, 4, 7, 7, 6, 7, 7, 7, 4, 4, 6,\n",
              "       6, 5, 2, 4, 4, 7, 5, 2, 3, 3, 7, 6, 5, 4, 2, 0, 2, 6, 5, 2, 1, 4,\n",
              "       1, 1, 2, 7, 3, 7, 7, 2, 4, 7, 6, 4, 1, 7, 0, 7, 1, 5, 2, 2, 4, 5,\n",
              "       2, 7, 6, 3, 5, 5, 3, 1, 2, 1, 0, 0, 1, 7, 1, 4, 7, 4, 3, 1, 2, 6,\n",
              "       4, 7, 2, 1, 0, 6, 5, 2, 0, 7, 6, 1, 3, 5, 6, 4, 6, 5, 7, 4, 5, 3,\n",
              "       1, 4, 3, 3, 4, 3, 2, 2, 4, 4, 1, 4, 4, 5, 4, 1, 6, 7, 5, 3, 7, 4,\n",
              "       6, 7, 5, 5, 1, 4, 4, 4, 5, 2, 3, 6, 1, 4, 1, 7, 0, 1, 2, 4, 2, 0,\n",
              "       1, 5, 6, 5, 3, 5, 5, 4, 4, 7, 6, 3, 4, 0, 6, 7, 0, 5, 6, 1, 2, 1,\n",
              "       5, 7, 6, 7, 3, 7, 3, 4, 7, 3, 2, 6, 1, 0, 4, 1, 0, 5, 2, 5, 3, 2,\n",
              "       7, 3, 5, 0, 1, 3, 6, 2, 2, 5, 2, 3, 1, 6, 5, 2, 7, 5, 3, 3, 3, 7,\n",
              "       1, 0, 1, 5, 0])"
            ]
          },
          "metadata": {},
          "execution_count": 91
        }
      ]
    },
    {
      "cell_type": "code",
      "source": [
        "new_Ytest = y_test.astype(int)"
      ],
      "metadata": {
        "id": "VJHGcwLB-qVs"
      },
      "execution_count": null,
      "outputs": []
    },
    {
      "cell_type": "code",
      "source": [
        "new_Ytest"
      ],
      "metadata": {
        "colab": {
          "base_uri": "https://localhost:8080/"
        },
        "id": "v5mgC4To-sDq",
        "outputId": "3ab2d680-55be-4496-8ed1-dc82b1df1d7f"
      },
      "execution_count": null,
      "outputs": [
        {
          "output_type": "execute_result",
          "data": {
            "text/plain": [
              "array([5, 1, 5, 3, 2, 6, 7, 4, 7, 1, 3, 1, 0, 1, 6, 1, 4, 7, 4, 7, 7, 1,\n",
              "       1, 3, 5, 4, 3, 3, 2, 6, 6, 0, 3, 6, 1, 4, 1, 1, 7, 1, 5, 4, 2, 3,\n",
              "       4, 6, 1, 6, 7, 2, 5, 4, 2, 2, 3, 2, 3, 1, 1, 6, 7, 7, 5, 5, 2, 7,\n",
              "       1, 1, 6, 2, 3, 2, 4, 5, 4, 1, 5, 3, 1, 3, 3, 4, 2, 1, 7, 6, 6, 4,\n",
              "       1, 4, 5, 3, 5, 3, 0, 5, 3, 2, 1, 4, 4, 3, 5, 6, 0, 5, 4, 4, 4, 1,\n",
              "       1, 5, 3, 5, 7, 6, 7, 7, 4, 7, 5, 3, 6, 1, 4, 5, 3, 1, 2, 2, 0, 7,\n",
              "       3, 2, 7, 3, 2, 5, 5, 7, 7, 6, 2, 1, 5, 4, 5, 4, 7, 5, 0, 3, 0, 4,\n",
              "       7, 1, 1, 4, 5, 1, 4, 1, 3, 2, 2, 4, 4, 6, 0, 6, 6, 6, 4, 4, 2, 2,\n",
              "       6, 7, 7, 3, 7, 3, 3, 6, 5, 4, 5, 3, 6, 7, 7, 2, 6, 7, 1, 7, 2, 2,\n",
              "       7, 3, 5, 2, 6, 6, 4, 2, 2, 7, 0, 3, 3, 3, 5, 5, 3, 5, 7, 6, 7, 2,\n",
              "       5, 5, 1, 2, 6, 4, 4, 3, 1, 1, 1, 5, 2, 0, 4, 1, 5, 6, 1, 4, 4, 5,\n",
              "       4, 5, 7, 2, 2, 6, 2, 6, 5, 5, 2, 0, 5, 2, 7, 0, 6, 4, 4, 2, 0, 1,\n",
              "       0, 3, 2, 6, 3, 6, 1, 1, 3, 2, 1, 7, 6, 7, 3, 1, 3, 4, 1, 2, 5, 4,\n",
              "       4, 5, 7, 7, 3, 3, 4, 7, 7, 4, 6, 0, 3, 5, 2, 2, 3, 4, 2, 4, 4, 0,\n",
              "       7, 5, 5, 3, 6, 3, 7, 2, 4, 6, 7, 4, 1, 0, 4, 4, 4, 3, 3, 7, 7, 2,\n",
              "       3, 5, 0, 7, 1, 2, 2, 1, 2, 3, 3, 1, 0, 7, 7, 4, 1, 2, 5, 6, 1, 4,\n",
              "       1, 4, 7, 5, 3, 1, 0, 5, 0, 5, 0, 2, 1, 6, 1, 1, 2, 1, 7, 6, 1, 3,\n",
              "       7, 4, 4, 5, 7, 5, 2, 5, 3, 6, 3, 6, 1, 5, 2, 5, 1, 3, 4, 3, 2, 4,\n",
              "       5, 5, 5, 3, 5, 5, 4, 2, 3, 2, 7, 2, 5, 6, 3, 5, 7, 7, 4, 7, 6, 6,\n",
              "       2, 6, 1, 3, 4, 4, 3, 4, 5, 7, 4, 2, 5, 2, 4, 3, 6, 5, 0, 3, 2, 7,\n",
              "       6, 7, 7, 2, 3, 4, 5, 0, 5, 3, 0, 7, 3, 3, 2, 4, 2, 3, 6, 7, 4, 2,\n",
              "       1, 5, 4, 7, 7, 6, 6, 1, 6, 6, 7, 3, 3, 1, 2, 4, 6, 2, 5, 3, 7, 6,\n",
              "       7, 1, 7, 2, 3, 5, 6, 1, 5, 7, 4, 2, 4, 5, 3, 2, 6, 2, 3, 2, 7, 2,\n",
              "       7, 6, 2, 5, 6, 0, 2, 4, 3, 2, 3, 5, 3, 6, 0, 6, 2, 0, 6, 0, 7, 3,\n",
              "       2, 4, 2, 5, 1, 6, 2, 4, 2, 6, 1, 6, 6, 4, 4, 2, 0, 2, 7, 5, 2, 1,\n",
              "       4, 6, 7, 6, 3, 7, 1, 1, 6, 7, 4, 7, 6, 3, 1, 2, 1, 5, 0, 7, 6, 4,\n",
              "       7, 0, 6, 2, 4, 1, 3, 1, 5, 0, 1, 1, 5, 4, 2, 5, 7, 6, 3, 6, 4, 4,\n",
              "       4, 2, 1, 7, 5, 2, 2, 4, 1, 1, 3, 2, 2, 3, 3, 1, 2, 6, 7, 5, 1, 0,\n",
              "       3, 3, 1, 3, 7, 2, 7, 6, 4, 6, 6, 2, 6, 6, 2, 3, 7, 7, 1, 5, 4, 6,\n",
              "       2, 4, 4, 7, 6, 1, 3, 4, 5, 5, 5, 6, 7, 7, 5, 1, 0, 0, 4, 6, 7, 4,\n",
              "       6, 4, 0, 4, 5, 5, 5, 1, 3, 6, 3, 2, 2, 2, 5, 5, 1, 0, 1, 1, 7, 2,\n",
              "       3, 0, 5, 1, 7, 1, 6, 7, 3, 1, 1, 3, 6, 0, 6, 6, 1, 3, 1, 7, 1, 5,\n",
              "       4, 2, 3, 6, 1, 6, 3, 7, 3, 2, 3, 5, 2, 5, 5, 4, 2, 4, 0, 3, 5, 7,\n",
              "       5, 2, 5, 0, 1, 6, 6, 2, 6, 1, 7, 5, 4, 7, 7, 6, 7, 7, 7, 4, 4, 6,\n",
              "       6, 5, 2, 4, 4, 7, 5, 2, 3, 3, 7, 6, 5, 4, 2, 0, 2, 6, 5, 2, 1, 4,\n",
              "       1, 1, 2, 7, 3, 7, 7, 2, 4, 7, 6, 4, 1, 7, 0, 7, 1, 5, 2, 2, 4, 5,\n",
              "       2, 7, 6, 3, 5, 5, 3, 1, 2, 1, 0, 0, 1, 7, 1, 4, 7, 4, 3, 1, 2, 6,\n",
              "       4, 7, 2, 1, 0, 6, 5, 2, 0, 7, 6, 1, 3, 5, 6, 4, 6, 5, 7, 4, 5, 3,\n",
              "       1, 4, 3, 3, 4, 3, 2, 2, 4, 4, 1, 4, 4, 5, 4, 1, 6, 7, 5, 3, 7, 4,\n",
              "       6, 7, 5, 5, 1, 4, 4, 4, 5, 2, 3, 6, 1, 4, 1, 7, 0, 1, 2, 4, 2, 0,\n",
              "       1, 5, 6, 5, 3, 5, 5, 4, 4, 7, 6, 3, 4, 0, 6, 7, 0, 5, 6, 1, 2, 1,\n",
              "       5, 7, 6, 7, 3, 7, 3, 4, 7, 3, 2, 6, 1, 0, 4, 1, 0, 5, 2, 5, 3, 2,\n",
              "       7, 3, 5, 0, 1, 3, 6, 2, 2, 5, 2, 3, 1, 6, 5, 2, 7, 5, 3, 3, 3, 7,\n",
              "       1, 0, 1, 5, 0])"
            ]
          },
          "metadata": {},
          "execution_count": 93
        }
      ]
    },
    {
      "cell_type": "code",
      "source": [
        "from sklearn.metrics import classification_report\n",
        "report = classification_report(new_Ytest, predictions)\n",
        "print(report)"
      ],
      "metadata": {
        "colab": {
          "base_uri": "https://localhost:8080/"
        },
        "id": "atrIMBg--trS",
        "outputId": "c1b87228-86a7-4a69-8c6d-af265ccaef50"
      },
      "execution_count": null,
      "outputs": [
        {
          "output_type": "stream",
          "name": "stdout",
          "text": [
            "              precision    recall  f1-score   support\n",
            "\n",
            "           0       0.86      0.86      0.86        57\n",
            "           1       0.88      0.94      0.91       126\n",
            "           2       0.92      0.85      0.88       133\n",
            "           3       0.89      0.87      0.88       126\n",
            "           4       0.97      0.86      0.91       132\n",
            "           5       0.87      0.92      0.90       130\n",
            "           6       0.93      0.95      0.94       118\n",
            "           7       0.85      0.91      0.88       129\n",
            "\n",
            "    accuracy                           0.90       951\n",
            "   macro avg       0.90      0.90      0.89       951\n",
            "weighted avg       0.90      0.90      0.90       951\n",
            "\n"
          ]
        }
      ]
    },
    {
      "cell_type": "code",
      "source": [
        "model.save('testing_model.h5')\n",
        "print(\"MODEL SAVED\")"
      ],
      "metadata": {
        "colab": {
          "base_uri": "https://localhost:8080/"
        },
        "id": "A1nVDS_u-vln",
        "outputId": "fd06d3c3-d519-4dc1-94a1-a08b91fdfbba"
      },
      "execution_count": null,
      "outputs": [
        {
          "output_type": "stream",
          "name": "stdout",
          "text": [
            "MODEL SAVED\n"
          ]
        }
      ]
    },
    {
      "cell_type": "code",
      "source": [
        "new_model=keras.models.load_model('testing_model.h5')\n",
        "new_model.summary()"
      ],
      "metadata": {
        "colab": {
          "base_uri": "https://localhost:8080/"
        },
        "id": "Si5Z9LPD-ydk",
        "outputId": "b794cbce-0683-40e4-d035-85dde15c3d7d"
      },
      "execution_count": null,
      "outputs": [
        {
          "output_type": "stream",
          "name": "stdout",
          "text": [
            "Model: \"sequential_8\"\n",
            "_________________________________________________________________\n",
            " Layer (type)                Output Shape              Param #   \n",
            "=================================================================\n",
            " conv1d_24 (Conv1D)          (None, 40, 64)            384       \n",
            "                                                                 \n",
            " activation_32 (Activation)  (None, 40, 64)            0         \n",
            "                                                                 \n",
            " dropout_24 (Dropout)        (None, 40, 64)            0         \n",
            "                                                                 \n",
            " max_pooling1d_16 (MaxPoolin  (None, 10, 64)           0         \n",
            " g1D)                                                            \n",
            "                                                                 \n",
            " conv1d_25 (Conv1D)          (None, 10, 128)           41088     \n",
            "                                                                 \n",
            " activation_33 (Activation)  (None, 10, 128)           0         \n",
            "                                                                 \n",
            " dropout_25 (Dropout)        (None, 10, 128)           0         \n",
            "                                                                 \n",
            " max_pooling1d_17 (MaxPoolin  (None, 2, 128)           0         \n",
            " g1D)                                                            \n",
            "                                                                 \n",
            " conv1d_26 (Conv1D)          (None, 2, 256)            164096    \n",
            "                                                                 \n",
            " activation_34 (Activation)  (None, 2, 256)            0         \n",
            "                                                                 \n",
            " dropout_26 (Dropout)        (None, 2, 256)            0         \n",
            "                                                                 \n",
            " flatten_8 (Flatten)         (None, 512)               0         \n",
            "                                                                 \n",
            " dense_8 (Dense)             (None, 8)                 4104      \n",
            "                                                                 \n",
            " activation_35 (Activation)  (None, 8)                 0         \n",
            "                                                                 \n",
            "=================================================================\n",
            "Total params: 209,672\n",
            "Trainable params: 209,672\n",
            "Non-trainable params: 0\n",
            "_________________________________________________________________\n"
          ]
        }
      ]
    },
    {
      "cell_type": "code",
      "source": [
        "loss, acc = new_model.evaluate(x_testcnn, y_test)\n",
        "print(\"Restored model, accuracy: {:5.2f}%\".format(100*acc))"
      ],
      "metadata": {
        "colab": {
          "base_uri": "https://localhost:8080/"
        },
        "id": "S6BABQSC-1GF",
        "outputId": "fbf43d61-a00e-43b3-dc8d-6b7d0dfe3248"
      },
      "execution_count": null,
      "outputs": [
        {
          "output_type": "stream",
          "name": "stdout",
          "text": [
            "30/30 [==============================] - 0s 4ms/step - loss: 0.7394 - accuracy: 0.8970\n",
            "Restored model, accuracy: 89.70%\n"
          ]
        }
      ]
    },
    {
      "cell_type": "code",
      "source": [
        "model_name = 'cnnmodel.h5'\n",
        "save_dir = '/content/drive/My Drive/Colab Notebooks'\n",
        "# Save model and weights\n",
        "if not os.path.isdir(save_dir):\n",
        "    os.makedirs(save_dir)\n",
        "model_path = os.path.join(save_dir, model_name)\n",
        "model.save(model_path)\n",
        "print('Saved trained model at %s ' % model_path)"
      ],
      "metadata": {
        "colab": {
          "base_uri": "https://localhost:8080/"
        },
        "id": "6hzo4n5tWj1i",
        "outputId": "fa0647f1-2ccd-48e5-d773-858440ec0587"
      },
      "execution_count": null,
      "outputs": [
        {
          "output_type": "stream",
          "name": "stdout",
          "text": [
            "Saved trained model at /content/drive/My Drive/Colab Notebooks/cnnmodel.h5 \n"
          ]
        }
      ]
    },
    {
      "cell_type": "code",
      "source": [
        "loaded_model = keras.models.load_model('/content/drive/MyDrive/Colab Notebooks/cnnmodel.h5')\n",
        "loaded_model.summary()\n",
        "loss, acc = new_model.evaluate(x_testcnn, y_test)\n",
        "print(\"Restored model, accuracy: {:5.2f}%\".format(100*acc))"
      ],
      "metadata": {
        "colab": {
          "base_uri": "https://localhost:8080/"
        },
        "id": "6h3YLWbGWn7k",
        "outputId": "df28cac8-08b9-476c-d93e-7daf43259642"
      },
      "execution_count": null,
      "outputs": [
        {
          "output_type": "stream",
          "name": "stdout",
          "text": [
            "Model: \"sequential_8\"\n",
            "_________________________________________________________________\n",
            " Layer (type)                Output Shape              Param #   \n",
            "=================================================================\n",
            " conv1d_24 (Conv1D)          (None, 40, 64)            384       \n",
            "                                                                 \n",
            " activation_32 (Activation)  (None, 40, 64)            0         \n",
            "                                                                 \n",
            " dropout_24 (Dropout)        (None, 40, 64)            0         \n",
            "                                                                 \n",
            " max_pooling1d_16 (MaxPoolin  (None, 10, 64)           0         \n",
            " g1D)                                                            \n",
            "                                                                 \n",
            " conv1d_25 (Conv1D)          (None, 10, 128)           41088     \n",
            "                                                                 \n",
            " activation_33 (Activation)  (None, 10, 128)           0         \n",
            "                                                                 \n",
            " dropout_25 (Dropout)        (None, 10, 128)           0         \n",
            "                                                                 \n",
            " max_pooling1d_17 (MaxPoolin  (None, 2, 128)           0         \n",
            " g1D)                                                            \n",
            "                                                                 \n",
            " conv1d_26 (Conv1D)          (None, 2, 256)            164096    \n",
            "                                                                 \n",
            " activation_34 (Activation)  (None, 2, 256)            0         \n",
            "                                                                 \n",
            " dropout_26 (Dropout)        (None, 2, 256)            0         \n",
            "                                                                 \n",
            " flatten_8 (Flatten)         (None, 512)               0         \n",
            "                                                                 \n",
            " dense_8 (Dense)             (None, 8)                 4104      \n",
            "                                                                 \n",
            " activation_35 (Activation)  (None, 8)                 0         \n",
            "                                                                 \n",
            "=================================================================\n",
            "Total params: 209,672\n",
            "Trainable params: 209,672\n",
            "Non-trainable params: 0\n",
            "_________________________________________________________________\n",
            "30/30 [==============================] - 0s 4ms/step - loss: 0.7394 - accuracy: 0.8970\n",
            "Restored model, accuracy: 89.70%\n"
          ]
        }
      ]
    }
  ]
}